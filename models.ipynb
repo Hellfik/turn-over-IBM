{
  "cells": [
    {
      "cell_type": "markdown",
      "source": "# I. Import libraries, Configs",
      "metadata": {
        "tags": [],
        "cell_id": "00000-dc41f5bb-0e16-4433-919f-326a388e9e27",
        "deepnote_cell_type": "markdown"
      }
    },
    {
      "cell_type": "code",
      "metadata": {
        "tags": [],
        "cell_id": "00000-24718d73-74a8-4192-8fb8-647b0c8c04be",
        "deepnote_to_be_reexecuted": false,
        "source_hash": "241cad13",
        "execution_millis": 2131,
        "execution_start": 1618818580841,
        "deepnote_cell_type": "code"
      },
      "source": "import pandas as pd\nimport numpy as np\nimport seaborn as sns\nimport matplotlib.pyplot as plt\nimport warnings\nwarnings.filterwarnings(\"ignore\")\n\n\npd.set_option('display.float_format', lambda x: '%.3f' % x) #round float\nplt.rcParams['figure.figsize'] = (8.5, 5)\nplt.rcParams[\"patch.force_edgecolor\"] = True\nsns.mpl.rc(\"figure\", figsize=(8.5,5))\npd.set_option('max_colwidth', 400)",
      "execution_count": null,
      "outputs": []
    },
    {
      "cell_type": "markdown",
      "source": "# II. Import Data",
      "metadata": {
        "tags": [],
        "cell_id": "00002-86540f92-0195-46d2-b603-9ed6459a74b3",
        "deepnote_cell_type": "markdown"
      }
    },
    {
      "cell_type": "code",
      "metadata": {
        "tags": [],
        "cell_id": "00001-165c0aa1-5b80-4df3-a412-33c8c959ef5b",
        "deepnote_to_be_reexecuted": false,
        "source_hash": "5a99558d",
        "execution_millis": 19,
        "execution_start": 1618818585778,
        "deepnote_cell_type": "code"
      },
      "source": "train_df = pd.read_csv('/work/row/attrition_train.csv', low_memory=False)",
      "execution_count": null,
      "outputs": []
    },
    {
      "cell_type": "code",
      "metadata": {
        "tags": [],
        "cell_id": "00004-36ad490b-4b44-4a83-9f3b-03428faa16b8",
        "deepnote_to_be_reexecuted": false,
        "source_hash": "89f1c3b1",
        "execution_millis": 6,
        "execution_start": 1618818588123,
        "deepnote_cell_type": "code"
      },
      "source": "test_df = pd.read_csv('/work/row/attrition_test.csv', low_memory=False)",
      "execution_count": null,
      "outputs": []
    },
    {
      "cell_type": "code",
      "metadata": {
        "tags": [],
        "cell_id": "00005-2d999107-0747-46d6-8062-9a7606d16d68",
        "deepnote_to_be_reexecuted": false,
        "source_hash": "c2e614dd",
        "execution_millis": 10,
        "execution_start": 1618818593484,
        "deepnote_cell_type": "code"
      },
      "source": "test_df.shape",
      "execution_count": null,
      "outputs": [
        {
          "output_type": "execute_result",
          "execution_count": 4,
          "data": {
            "text/plain": "(370, 35)"
          },
          "metadata": {}
        }
      ]
    },
    {
      "cell_type": "markdown",
      "source": "# III. Data Exploratory",
      "metadata": {
        "tags": [],
        "cell_id": "00005-00fb0585-bc12-41c1-8970-8868f53b2026",
        "deepnote_cell_type": "markdown"
      }
    },
    {
      "cell_type": "code",
      "metadata": {
        "tags": [],
        "cell_id": "00002-559f4c50-9de0-489c-ad56-1774b1595c89",
        "deepnote_to_be_reexecuted": false,
        "source_hash": "11fac8d0",
        "execution_millis": 116,
        "execution_start": 1618556975836,
        "deepnote_cell_type": "code"
      },
      "source": "train_df.head(5)",
      "execution_count": null,
      "outputs": [
        {
          "output_type": "execute_result",
          "execution_count": 5,
          "data": {
            "application/vnd.deepnote.dataframe.v2+json": {
              "row_count": 5,
              "column_count": 35,
              "columns": [
                {
                  "name": "Age",
                  "dtype": "int64",
                  "stats": {
                    "unique_count": 5,
                    "nan_count": 0,
                    "min": "27",
                    "max": "52",
                    "histogram": [
                      {
                        "bin_start": 27,
                        "bin_end": 29.5,
                        "count": 2
                      },
                      {
                        "bin_start": 29.5,
                        "bin_end": 32,
                        "count": 0
                      },
                      {
                        "bin_start": 32,
                        "bin_end": 34.5,
                        "count": 0
                      },
                      {
                        "bin_start": 34.5,
                        "bin_end": 37,
                        "count": 0
                      },
                      {
                        "bin_start": 37,
                        "bin_end": 39.5,
                        "count": 1
                      },
                      {
                        "bin_start": 39.5,
                        "bin_end": 42,
                        "count": 0
                      },
                      {
                        "bin_start": 42,
                        "bin_end": 44.5,
                        "count": 1
                      },
                      {
                        "bin_start": 44.5,
                        "bin_end": 47,
                        "count": 0
                      },
                      {
                        "bin_start": 47,
                        "bin_end": 49.5,
                        "count": 0
                      },
                      {
                        "bin_start": 49.5,
                        "bin_end": 52,
                        "count": 1
                      }
                    ]
                  }
                },
                {
                  "name": "Attrition",
                  "dtype": "object",
                  "stats": {
                    "unique_count": 1,
                    "nan_count": 0,
                    "categories": [
                      {
                        "name": "No",
                        "count": 5
                      }
                    ]
                  }
                },
                {
                  "name": "BusinessTravel",
                  "dtype": "object",
                  "stats": {
                    "unique_count": 3,
                    "nan_count": 0,
                    "categories": [
                      {
                        "name": "Travel_Frequently",
                        "count": 2
                      },
                      {
                        "name": "Non-Travel",
                        "count": 2
                      },
                      {
                        "name": "Travel_Rarely",
                        "count": 1
                      }
                    ]
                  }
                },
                {
                  "name": "DailyRate",
                  "dtype": "int64",
                  "stats": {
                    "unique_count": 5,
                    "nan_count": 0,
                    "min": "240",
                    "max": "1476",
                    "histogram": [
                      {
                        "bin_start": 240,
                        "bin_end": 363.6,
                        "count": 2
                      },
                      {
                        "bin_start": 363.6,
                        "bin_end": 487.2,
                        "count": 1
                      },
                      {
                        "bin_start": 487.2,
                        "bin_end": 610.8,
                        "count": 0
                      },
                      {
                        "bin_start": 610.8,
                        "bin_end": 734.4,
                        "count": 0
                      },
                      {
                        "bin_start": 734.4,
                        "bin_end": 858,
                        "count": 0
                      },
                      {
                        "bin_start": 858,
                        "bin_end": 981.5999999999999,
                        "count": 1
                      },
                      {
                        "bin_start": 981.5999999999999,
                        "bin_end": 1105.1999999999998,
                        "count": 0
                      },
                      {
                        "bin_start": 1105.1999999999998,
                        "bin_end": 1228.8,
                        "count": 0
                      },
                      {
                        "bin_start": 1228.8,
                        "bin_end": 1352.3999999999999,
                        "count": 0
                      },
                      {
                        "bin_start": 1352.3999999999999,
                        "bin_end": 1476,
                        "count": 1
                      }
                    ]
                  }
                },
                {
                  "name": "Department",
                  "dtype": "object",
                  "stats": {
                    "unique_count": 1,
                    "nan_count": 0,
                    "categories": [
                      {
                        "name": "Research & Development",
                        "count": 5
                      }
                    ]
                  }
                },
                {
                  "name": "DistanceFromHome",
                  "dtype": "int64",
                  "stats": {
                    "unique_count": 4,
                    "nan_count": 0,
                    "min": "1",
                    "max": "28",
                    "histogram": [
                      {
                        "bin_start": 1,
                        "bin_end": 3.7,
                        "count": 4
                      },
                      {
                        "bin_start": 3.7,
                        "bin_end": 6.4,
                        "count": 0
                      },
                      {
                        "bin_start": 6.4,
                        "bin_end": 9.100000000000001,
                        "count": 0
                      },
                      {
                        "bin_start": 9.100000000000001,
                        "bin_end": 11.8,
                        "count": 0
                      },
                      {
                        "bin_start": 11.8,
                        "bin_end": 14.5,
                        "count": 0
                      },
                      {
                        "bin_start": 14.5,
                        "bin_end": 17.200000000000003,
                        "count": 0
                      },
                      {
                        "bin_start": 17.200000000000003,
                        "bin_end": 19.900000000000002,
                        "count": 0
                      },
                      {
                        "bin_start": 19.900000000000002,
                        "bin_end": 22.6,
                        "count": 0
                      },
                      {
                        "bin_start": 22.6,
                        "bin_end": 25.3,
                        "count": 0
                      },
                      {
                        "bin_start": 25.3,
                        "bin_end": 28,
                        "count": 1
                      }
                    ]
                  }
                },
                {
                  "name": "Education",
                  "dtype": "int64",
                  "stats": {
                    "unique_count": 3,
                    "nan_count": 0,
                    "min": "2",
                    "max": "4",
                    "histogram": [
                      {
                        "bin_start": 2,
                        "bin_end": 2.2,
                        "count": 1
                      },
                      {
                        "bin_start": 2.2,
                        "bin_end": 2.4,
                        "count": 0
                      },
                      {
                        "bin_start": 2.4,
                        "bin_end": 2.6,
                        "count": 0
                      },
                      {
                        "bin_start": 2.6,
                        "bin_end": 2.8,
                        "count": 0
                      },
                      {
                        "bin_start": 2.8,
                        "bin_end": 3,
                        "count": 0
                      },
                      {
                        "bin_start": 3,
                        "bin_end": 3.2,
                        "count": 3
                      },
                      {
                        "bin_start": 3.2,
                        "bin_end": 3.4000000000000004,
                        "count": 0
                      },
                      {
                        "bin_start": 3.4000000000000004,
                        "bin_end": 3.6,
                        "count": 0
                      },
                      {
                        "bin_start": 3.6,
                        "bin_end": 3.8,
                        "count": 0
                      },
                      {
                        "bin_start": 3.8,
                        "bin_end": 4,
                        "count": 1
                      }
                    ]
                  }
                },
                {
                  "name": "EducationField",
                  "dtype": "object",
                  "stats": {
                    "unique_count": 2,
                    "nan_count": 0,
                    "categories": [
                      {
                        "name": "Life Sciences",
                        "count": 3
                      },
                      {
                        "name": "Medical",
                        "count": 2
                      }
                    ]
                  }
                },
                {
                  "name": "EmployeeCount",
                  "dtype": "int64",
                  "stats": {
                    "unique_count": 1,
                    "nan_count": 0,
                    "min": "1",
                    "max": "1",
                    "histogram": [
                      {
                        "bin_start": 0.5,
                        "bin_end": 0.6,
                        "count": 0
                      },
                      {
                        "bin_start": 0.6,
                        "bin_end": 0.7,
                        "count": 0
                      },
                      {
                        "bin_start": 0.7,
                        "bin_end": 0.8,
                        "count": 0
                      },
                      {
                        "bin_start": 0.8,
                        "bin_end": 0.9,
                        "count": 0
                      },
                      {
                        "bin_start": 0.9,
                        "bin_end": 1,
                        "count": 0
                      },
                      {
                        "bin_start": 1,
                        "bin_end": 1.1,
                        "count": 5
                      },
                      {
                        "bin_start": 1.1,
                        "bin_end": 1.2000000000000002,
                        "count": 0
                      },
                      {
                        "bin_start": 1.2000000000000002,
                        "bin_end": 1.3,
                        "count": 0
                      },
                      {
                        "bin_start": 1.3,
                        "bin_end": 1.4,
                        "count": 0
                      },
                      {
                        "bin_start": 1.4,
                        "bin_end": 1.5,
                        "count": 0
                      }
                    ]
                  }
                },
                {
                  "name": "EmployeeNumber",
                  "dtype": "int64",
                  "stats": {
                    "unique_count": 5,
                    "nan_count": 0,
                    "min": "803",
                    "max": "1401",
                    "histogram": [
                      {
                        "bin_start": 803,
                        "bin_end": 862.8,
                        "count": 2
                      },
                      {
                        "bin_start": 862.8,
                        "bin_end": 922.6,
                        "count": 0
                      },
                      {
                        "bin_start": 922.6,
                        "bin_end": 982.4,
                        "count": 0
                      },
                      {
                        "bin_start": 982.4,
                        "bin_end": 1042.2,
                        "count": 0
                      },
                      {
                        "bin_start": 1042.2,
                        "bin_end": 1102,
                        "count": 0
                      },
                      {
                        "bin_start": 1102,
                        "bin_end": 1161.8,
                        "count": 0
                      },
                      {
                        "bin_start": 1161.8,
                        "bin_end": 1221.6,
                        "count": 0
                      },
                      {
                        "bin_start": 1221.6,
                        "bin_end": 1281.4,
                        "count": 1
                      },
                      {
                        "bin_start": 1281.4,
                        "bin_end": 1341.1999999999998,
                        "count": 1
                      },
                      {
                        "bin_start": 1341.1999999999998,
                        "bin_end": 1401,
                        "count": 1
                      }
                    ]
                  }
                },
                {
                  "name": "EnvironmentSatisfaction",
                  "dtype": "int64",
                  "stats": {
                    "unique_count": 3,
                    "nan_count": 0,
                    "min": "1",
                    "max": "4",
                    "histogram": [
                      {
                        "bin_start": 1,
                        "bin_end": 1.3,
                        "count": 1
                      },
                      {
                        "bin_start": 1.3,
                        "bin_end": 1.6,
                        "count": 0
                      },
                      {
                        "bin_start": 1.6,
                        "bin_end": 1.9,
                        "count": 0
                      },
                      {
                        "bin_start": 1.9,
                        "bin_end": 2.2,
                        "count": 0
                      },
                      {
                        "bin_start": 2.2,
                        "bin_end": 2.5,
                        "count": 0
                      },
                      {
                        "bin_start": 2.5,
                        "bin_end": 2.8,
                        "count": 0
                      },
                      {
                        "bin_start": 2.8,
                        "bin_end": 3.1,
                        "count": 2
                      },
                      {
                        "bin_start": 3.1,
                        "bin_end": 3.4,
                        "count": 0
                      },
                      {
                        "bin_start": 3.4,
                        "bin_end": 3.6999999999999997,
                        "count": 0
                      },
                      {
                        "bin_start": 3.6999999999999997,
                        "bin_end": 4,
                        "count": 2
                      }
                    ]
                  }
                },
                {
                  "name": "Gender",
                  "dtype": "object",
                  "stats": {
                    "unique_count": 2,
                    "nan_count": 0,
                    "categories": [
                      {
                        "name": "Female",
                        "count": 3
                      },
                      {
                        "name": "Male",
                        "count": 2
                      }
                    ]
                  }
                },
                {
                  "name": "HourlyRate",
                  "dtype": "int64",
                  "stats": {
                    "unique_count": 5,
                    "nan_count": 0,
                    "min": "50",
                    "max": "96",
                    "histogram": [
                      {
                        "bin_start": 50,
                        "bin_end": 54.6,
                        "count": 1
                      },
                      {
                        "bin_start": 54.6,
                        "bin_end": 59.2,
                        "count": 2
                      },
                      {
                        "bin_start": 59.2,
                        "bin_end": 63.8,
                        "count": 0
                      },
                      {
                        "bin_start": 63.8,
                        "bin_end": 68.4,
                        "count": 0
                      },
                      {
                        "bin_start": 68.4,
                        "bin_end": 73,
                        "count": 0
                      },
                      {
                        "bin_start": 73,
                        "bin_end": 77.6,
                        "count": 1
                      },
                      {
                        "bin_start": 77.6,
                        "bin_end": 82.19999999999999,
                        "count": 0
                      },
                      {
                        "bin_start": 82.19999999999999,
                        "bin_end": 86.8,
                        "count": 0
                      },
                      {
                        "bin_start": 86.8,
                        "bin_end": 91.4,
                        "count": 0
                      },
                      {
                        "bin_start": 91.4,
                        "bin_end": 96,
                        "count": 1
                      }
                    ]
                  }
                },
                {
                  "name": "JobInvolvement",
                  "dtype": "int64",
                  "stats": {
                    "unique_count": 3,
                    "nan_count": 0,
                    "min": "1",
                    "max": "4",
                    "histogram": [
                      {
                        "bin_start": 1,
                        "bin_end": 1.3,
                        "count": 2
                      },
                      {
                        "bin_start": 1.3,
                        "bin_end": 1.6,
                        "count": 0
                      },
                      {
                        "bin_start": 1.6,
                        "bin_end": 1.9,
                        "count": 0
                      },
                      {
                        "bin_start": 1.9,
                        "bin_end": 2.2,
                        "count": 0
                      },
                      {
                        "bin_start": 2.2,
                        "bin_end": 2.5,
                        "count": 0
                      },
                      {
                        "bin_start": 2.5,
                        "bin_end": 2.8,
                        "count": 0
                      },
                      {
                        "bin_start": 2.8,
                        "bin_end": 3.1,
                        "count": 1
                      },
                      {
                        "bin_start": 3.1,
                        "bin_end": 3.4,
                        "count": 0
                      },
                      {
                        "bin_start": 3.4,
                        "bin_end": 3.6999999999999997,
                        "count": 0
                      },
                      {
                        "bin_start": 3.6999999999999997,
                        "bin_end": 4,
                        "count": 2
                      }
                    ]
                  }
                },
                {
                  "name": "JobLevel",
                  "dtype": "int64",
                  "stats": {
                    "unique_count": 4,
                    "nan_count": 0,
                    "min": "1",
                    "max": "5",
                    "histogram": [
                      {
                        "bin_start": 1,
                        "bin_end": 1.4,
                        "count": 1
                      },
                      {
                        "bin_start": 1.4,
                        "bin_end": 1.8,
                        "count": 0
                      },
                      {
                        "bin_start": 1.8,
                        "bin_end": 2.2,
                        "count": 2
                      },
                      {
                        "bin_start": 2.2,
                        "bin_end": 2.6,
                        "count": 0
                      },
                      {
                        "bin_start": 2.6,
                        "bin_end": 3,
                        "count": 0
                      },
                      {
                        "bin_start": 3,
                        "bin_end": 3.4000000000000004,
                        "count": 0
                      },
                      {
                        "bin_start": 3.4000000000000004,
                        "bin_end": 3.8000000000000003,
                        "count": 0
                      },
                      {
                        "bin_start": 3.8000000000000003,
                        "bin_end": 4.2,
                        "count": 1
                      },
                      {
                        "bin_start": 4.2,
                        "bin_end": 4.6,
                        "count": 0
                      },
                      {
                        "bin_start": 4.6,
                        "bin_end": 5,
                        "count": 1
                      }
                    ]
                  }
                },
                {
                  "name": "JobRole",
                  "dtype": "object",
                  "stats": {
                    "unique_count": 4,
                    "nan_count": 0,
                    "categories": [
                      {
                        "name": "Manufacturing Director",
                        "count": 2
                      },
                      {
                        "name": "Laboratory Technician",
                        "count": 1
                      },
                      {
                        "name": "2 others",
                        "count": 2
                      }
                    ]
                  }
                },
                {
                  "name": "JobSatisfaction",
                  "dtype": "int64",
                  "stats": {
                    "unique_count": 3,
                    "nan_count": 0,
                    "min": "1",
                    "max": "4",
                    "histogram": [
                      {
                        "bin_start": 1,
                        "bin_end": 1.3,
                        "count": 1
                      },
                      {
                        "bin_start": 1.3,
                        "bin_end": 1.6,
                        "count": 0
                      },
                      {
                        "bin_start": 1.6,
                        "bin_end": 1.9,
                        "count": 0
                      },
                      {
                        "bin_start": 1.9,
                        "bin_end": 2.2,
                        "count": 0
                      },
                      {
                        "bin_start": 2.2,
                        "bin_end": 2.5,
                        "count": 0
                      },
                      {
                        "bin_start": 2.5,
                        "bin_end": 2.8,
                        "count": 0
                      },
                      {
                        "bin_start": 2.8,
                        "bin_end": 3.1,
                        "count": 1
                      },
                      {
                        "bin_start": 3.1,
                        "bin_end": 3.4,
                        "count": 0
                      },
                      {
                        "bin_start": 3.4,
                        "bin_end": 3.6999999999999997,
                        "count": 0
                      },
                      {
                        "bin_start": 3.6999999999999997,
                        "bin_end": 4,
                        "count": 3
                      }
                    ]
                  }
                },
                {
                  "name": "MaritalStatus",
                  "dtype": "object",
                  "stats": {
                    "unique_count": 2,
                    "nan_count": 0,
                    "categories": [
                      {
                        "name": "Married",
                        "count": 4
                      },
                      {
                        "name": "Single",
                        "count": 1
                      }
                    ]
                  }
                },
                {
                  "name": "MonthlyIncome",
                  "dtype": "int64",
                  "stats": {
                    "unique_count": 5,
                    "nan_count": 0,
                    "min": "1706",
                    "max": "19740",
                    "histogram": [
                      {
                        "bin_start": 1706,
                        "bin_end": 3509.4,
                        "count": 1
                      },
                      {
                        "bin_start": 3509.4,
                        "bin_end": 5312.8,
                        "count": 0
                      },
                      {
                        "bin_start": 5312.8,
                        "bin_end": 7116.200000000001,
                        "count": 2
                      },
                      {
                        "bin_start": 7116.200000000001,
                        "bin_end": 8919.6,
                        "count": 0
                      },
                      {
                        "bin_start": 8919.6,
                        "bin_end": 10723,
                        "count": 0
                      },
                      {
                        "bin_start": 10723,
                        "bin_end": 12526.400000000001,
                        "count": 0
                      },
                      {
                        "bin_start": 12526.400000000001,
                        "bin_end": 14329.800000000001,
                        "count": 1
                      },
                      {
                        "bin_start": 14329.800000000001,
                        "bin_end": 16133.2,
                        "count": 0
                      },
                      {
                        "bin_start": 16133.2,
                        "bin_end": 17936.6,
                        "count": 0
                      },
                      {
                        "bin_start": 17936.6,
                        "bin_end": 19740,
                        "count": 1
                      }
                    ]
                  }
                },
                {
                  "name": "MonthlyRate",
                  "dtype": "int64",
                  "stats": {
                    "unique_count": 5,
                    "nan_count": 0,
                    "min": "9731",
                    "max": "26085",
                    "histogram": [
                      {
                        "bin_start": 9731,
                        "bin_end": 11366.4,
                        "count": 1
                      },
                      {
                        "bin_start": 11366.4,
                        "bin_end": 13001.8,
                        "count": 0
                      },
                      {
                        "bin_start": 13001.8,
                        "bin_end": 14637.2,
                        "count": 0
                      },
                      {
                        "bin_start": 14637.2,
                        "bin_end": 16272.6,
                        "count": 0
                      },
                      {
                        "bin_start": 16272.6,
                        "bin_end": 17908,
                        "count": 2
                      },
                      {
                        "bin_start": 17908,
                        "bin_end": 19543.4,
                        "count": 1
                      },
                      {
                        "bin_start": 19543.4,
                        "bin_end": 21178.800000000003,
                        "count": 0
                      },
                      {
                        "bin_start": 21178.800000000003,
                        "bin_end": 22814.2,
                        "count": 0
                      },
                      {
                        "bin_start": 22814.2,
                        "bin_end": 24449.6,
                        "count": 0
                      },
                      {
                        "bin_start": 24449.6,
                        "bin_end": 26085,
                        "count": 1
                      }
                    ]
                  }
                },
                {
                  "name": "NumCompaniesWorked",
                  "dtype": "int64",
                  "stats": {
                    "unique_count": 5,
                    "nan_count": 0,
                    "min": "0",
                    "max": "6",
                    "histogram": [
                      {
                        "bin_start": 0,
                        "bin_end": 0.6,
                        "count": 1
                      },
                      {
                        "bin_start": 0.6,
                        "bin_end": 1.2,
                        "count": 1
                      },
                      {
                        "bin_start": 1.2,
                        "bin_end": 1.7999999999999998,
                        "count": 0
                      },
                      {
                        "bin_start": 1.7999999999999998,
                        "bin_end": 2.4,
                        "count": 1
                      },
                      {
                        "bin_start": 2.4,
                        "bin_end": 3,
                        "count": 0
                      },
                      {
                        "bin_start": 3,
                        "bin_end": 3.5999999999999996,
                        "count": 1
                      },
                      {
                        "bin_start": 3.5999999999999996,
                        "bin_end": 4.2,
                        "count": 0
                      },
                      {
                        "bin_start": 4.2,
                        "bin_end": 4.8,
                        "count": 0
                      },
                      {
                        "bin_start": 4.8,
                        "bin_end": 5.3999999999999995,
                        "count": 0
                      },
                      {
                        "bin_start": 5.3999999999999995,
                        "bin_end": 6,
                        "count": 1
                      }
                    ]
                  }
                },
                {
                  "name": "Over18",
                  "dtype": "object",
                  "stats": {
                    "unique_count": 1,
                    "nan_count": 0,
                    "categories": [
                      {
                        "name": "Y",
                        "count": 5
                      }
                    ]
                  }
                },
                {
                  "name": "OverTime",
                  "dtype": "object",
                  "stats": {
                    "unique_count": 2,
                    "nan_count": 0,
                    "categories": [
                      {
                        "name": "No",
                        "count": 3
                      },
                      {
                        "name": "Yes",
                        "count": 2
                      }
                    ]
                  }
                },
                {
                  "name": "PercentSalaryHike",
                  "dtype": "int64",
                  "stats": {
                    "unique_count": 3,
                    "nan_count": 0,
                    "min": "11",
                    "max": "14",
                    "histogram": [
                      {
                        "bin_start": 11,
                        "bin_end": 11.3,
                        "count": 3
                      },
                      {
                        "bin_start": 11.3,
                        "bin_end": 11.6,
                        "count": 0
                      },
                      {
                        "bin_start": 11.6,
                        "bin_end": 11.9,
                        "count": 0
                      },
                      {
                        "bin_start": 11.9,
                        "bin_end": 12.2,
                        "count": 1
                      },
                      {
                        "bin_start": 12.2,
                        "bin_end": 12.5,
                        "count": 0
                      },
                      {
                        "bin_start": 12.5,
                        "bin_end": 12.8,
                        "count": 0
                      },
                      {
                        "bin_start": 12.8,
                        "bin_end": 13.1,
                        "count": 0
                      },
                      {
                        "bin_start": 13.1,
                        "bin_end": 13.4,
                        "count": 0
                      },
                      {
                        "bin_start": 13.4,
                        "bin_end": 13.7,
                        "count": 0
                      },
                      {
                        "bin_start": 13.7,
                        "bin_end": 14,
                        "count": 1
                      }
                    ]
                  }
                },
                {
                  "name": "PerformanceRating",
                  "dtype": "int64",
                  "stats": {
                    "unique_count": 1,
                    "nan_count": 0,
                    "min": "3",
                    "max": "3",
                    "histogram": [
                      {
                        "bin_start": 2.5,
                        "bin_end": 2.6,
                        "count": 0
                      },
                      {
                        "bin_start": 2.6,
                        "bin_end": 2.7,
                        "count": 0
                      },
                      {
                        "bin_start": 2.7,
                        "bin_end": 2.8,
                        "count": 0
                      },
                      {
                        "bin_start": 2.8,
                        "bin_end": 2.9,
                        "count": 0
                      },
                      {
                        "bin_start": 2.9,
                        "bin_end": 3,
                        "count": 0
                      },
                      {
                        "bin_start": 3,
                        "bin_end": 3.1,
                        "count": 5
                      },
                      {
                        "bin_start": 3.1,
                        "bin_end": 3.2,
                        "count": 0
                      },
                      {
                        "bin_start": 3.2,
                        "bin_end": 3.3,
                        "count": 0
                      },
                      {
                        "bin_start": 3.3,
                        "bin_end": 3.4,
                        "count": 0
                      },
                      {
                        "bin_start": 3.4,
                        "bin_end": 3.5,
                        "count": 0
                      }
                    ]
                  }
                },
                {
                  "name": "RelationshipSatisfaction",
                  "dtype": "int64",
                  "stats": {
                    "unique_count": 4,
                    "nan_count": 0,
                    "min": "1",
                    "max": "4",
                    "histogram": [
                      {
                        "bin_start": 1,
                        "bin_end": 1.3,
                        "count": 1
                      },
                      {
                        "bin_start": 1.3,
                        "bin_end": 1.6,
                        "count": 0
                      },
                      {
                        "bin_start": 1.6,
                        "bin_end": 1.9,
                        "count": 0
                      },
                      {
                        "bin_start": 1.9,
                        "bin_end": 2.2,
                        "count": 2
                      },
                      {
                        "bin_start": 2.2,
                        "bin_end": 2.5,
                        "count": 0
                      },
                      {
                        "bin_start": 2.5,
                        "bin_end": 2.8,
                        "count": 0
                      },
                      {
                        "bin_start": 2.8,
                        "bin_end": 3.1,
                        "count": 1
                      },
                      {
                        "bin_start": 3.1,
                        "bin_end": 3.4,
                        "count": 0
                      },
                      {
                        "bin_start": 3.4,
                        "bin_end": 3.6999999999999997,
                        "count": 0
                      },
                      {
                        "bin_start": 3.6999999999999997,
                        "bin_end": 4,
                        "count": 1
                      }
                    ]
                  }
                },
                {
                  "name": "StandardHours",
                  "dtype": "int64",
                  "stats": {
                    "unique_count": 1,
                    "nan_count": 0,
                    "min": "80",
                    "max": "80",
                    "histogram": [
                      {
                        "bin_start": 79.5,
                        "bin_end": 79.6,
                        "count": 0
                      },
                      {
                        "bin_start": 79.6,
                        "bin_end": 79.7,
                        "count": 0
                      },
                      {
                        "bin_start": 79.7,
                        "bin_end": 79.8,
                        "count": 0
                      },
                      {
                        "bin_start": 79.8,
                        "bin_end": 79.9,
                        "count": 0
                      },
                      {
                        "bin_start": 79.9,
                        "bin_end": 80,
                        "count": 0
                      },
                      {
                        "bin_start": 80,
                        "bin_end": 80.1,
                        "count": 5
                      },
                      {
                        "bin_start": 80.1,
                        "bin_end": 80.2,
                        "count": 0
                      },
                      {
                        "bin_start": 80.2,
                        "bin_end": 80.3,
                        "count": 0
                      },
                      {
                        "bin_start": 80.3,
                        "bin_end": 80.4,
                        "count": 0
                      },
                      {
                        "bin_start": 80.4,
                        "bin_end": 80.5,
                        "count": 0
                      }
                    ]
                  }
                },
                {
                  "name": "StockOptionLevel",
                  "dtype": "int64",
                  "stats": {
                    "unique_count": 3,
                    "nan_count": 0,
                    "min": "0",
                    "max": "3",
                    "histogram": [
                      {
                        "bin_start": 0,
                        "bin_end": 0.3,
                        "count": 1
                      },
                      {
                        "bin_start": 0.3,
                        "bin_end": 0.6,
                        "count": 0
                      },
                      {
                        "bin_start": 0.6,
                        "bin_end": 0.8999999999999999,
                        "count": 0
                      },
                      {
                        "bin_start": 0.8999999999999999,
                        "bin_end": 1.2,
                        "count": 2
                      },
                      {
                        "bin_start": 1.2,
                        "bin_end": 1.5,
                        "count": 0
                      },
                      {
                        "bin_start": 1.5,
                        "bin_end": 1.7999999999999998,
                        "count": 0
                      },
                      {
                        "bin_start": 1.7999999999999998,
                        "bin_end": 2.1,
                        "count": 0
                      },
                      {
                        "bin_start": 2.1,
                        "bin_end": 2.4,
                        "count": 0
                      },
                      {
                        "bin_start": 2.4,
                        "bin_end": 2.6999999999999997,
                        "count": 0
                      },
                      {
                        "bin_start": 2.6999999999999997,
                        "bin_end": 3,
                        "count": 2
                      }
                    ]
                  }
                },
                {
                  "name": "TotalWorkingYears",
                  "dtype": "int64",
                  "stats": {
                    "unique_count": 5,
                    "nan_count": 0,
                    "min": "0",
                    "max": "25",
                    "histogram": [
                      {
                        "bin_start": 0,
                        "bin_end": 2.5,
                        "count": 1
                      },
                      {
                        "bin_start": 2.5,
                        "bin_end": 5,
                        "count": 0
                      },
                      {
                        "bin_start": 5,
                        "bin_end": 7.5,
                        "count": 0
                      },
                      {
                        "bin_start": 7.5,
                        "bin_end": 10,
                        "count": 0
                      },
                      {
                        "bin_start": 10,
                        "bin_end": 12.5,
                        "count": 1
                      },
                      {
                        "bin_start": 12.5,
                        "bin_end": 15,
                        "count": 0
                      },
                      {
                        "bin_start": 15,
                        "bin_end": 17.5,
                        "count": 1
                      },
                      {
                        "bin_start": 17.5,
                        "bin_end": 20,
                        "count": 0
                      },
                      {
                        "bin_start": 20,
                        "bin_end": 22.5,
                        "count": 0
                      },
                      {
                        "bin_start": 22.5,
                        "bin_end": 25,
                        "count": 2
                      }
                    ]
                  }
                },
                {
                  "name": "TrainingTimesLastYear",
                  "dtype": "int64",
                  "stats": {
                    "unique_count": 3,
                    "nan_count": 0,
                    "min": "2",
                    "max": "6",
                    "histogram": [
                      {
                        "bin_start": 2,
                        "bin_end": 2.4,
                        "count": 2
                      },
                      {
                        "bin_start": 2.4,
                        "bin_end": 2.8,
                        "count": 0
                      },
                      {
                        "bin_start": 2.8,
                        "bin_end": 3.2,
                        "count": 1
                      },
                      {
                        "bin_start": 3.2,
                        "bin_end": 3.6,
                        "count": 0
                      },
                      {
                        "bin_start": 3.6,
                        "bin_end": 4,
                        "count": 0
                      },
                      {
                        "bin_start": 4,
                        "bin_end": 4.4,
                        "count": 0
                      },
                      {
                        "bin_start": 4.4,
                        "bin_end": 4.800000000000001,
                        "count": 0
                      },
                      {
                        "bin_start": 4.800000000000001,
                        "bin_end": 5.2,
                        "count": 0
                      },
                      {
                        "bin_start": 5.2,
                        "bin_end": 5.6,
                        "count": 0
                      },
                      {
                        "bin_start": 5.6,
                        "bin_end": 6,
                        "count": 2
                      }
                    ]
                  }
                },
                {
                  "name": "WorkLifeBalance",
                  "dtype": "int64",
                  "stats": {
                    "unique_count": 2,
                    "nan_count": 0,
                    "min": "2",
                    "max": "3",
                    "histogram": [
                      {
                        "bin_start": 2,
                        "bin_end": 2.1,
                        "count": 2
                      },
                      {
                        "bin_start": 2.1,
                        "bin_end": 2.2,
                        "count": 0
                      },
                      {
                        "bin_start": 2.2,
                        "bin_end": 2.3,
                        "count": 0
                      },
                      {
                        "bin_start": 2.3,
                        "bin_end": 2.4,
                        "count": 0
                      },
                      {
                        "bin_start": 2.4,
                        "bin_end": 2.5,
                        "count": 0
                      },
                      {
                        "bin_start": 2.5,
                        "bin_end": 2.6,
                        "count": 0
                      },
                      {
                        "bin_start": 2.6,
                        "bin_end": 2.7,
                        "count": 0
                      },
                      {
                        "bin_start": 2.7,
                        "bin_end": 2.8,
                        "count": 0
                      },
                      {
                        "bin_start": 2.8,
                        "bin_end": 2.9,
                        "count": 0
                      },
                      {
                        "bin_start": 2.9,
                        "bin_end": 3,
                        "count": 3
                      }
                    ]
                  }
                },
                {
                  "name": "YearsAtCompany",
                  "dtype": "int64",
                  "stats": {
                    "unique_count": 5,
                    "nan_count": 0,
                    "min": "0",
                    "max": "15",
                    "histogram": [
                      {
                        "bin_start": 0,
                        "bin_end": 1.5,
                        "count": 1
                      },
                      {
                        "bin_start": 1.5,
                        "bin_end": 3,
                        "count": 0
                      },
                      {
                        "bin_start": 3,
                        "bin_end": 4.5,
                        "count": 0
                      },
                      {
                        "bin_start": 4.5,
                        "bin_end": 6,
                        "count": 1
                      },
                      {
                        "bin_start": 6,
                        "bin_end": 7.5,
                        "count": 0
                      },
                      {
                        "bin_start": 7.5,
                        "bin_end": 9,
                        "count": 1
                      },
                      {
                        "bin_start": 9,
                        "bin_end": 10.5,
                        "count": 1
                      },
                      {
                        "bin_start": 10.5,
                        "bin_end": 12,
                        "count": 0
                      },
                      {
                        "bin_start": 12,
                        "bin_end": 13.5,
                        "count": 0
                      },
                      {
                        "bin_start": 13.5,
                        "bin_end": 15,
                        "count": 1
                      }
                    ]
                  }
                },
                {
                  "name": "YearsInCurrentRole",
                  "dtype": "int64",
                  "stats": {
                    "unique_count": 4,
                    "nan_count": 0,
                    "min": "0",
                    "max": "8",
                    "histogram": [
                      {
                        "bin_start": 0,
                        "bin_end": 0.8,
                        "count": 1
                      },
                      {
                        "bin_start": 0.8,
                        "bin_end": 1.6,
                        "count": 0
                      },
                      {
                        "bin_start": 1.6,
                        "bin_end": 2.4000000000000004,
                        "count": 0
                      },
                      {
                        "bin_start": 2.4000000000000004,
                        "bin_end": 3.2,
                        "count": 1
                      },
                      {
                        "bin_start": 3.2,
                        "bin_end": 4,
                        "count": 0
                      },
                      {
                        "bin_start": 4,
                        "bin_end": 4.800000000000001,
                        "count": 0
                      },
                      {
                        "bin_start": 4.800000000000001,
                        "bin_end": 5.6000000000000005,
                        "count": 0
                      },
                      {
                        "bin_start": 5.6000000000000005,
                        "bin_end": 6.4,
                        "count": 0
                      },
                      {
                        "bin_start": 6.4,
                        "bin_end": 7.2,
                        "count": 2
                      },
                      {
                        "bin_start": 7.2,
                        "bin_end": 8,
                        "count": 1
                      }
                    ]
                  }
                },
                {
                  "name": "YearsSinceLastPromotion",
                  "dtype": "int64",
                  "stats": {
                    "unique_count": 3,
                    "nan_count": 0,
                    "min": "0",
                    "max": "7",
                    "histogram": [
                      {
                        "bin_start": 0,
                        "bin_end": 0.7,
                        "count": 3
                      },
                      {
                        "bin_start": 0.7,
                        "bin_end": 1.4,
                        "count": 0
                      },
                      {
                        "bin_start": 1.4,
                        "bin_end": 2.0999999999999996,
                        "count": 0
                      },
                      {
                        "bin_start": 2.0999999999999996,
                        "bin_end": 2.8,
                        "count": 0
                      },
                      {
                        "bin_start": 2.8,
                        "bin_end": 3.5,
                        "count": 0
                      },
                      {
                        "bin_start": 3.5,
                        "bin_end": 4.199999999999999,
                        "count": 1
                      },
                      {
                        "bin_start": 4.199999999999999,
                        "bin_end": 4.8999999999999995,
                        "count": 0
                      },
                      {
                        "bin_start": 4.8999999999999995,
                        "bin_end": 5.6,
                        "count": 0
                      },
                      {
                        "bin_start": 5.6,
                        "bin_end": 6.3,
                        "count": 0
                      },
                      {
                        "bin_start": 6.3,
                        "bin_end": 7,
                        "count": 1
                      }
                    ]
                  }
                },
                {
                  "name": "YearsWithCurrManager",
                  "dtype": "int64",
                  "stats": {
                    "unique_count": 5,
                    "nan_count": 0,
                    "min": "0",
                    "max": "12",
                    "histogram": [
                      {
                        "bin_start": 0,
                        "bin_end": 1.2,
                        "count": 1
                      },
                      {
                        "bin_start": 1.2,
                        "bin_end": 2.4,
                        "count": 1
                      },
                      {
                        "bin_start": 2.4,
                        "bin_end": 3.5999999999999996,
                        "count": 0
                      },
                      {
                        "bin_start": 3.5999999999999996,
                        "bin_end": 4.8,
                        "count": 0
                      },
                      {
                        "bin_start": 4.8,
                        "bin_end": 6,
                        "count": 1
                      },
                      {
                        "bin_start": 6,
                        "bin_end": 7.199999999999999,
                        "count": 1
                      },
                      {
                        "bin_start": 7.199999999999999,
                        "bin_end": 8.4,
                        "count": 0
                      },
                      {
                        "bin_start": 8.4,
                        "bin_end": 9.6,
                        "count": 0
                      },
                      {
                        "bin_start": 9.6,
                        "bin_end": 10.799999999999999,
                        "count": 0
                      },
                      {
                        "bin_start": 10.799999999999999,
                        "bin_end": 12,
                        "count": 1
                      }
                    ]
                  }
                },
                {
                  "name": "_deepnote_index_column",
                  "dtype": "int64"
                }
              ],
              "rows_top": [
                {
                  "Age": 38,
                  "Attrition": "No",
                  "BusinessTravel": "Travel_Frequently",
                  "DailyRate": 240,
                  "Department": "Research & Development",
                  "DistanceFromHome": 2,
                  "Education": 4,
                  "EducationField": "Life Sciences",
                  "EmployeeCount": 1,
                  "EmployeeNumber": 803,
                  "EnvironmentSatisfaction": 1,
                  "Gender": "Female",
                  "HourlyRate": 75,
                  "JobInvolvement": 4,
                  "JobLevel": 2,
                  "JobRole": "Manufacturing Director",
                  "JobSatisfaction": 1,
                  "MaritalStatus": "Single",
                  "MonthlyIncome": 5980,
                  "MonthlyRate": 26085,
                  "NumCompaniesWorked": 6,
                  "Over18": "Y",
                  "OverTime": "Yes",
                  "PercentSalaryHike": 12,
                  "PerformanceRating": 3,
                  "RelationshipSatisfaction": 4,
                  "StandardHours": 80,
                  "StockOptionLevel": 0,
                  "TotalWorkingYears": 17,
                  "TrainingTimesLastYear": 2,
                  "WorkLifeBalance": 3,
                  "YearsAtCompany": 15,
                  "YearsInCurrentRole": 7,
                  "YearsSinceLastPromotion": 4,
                  "YearsWithCurrManager": 12,
                  "_deepnote_index_column": 0
                },
                {
                  "Age": 52,
                  "Attrition": "No",
                  "BusinessTravel": "Travel_Frequently",
                  "DailyRate": 322,
                  "Department": "Research & Development",
                  "DistanceFromHome": 28,
                  "Education": 2,
                  "EducationField": "Medical",
                  "EmployeeCount": 1,
                  "EmployeeNumber": 1401,
                  "EnvironmentSatisfaction": 4,
                  "Gender": "Female",
                  "HourlyRate": 59,
                  "JobInvolvement": 4,
                  "JobLevel": 4,
                  "JobRole": "Manufacturing Director",
                  "JobSatisfaction": 3,
                  "MaritalStatus": "Married",
                  "MonthlyIncome": 13247,
                  "MonthlyRate": 9731,
                  "NumCompaniesWorked": 2,
                  "Over18": "Y",
                  "OverTime": "Yes",
                  "PercentSalaryHike": 11,
                  "PerformanceRating": 3,
                  "RelationshipSatisfaction": 2,
                  "StandardHours": 80,
                  "StockOptionLevel": 1,
                  "TotalWorkingYears": 24,
                  "TrainingTimesLastYear": 3,
                  "WorkLifeBalance": 2,
                  "YearsAtCompany": 5,
                  "YearsInCurrentRole": 3,
                  "YearsSinceLastPromotion": 0,
                  "YearsWithCurrManager": 2,
                  "_deepnote_index_column": 1
                },
                {
                  "Age": 28,
                  "Attrition": "No",
                  "BusinessTravel": "Non-Travel",
                  "DailyRate": 1476,
                  "Department": "Research & Development",
                  "DistanceFromHome": 1,
                  "Education": 3,
                  "EducationField": "Life Sciences",
                  "EmployeeCount": 1,
                  "EmployeeNumber": 1315,
                  "EnvironmentSatisfaction": 3,
                  "Gender": "Female",
                  "HourlyRate": 55,
                  "JobInvolvement": 1,
                  "JobLevel": 2,
                  "JobRole": "Laboratory Technician",
                  "JobSatisfaction": 4,
                  "MaritalStatus": "Married",
                  "MonthlyIncome": 6674,
                  "MonthlyRate": 16392,
                  "NumCompaniesWorked": 0,
                  "Over18": "Y",
                  "OverTime": "No",
                  "PercentSalaryHike": 11,
                  "PerformanceRating": 3,
                  "RelationshipSatisfaction": 1,
                  "StandardHours": 80,
                  "StockOptionLevel": 3,
                  "TotalWorkingYears": 10,
                  "TrainingTimesLastYear": 6,
                  "WorkLifeBalance": 3,
                  "YearsAtCompany": 9,
                  "YearsInCurrentRole": 8,
                  "YearsSinceLastPromotion": 7,
                  "YearsWithCurrManager": 5,
                  "_deepnote_index_column": 2
                },
                {
                  "Age": 43,
                  "Attrition": "No",
                  "BusinessTravel": "Travel_Rarely",
                  "DailyRate": 920,
                  "Department": "Research & Development",
                  "DistanceFromHome": 3,
                  "Education": 3,
                  "EducationField": "Life Sciences",
                  "EmployeeCount": 1,
                  "EmployeeNumber": 1255,
                  "EnvironmentSatisfaction": 3,
                  "Gender": "Male",
                  "HourlyRate": 96,
                  "JobInvolvement": 1,
                  "JobLevel": 5,
                  "JobRole": "Research Director",
                  "JobSatisfaction": 4,
                  "MaritalStatus": "Married",
                  "MonthlyIncome": 19740,
                  "MonthlyRate": 18625,
                  "NumCompaniesWorked": 3,
                  "Over18": "Y",
                  "OverTime": "No",
                  "PercentSalaryHike": 14,
                  "PerformanceRating": 3,
                  "RelationshipSatisfaction": 2,
                  "StandardHours": 80,
                  "StockOptionLevel": 1,
                  "TotalWorkingYears": 25,
                  "TrainingTimesLastYear": 2,
                  "WorkLifeBalance": 3,
                  "YearsAtCompany": 8,
                  "YearsInCurrentRole": 7,
                  "YearsSinceLastPromotion": 0,
                  "YearsWithCurrManager": 7,
                  "_deepnote_index_column": 3
                },
                {
                  "Age": 27,
                  "Attrition": "No",
                  "BusinessTravel": "Non-Travel",
                  "DailyRate": 443,
                  "Department": "Research & Development",
                  "DistanceFromHome": 3,
                  "Education": 3,
                  "EducationField": "Medical",
                  "EmployeeCount": 1,
                  "EmployeeNumber": 850,
                  "EnvironmentSatisfaction": 4,
                  "Gender": "Male",
                  "HourlyRate": 50,
                  "JobInvolvement": 3,
                  "JobLevel": 1,
                  "JobRole": "Research Scientist",
                  "JobSatisfaction": 4,
                  "MaritalStatus": "Married",
                  "MonthlyIncome": 1706,
                  "MonthlyRate": 16571,
                  "NumCompaniesWorked": 1,
                  "Over18": "Y",
                  "OverTime": "No",
                  "PercentSalaryHike": 11,
                  "PerformanceRating": 3,
                  "RelationshipSatisfaction": 3,
                  "StandardHours": 80,
                  "StockOptionLevel": 3,
                  "TotalWorkingYears": 0,
                  "TrainingTimesLastYear": 6,
                  "WorkLifeBalance": 2,
                  "YearsAtCompany": 0,
                  "YearsInCurrentRole": 0,
                  "YearsSinceLastPromotion": 0,
                  "YearsWithCurrManager": 0,
                  "_deepnote_index_column": 4
                }
              ],
              "rows_bottom": null
            },
            "text/plain": "   Age Attrition     BusinessTravel  DailyRate              Department  \\\n0   38        No  Travel_Frequently        240  Research & Development   \n1   52        No  Travel_Frequently        322  Research & Development   \n2   28        No         Non-Travel       1476  Research & Development   \n3   43        No      Travel_Rarely        920  Research & Development   \n4   27        No         Non-Travel        443  Research & Development   \n\n   DistanceFromHome  Education EducationField  EmployeeCount  EmployeeNumber  \\\n0                 2          4  Life Sciences              1             803   \n1                28          2        Medical              1            1401   \n2                 1          3  Life Sciences              1            1315   \n3                 3          3  Life Sciences              1            1255   \n4                 3          3        Medical              1             850   \n\n   ...  RelationshipSatisfaction StandardHours  StockOptionLevel  \\\n0  ...                         4            80                 0   \n1  ...                         2            80                 1   \n2  ...                         1            80                 3   \n3  ...                         2            80                 1   \n4  ...                         3            80                 3   \n\n   TotalWorkingYears  TrainingTimesLastYear WorkLifeBalance  YearsAtCompany  \\\n0                 17                      2               3              15   \n1                 24                      3               2               5   \n2                 10                      6               3               9   \n3                 25                      2               3               8   \n4                  0                      6               2               0   \n\n  YearsInCurrentRole  YearsSinceLastPromotion  YearsWithCurrManager  \n0                  7                        4                    12  \n1                  3                        0                     2  \n2                  8                        7                     5  \n3                  7                        0                     7  \n4                  0                        0                     0  \n\n[5 rows x 35 columns]",
            "text/html": "<div>\n<style scoped>\n    .dataframe tbody tr th:only-of-type {\n        vertical-align: middle;\n    }\n\n    .dataframe tbody tr th {\n        vertical-align: top;\n    }\n\n    .dataframe thead th {\n        text-align: right;\n    }\n</style>\n<table border=\"1\" class=\"dataframe\">\n  <thead>\n    <tr style=\"text-align: right;\">\n      <th></th>\n      <th>Age</th>\n      <th>Attrition</th>\n      <th>BusinessTravel</th>\n      <th>DailyRate</th>\n      <th>Department</th>\n      <th>DistanceFromHome</th>\n      <th>Education</th>\n      <th>EducationField</th>\n      <th>EmployeeCount</th>\n      <th>EmployeeNumber</th>\n      <th>...</th>\n      <th>RelationshipSatisfaction</th>\n      <th>StandardHours</th>\n      <th>StockOptionLevel</th>\n      <th>TotalWorkingYears</th>\n      <th>TrainingTimesLastYear</th>\n      <th>WorkLifeBalance</th>\n      <th>YearsAtCompany</th>\n      <th>YearsInCurrentRole</th>\n      <th>YearsSinceLastPromotion</th>\n      <th>YearsWithCurrManager</th>\n    </tr>\n  </thead>\n  <tbody>\n    <tr>\n      <th>0</th>\n      <td>38</td>\n      <td>No</td>\n      <td>Travel_Frequently</td>\n      <td>240</td>\n      <td>Research &amp; Development</td>\n      <td>2</td>\n      <td>4</td>\n      <td>Life Sciences</td>\n      <td>1</td>\n      <td>803</td>\n      <td>...</td>\n      <td>4</td>\n      <td>80</td>\n      <td>0</td>\n      <td>17</td>\n      <td>2</td>\n      <td>3</td>\n      <td>15</td>\n      <td>7</td>\n      <td>4</td>\n      <td>12</td>\n    </tr>\n    <tr>\n      <th>1</th>\n      <td>52</td>\n      <td>No</td>\n      <td>Travel_Frequently</td>\n      <td>322</td>\n      <td>Research &amp; Development</td>\n      <td>28</td>\n      <td>2</td>\n      <td>Medical</td>\n      <td>1</td>\n      <td>1401</td>\n      <td>...</td>\n      <td>2</td>\n      <td>80</td>\n      <td>1</td>\n      <td>24</td>\n      <td>3</td>\n      <td>2</td>\n      <td>5</td>\n      <td>3</td>\n      <td>0</td>\n      <td>2</td>\n    </tr>\n    <tr>\n      <th>2</th>\n      <td>28</td>\n      <td>No</td>\n      <td>Non-Travel</td>\n      <td>1476</td>\n      <td>Research &amp; Development</td>\n      <td>1</td>\n      <td>3</td>\n      <td>Life Sciences</td>\n      <td>1</td>\n      <td>1315</td>\n      <td>...</td>\n      <td>1</td>\n      <td>80</td>\n      <td>3</td>\n      <td>10</td>\n      <td>6</td>\n      <td>3</td>\n      <td>9</td>\n      <td>8</td>\n      <td>7</td>\n      <td>5</td>\n    </tr>\n    <tr>\n      <th>3</th>\n      <td>43</td>\n      <td>No</td>\n      <td>Travel_Rarely</td>\n      <td>920</td>\n      <td>Research &amp; Development</td>\n      <td>3</td>\n      <td>3</td>\n      <td>Life Sciences</td>\n      <td>1</td>\n      <td>1255</td>\n      <td>...</td>\n      <td>2</td>\n      <td>80</td>\n      <td>1</td>\n      <td>25</td>\n      <td>2</td>\n      <td>3</td>\n      <td>8</td>\n      <td>7</td>\n      <td>0</td>\n      <td>7</td>\n    </tr>\n    <tr>\n      <th>4</th>\n      <td>27</td>\n      <td>No</td>\n      <td>Non-Travel</td>\n      <td>443</td>\n      <td>Research &amp; Development</td>\n      <td>3</td>\n      <td>3</td>\n      <td>Medical</td>\n      <td>1</td>\n      <td>850</td>\n      <td>...</td>\n      <td>3</td>\n      <td>80</td>\n      <td>3</td>\n      <td>0</td>\n      <td>6</td>\n      <td>2</td>\n      <td>0</td>\n      <td>0</td>\n      <td>0</td>\n      <td>0</td>\n    </tr>\n  </tbody>\n</table>\n<p>5 rows × 35 columns</p>\n</div>"
          },
          "metadata": {}
        }
      ]
    },
    {
      "cell_type": "code",
      "metadata": {
        "tags": [],
        "cell_id": "00007-ec6f9592-4052-4504-b7c5-d7daea7efb75",
        "deepnote_to_be_reexecuted": false,
        "source_hash": "20cfc1cf",
        "execution_millis": 15,
        "execution_start": 1618556975946,
        "deepnote_cell_type": "code"
      },
      "source": "train_df.isnull().sum()",
      "execution_count": null,
      "outputs": [
        {
          "output_type": "execute_result",
          "execution_count": 6,
          "data": {
            "text/plain": "Age                         0\nAttrition                   0\nBusinessTravel              0\nDailyRate                   0\nDepartment                  0\nDistanceFromHome            0\nEducation                   0\nEducationField              0\nEmployeeCount               0\nEmployeeNumber              0\nEnvironmentSatisfaction     0\nGender                      0\nHourlyRate                  0\nJobInvolvement              0\nJobLevel                    0\nJobRole                     0\nJobSatisfaction             0\nMaritalStatus               0\nMonthlyIncome               0\nMonthlyRate                 0\nNumCompaniesWorked          0\nOver18                      0\nOverTime                    0\nPercentSalaryHike           0\nPerformanceRating           0\nRelationshipSatisfaction    0\nStandardHours               0\nStockOptionLevel            0\nTotalWorkingYears           0\nTrainingTimesLastYear       0\nWorkLifeBalance             0\nYearsAtCompany              0\nYearsInCurrentRole          0\nYearsSinceLastPromotion     0\nYearsWithCurrManager        0\ndtype: int64"
          },
          "metadata": {}
        }
      ]
    },
    {
      "cell_type": "code",
      "metadata": {
        "tags": [],
        "cell_id": "00009-6d56293a-3791-48c9-b864-42cfc1cdd694",
        "deepnote_to_be_reexecuted": false,
        "source_hash": "7fd5b85f",
        "execution_start": 1618818620784,
        "execution_millis": 127,
        "deepnote_cell_type": "code"
      },
      "source": "train_df.describe()",
      "execution_count": null,
      "outputs": [
        {
          "output_type": "execute_result",
          "execution_count": 5,
          "data": {
            "application/vnd.deepnote.dataframe.v2+json": {
              "row_count": 8,
              "column_count": 26,
              "columns": [
                {
                  "name": "Age",
                  "dtype": "float64",
                  "stats": {
                    "unique_count": 8,
                    "nan_count": 0,
                    "min": "9.039229399016838",
                    "max": "1100.0",
                    "histogram": [
                      {
                        "bin_start": 9.039229399016838,
                        "bin_end": 118.13530645911514,
                        "count": 7
                      },
                      {
                        "bin_start": 118.13530645911514,
                        "bin_end": 227.23138351921347,
                        "count": 0
                      },
                      {
                        "bin_start": 227.23138351921347,
                        "bin_end": 336.3274605793118,
                        "count": 0
                      },
                      {
                        "bin_start": 336.3274605793118,
                        "bin_end": 445.4235376394101,
                        "count": 0
                      },
                      {
                        "bin_start": 445.4235376394101,
                        "bin_end": 554.5196146995083,
                        "count": 0
                      },
                      {
                        "bin_start": 554.5196146995083,
                        "bin_end": 663.6156917596066,
                        "count": 0
                      },
                      {
                        "bin_start": 663.6156917596066,
                        "bin_end": 772.711768819705,
                        "count": 0
                      },
                      {
                        "bin_start": 772.711768819705,
                        "bin_end": 881.8078458798033,
                        "count": 0
                      },
                      {
                        "bin_start": 881.8078458798033,
                        "bin_end": 990.9039229399016,
                        "count": 0
                      },
                      {
                        "bin_start": 990.9039229399016,
                        "bin_end": 1100,
                        "count": 1
                      }
                    ]
                  }
                },
                {
                  "name": "DailyRate",
                  "dtype": "float64",
                  "stats": {
                    "unique_count": 8,
                    "nan_count": 0,
                    "min": "102.0",
                    "max": "1498.0",
                    "histogram": [
                      {
                        "bin_start": 102,
                        "bin_end": 241.6,
                        "count": 1
                      },
                      {
                        "bin_start": 241.6,
                        "bin_end": 381.2,
                        "count": 0
                      },
                      {
                        "bin_start": 381.2,
                        "bin_end": 520.8,
                        "count": 2
                      },
                      {
                        "bin_start": 520.8,
                        "bin_end": 660.4,
                        "count": 0
                      },
                      {
                        "bin_start": 660.4,
                        "bin_end": 800,
                        "count": 0
                      },
                      {
                        "bin_start": 800,
                        "bin_end": 939.5999999999999,
                        "count": 2
                      },
                      {
                        "bin_start": 939.5999999999999,
                        "bin_end": 1079.1999999999998,
                        "count": 0
                      },
                      {
                        "bin_start": 1079.1999999999998,
                        "bin_end": 1218.8,
                        "count": 2
                      },
                      {
                        "bin_start": 1218.8,
                        "bin_end": 1358.3999999999999,
                        "count": 0
                      },
                      {
                        "bin_start": 1358.3999999999999,
                        "bin_end": 1498,
                        "count": 1
                      }
                    ]
                  }
                },
                {
                  "name": "DistanceFromHome",
                  "dtype": "float64",
                  "stats": {
                    "unique_count": 8,
                    "nan_count": 0,
                    "min": "1.0",
                    "max": "1100.0",
                    "histogram": [
                      {
                        "bin_start": 1,
                        "bin_end": 110.9,
                        "count": 7
                      },
                      {
                        "bin_start": 110.9,
                        "bin_end": 220.8,
                        "count": 0
                      },
                      {
                        "bin_start": 220.8,
                        "bin_end": 330.70000000000005,
                        "count": 0
                      },
                      {
                        "bin_start": 330.70000000000005,
                        "bin_end": 440.6,
                        "count": 0
                      },
                      {
                        "bin_start": 440.6,
                        "bin_end": 550.5,
                        "count": 0
                      },
                      {
                        "bin_start": 550.5,
                        "bin_end": 660.4000000000001,
                        "count": 0
                      },
                      {
                        "bin_start": 660.4000000000001,
                        "bin_end": 770.3000000000001,
                        "count": 0
                      },
                      {
                        "bin_start": 770.3000000000001,
                        "bin_end": 880.2,
                        "count": 0
                      },
                      {
                        "bin_start": 880.2,
                        "bin_end": 990.1,
                        "count": 0
                      },
                      {
                        "bin_start": 990.1,
                        "bin_end": 1100,
                        "count": 1
                      }
                    ]
                  }
                },
                {
                  "name": "Education",
                  "dtype": "float64",
                  "stats": {
                    "unique_count": 8,
                    "nan_count": 0,
                    "min": "1.0",
                    "max": "1100.0",
                    "histogram": [
                      {
                        "bin_start": 1,
                        "bin_end": 110.9,
                        "count": 7
                      },
                      {
                        "bin_start": 110.9,
                        "bin_end": 220.8,
                        "count": 0
                      },
                      {
                        "bin_start": 220.8,
                        "bin_end": 330.70000000000005,
                        "count": 0
                      },
                      {
                        "bin_start": 330.70000000000005,
                        "bin_end": 440.6,
                        "count": 0
                      },
                      {
                        "bin_start": 440.6,
                        "bin_end": 550.5,
                        "count": 0
                      },
                      {
                        "bin_start": 550.5,
                        "bin_end": 660.4000000000001,
                        "count": 0
                      },
                      {
                        "bin_start": 660.4000000000001,
                        "bin_end": 770.3000000000001,
                        "count": 0
                      },
                      {
                        "bin_start": 770.3000000000001,
                        "bin_end": 880.2,
                        "count": 0
                      },
                      {
                        "bin_start": 880.2,
                        "bin_end": 990.1,
                        "count": 0
                      },
                      {
                        "bin_start": 990.1,
                        "bin_end": 1100,
                        "count": 1
                      }
                    ]
                  }
                },
                {
                  "name": "EmployeeCount",
                  "dtype": "float64",
                  "stats": {
                    "unique_count": 3,
                    "nan_count": 0,
                    "min": "0.0",
                    "max": "1100.0",
                    "histogram": [
                      {
                        "bin_start": 0,
                        "bin_end": 110,
                        "count": 7
                      },
                      {
                        "bin_start": 110,
                        "bin_end": 220,
                        "count": 0
                      },
                      {
                        "bin_start": 220,
                        "bin_end": 330,
                        "count": 0
                      },
                      {
                        "bin_start": 330,
                        "bin_end": 440,
                        "count": 0
                      },
                      {
                        "bin_start": 440,
                        "bin_end": 550,
                        "count": 0
                      },
                      {
                        "bin_start": 550,
                        "bin_end": 660,
                        "count": 0
                      },
                      {
                        "bin_start": 660,
                        "bin_end": 770,
                        "count": 0
                      },
                      {
                        "bin_start": 770,
                        "bin_end": 880,
                        "count": 0
                      },
                      {
                        "bin_start": 880,
                        "bin_end": 990,
                        "count": 0
                      },
                      {
                        "bin_start": 990,
                        "bin_end": 1100,
                        "count": 1
                      }
                    ]
                  }
                },
                {
                  "name": "EmployeeNumber",
                  "dtype": "float64",
                  "stats": {
                    "unique_count": 8,
                    "nan_count": 0,
                    "min": "4.0",
                    "max": "2065.0",
                    "histogram": [
                      {
                        "bin_start": 4,
                        "bin_end": 210.1,
                        "count": 1
                      },
                      {
                        "bin_start": 210.1,
                        "bin_end": 416.2,
                        "count": 0
                      },
                      {
                        "bin_start": 416.2,
                        "bin_end": 622.3,
                        "count": 2
                      },
                      {
                        "bin_start": 622.3,
                        "bin_end": 828.4,
                        "count": 0
                      },
                      {
                        "bin_start": 828.4,
                        "bin_end": 1034.5,
                        "count": 2
                      },
                      {
                        "bin_start": 1034.5,
                        "bin_end": 1240.6,
                        "count": 1
                      },
                      {
                        "bin_start": 1240.6,
                        "bin_end": 1446.7,
                        "count": 0
                      },
                      {
                        "bin_start": 1446.7,
                        "bin_end": 1652.8,
                        "count": 1
                      },
                      {
                        "bin_start": 1652.8,
                        "bin_end": 1858.8999999999999,
                        "count": 0
                      },
                      {
                        "bin_start": 1858.8999999999999,
                        "bin_end": 2065,
                        "count": 1
                      }
                    ]
                  }
                },
                {
                  "name": "EnvironmentSatisfaction",
                  "dtype": "float64",
                  "stats": {
                    "unique_count": 7,
                    "nan_count": 0,
                    "min": "1.0",
                    "max": "1100.0",
                    "histogram": [
                      {
                        "bin_start": 1,
                        "bin_end": 110.9,
                        "count": 7
                      },
                      {
                        "bin_start": 110.9,
                        "bin_end": 220.8,
                        "count": 0
                      },
                      {
                        "bin_start": 220.8,
                        "bin_end": 330.70000000000005,
                        "count": 0
                      },
                      {
                        "bin_start": 330.70000000000005,
                        "bin_end": 440.6,
                        "count": 0
                      },
                      {
                        "bin_start": 440.6,
                        "bin_end": 550.5,
                        "count": 0
                      },
                      {
                        "bin_start": 550.5,
                        "bin_end": 660.4000000000001,
                        "count": 0
                      },
                      {
                        "bin_start": 660.4000000000001,
                        "bin_end": 770.3000000000001,
                        "count": 0
                      },
                      {
                        "bin_start": 770.3000000000001,
                        "bin_end": 880.2,
                        "count": 0
                      },
                      {
                        "bin_start": 880.2,
                        "bin_end": 990.1,
                        "count": 0
                      },
                      {
                        "bin_start": 990.1,
                        "bin_end": 1100,
                        "count": 1
                      }
                    ]
                  }
                },
                {
                  "name": "HourlyRate",
                  "dtype": "float64",
                  "stats": {
                    "unique_count": 8,
                    "nan_count": 0,
                    "min": "20.37435912820375",
                    "max": "1100.0",
                    "histogram": [
                      {
                        "bin_start": 20.37435912820375,
                        "bin_end": 128.33692321538337,
                        "count": 7
                      },
                      {
                        "bin_start": 128.33692321538337,
                        "bin_end": 236.29948730256302,
                        "count": 0
                      },
                      {
                        "bin_start": 236.29948730256302,
                        "bin_end": 344.2620513897426,
                        "count": 0
                      },
                      {
                        "bin_start": 344.2620513897426,
                        "bin_end": 452.2246154769223,
                        "count": 0
                      },
                      {
                        "bin_start": 452.2246154769223,
                        "bin_end": 560.1871795641019,
                        "count": 0
                      },
                      {
                        "bin_start": 560.1871795641019,
                        "bin_end": 668.1497436512815,
                        "count": 0
                      },
                      {
                        "bin_start": 668.1497436512815,
                        "bin_end": 776.1123077384611,
                        "count": 0
                      },
                      {
                        "bin_start": 776.1123077384611,
                        "bin_end": 884.0748718256408,
                        "count": 0
                      },
                      {
                        "bin_start": 884.0748718256408,
                        "bin_end": 992.0374359128205,
                        "count": 0
                      },
                      {
                        "bin_start": 992.0374359128205,
                        "bin_end": 1100,
                        "count": 1
                      }
                    ]
                  }
                },
                {
                  "name": "JobInvolvement",
                  "dtype": "float64",
                  "stats": {
                    "unique_count": 7,
                    "nan_count": 0,
                    "min": "0.7312981080396698",
                    "max": "1100.0",
                    "histogram": [
                      {
                        "bin_start": 0.7312981080396698,
                        "bin_end": 110.65816829723569,
                        "count": 7
                      },
                      {
                        "bin_start": 110.65816829723569,
                        "bin_end": 220.58503848643173,
                        "count": 0
                      },
                      {
                        "bin_start": 220.58503848643173,
                        "bin_end": 330.5119086756277,
                        "count": 0
                      },
                      {
                        "bin_start": 330.5119086756277,
                        "bin_end": 440.43877886482375,
                        "count": 0
                      },
                      {
                        "bin_start": 440.43877886482375,
                        "bin_end": 550.3656490540199,
                        "count": 0
                      },
                      {
                        "bin_start": 550.3656490540199,
                        "bin_end": 660.2925192432158,
                        "count": 0
                      },
                      {
                        "bin_start": 660.2925192432158,
                        "bin_end": 770.2193894324118,
                        "count": 0
                      },
                      {
                        "bin_start": 770.2193894324118,
                        "bin_end": 880.1462596216079,
                        "count": 0
                      },
                      {
                        "bin_start": 880.1462596216079,
                        "bin_end": 990.073129810804,
                        "count": 0
                      },
                      {
                        "bin_start": 990.073129810804,
                        "bin_end": 1100,
                        "count": 1
                      }
                    ]
                  }
                },
                {
                  "name": "JobLevel",
                  "dtype": "float64",
                  "stats": {
                    "unique_count": 7,
                    "nan_count": 0,
                    "min": "1.0",
                    "max": "1100.0",
                    "histogram": [
                      {
                        "bin_start": 1,
                        "bin_end": 110.9,
                        "count": 7
                      },
                      {
                        "bin_start": 110.9,
                        "bin_end": 220.8,
                        "count": 0
                      },
                      {
                        "bin_start": 220.8,
                        "bin_end": 330.70000000000005,
                        "count": 0
                      },
                      {
                        "bin_start": 330.70000000000005,
                        "bin_end": 440.6,
                        "count": 0
                      },
                      {
                        "bin_start": 440.6,
                        "bin_end": 550.5,
                        "count": 0
                      },
                      {
                        "bin_start": 550.5,
                        "bin_end": 660.4000000000001,
                        "count": 0
                      },
                      {
                        "bin_start": 660.4000000000001,
                        "bin_end": 770.3000000000001,
                        "count": 0
                      },
                      {
                        "bin_start": 770.3000000000001,
                        "bin_end": 880.2,
                        "count": 0
                      },
                      {
                        "bin_start": 880.2,
                        "bin_end": 990.1,
                        "count": 0
                      },
                      {
                        "bin_start": 990.1,
                        "bin_end": 1100,
                        "count": 1
                      }
                    ]
                  }
                },
                {
                  "name": "JobSatisfaction",
                  "dtype": "float64",
                  "stats": {
                    "unique_count": 7,
                    "nan_count": 0,
                    "min": "1.0",
                    "max": "1100.0",
                    "histogram": [
                      {
                        "bin_start": 1,
                        "bin_end": 110.9,
                        "count": 7
                      },
                      {
                        "bin_start": 110.9,
                        "bin_end": 220.8,
                        "count": 0
                      },
                      {
                        "bin_start": 220.8,
                        "bin_end": 330.70000000000005,
                        "count": 0
                      },
                      {
                        "bin_start": 330.70000000000005,
                        "bin_end": 440.6,
                        "count": 0
                      },
                      {
                        "bin_start": 440.6,
                        "bin_end": 550.5,
                        "count": 0
                      },
                      {
                        "bin_start": 550.5,
                        "bin_end": 660.4000000000001,
                        "count": 0
                      },
                      {
                        "bin_start": 660.4000000000001,
                        "bin_end": 770.3000000000001,
                        "count": 0
                      },
                      {
                        "bin_start": 770.3000000000001,
                        "bin_end": 880.2,
                        "count": 0
                      },
                      {
                        "bin_start": 880.2,
                        "bin_end": 990.1,
                        "count": 0
                      },
                      {
                        "bin_start": 990.1,
                        "bin_end": 1100,
                        "count": 1
                      }
                    ]
                  }
                },
                {
                  "name": "MonthlyIncome",
                  "dtype": "float64",
                  "stats": {
                    "unique_count": 8,
                    "nan_count": 0,
                    "min": "1051.0",
                    "max": "19999.0",
                    "histogram": [
                      {
                        "bin_start": 1051,
                        "bin_end": 2945.8,
                        "count": 3
                      },
                      {
                        "bin_start": 2945.8,
                        "bin_end": 4840.6,
                        "count": 1
                      },
                      {
                        "bin_start": 4840.6,
                        "bin_end": 6735.4,
                        "count": 2
                      },
                      {
                        "bin_start": 6735.4,
                        "bin_end": 8630.2,
                        "count": 1
                      },
                      {
                        "bin_start": 8630.2,
                        "bin_end": 10525,
                        "count": 0
                      },
                      {
                        "bin_start": 10525,
                        "bin_end": 12419.8,
                        "count": 0
                      },
                      {
                        "bin_start": 12419.8,
                        "bin_end": 14314.6,
                        "count": 0
                      },
                      {
                        "bin_start": 14314.6,
                        "bin_end": 16209.4,
                        "count": 0
                      },
                      {
                        "bin_start": 16209.4,
                        "bin_end": 18104.2,
                        "count": 0
                      },
                      {
                        "bin_start": 18104.2,
                        "bin_end": 19999,
                        "count": 1
                      }
                    ]
                  }
                },
                {
                  "name": "MonthlyRate",
                  "dtype": "float64",
                  "stats": {
                    "unique_count": 8,
                    "nan_count": 0,
                    "min": "1100.0",
                    "max": "26997.0",
                    "histogram": [
                      {
                        "bin_start": 1100,
                        "bin_end": 3689.7,
                        "count": 2
                      },
                      {
                        "bin_start": 3689.7,
                        "bin_end": 6279.4,
                        "count": 0
                      },
                      {
                        "bin_start": 6279.4,
                        "bin_end": 8869.099999999999,
                        "count": 2
                      },
                      {
                        "bin_start": 8869.099999999999,
                        "bin_end": 11458.8,
                        "count": 0
                      },
                      {
                        "bin_start": 11458.8,
                        "bin_end": 14048.5,
                        "count": 1
                      },
                      {
                        "bin_start": 14048.5,
                        "bin_end": 16638.199999999997,
                        "count": 1
                      },
                      {
                        "bin_start": 16638.199999999997,
                        "bin_end": 19227.899999999998,
                        "count": 0
                      },
                      {
                        "bin_start": 19227.899999999998,
                        "bin_end": 21817.6,
                        "count": 1
                      },
                      {
                        "bin_start": 21817.6,
                        "bin_end": 24407.3,
                        "count": 0
                      },
                      {
                        "bin_start": 24407.3,
                        "bin_end": 26997,
                        "count": 1
                      }
                    ]
                  }
                },
                {
                  "name": "NumCompaniesWorked",
                  "dtype": "float64",
                  "stats": {
                    "unique_count": 8,
                    "nan_count": 0,
                    "min": "0.0",
                    "max": "1100.0",
                    "histogram": [
                      {
                        "bin_start": 0,
                        "bin_end": 110,
                        "count": 7
                      },
                      {
                        "bin_start": 110,
                        "bin_end": 220,
                        "count": 0
                      },
                      {
                        "bin_start": 220,
                        "bin_end": 330,
                        "count": 0
                      },
                      {
                        "bin_start": 330,
                        "bin_end": 440,
                        "count": 0
                      },
                      {
                        "bin_start": 440,
                        "bin_end": 550,
                        "count": 0
                      },
                      {
                        "bin_start": 550,
                        "bin_end": 660,
                        "count": 0
                      },
                      {
                        "bin_start": 660,
                        "bin_end": 770,
                        "count": 0
                      },
                      {
                        "bin_start": 770,
                        "bin_end": 880,
                        "count": 0
                      },
                      {
                        "bin_start": 880,
                        "bin_end": 990,
                        "count": 0
                      },
                      {
                        "bin_start": 990,
                        "bin_end": 1100,
                        "count": 1
                      }
                    ]
                  }
                },
                {
                  "name": "PercentSalaryHike",
                  "dtype": "float64",
                  "stats": {
                    "unique_count": 8,
                    "nan_count": 0,
                    "min": "3.6998633979787066",
                    "max": "1100.0",
                    "histogram": [
                      {
                        "bin_start": 3.6998633979787066,
                        "bin_end": 113.32987705818083,
                        "count": 7
                      },
                      {
                        "bin_start": 113.32987705818083,
                        "bin_end": 222.95989071838295,
                        "count": 0
                      },
                      {
                        "bin_start": 222.95989071838295,
                        "bin_end": 332.5899043785851,
                        "count": 0
                      },
                      {
                        "bin_start": 332.5899043785851,
                        "bin_end": 442.2199180387872,
                        "count": 0
                      },
                      {
                        "bin_start": 442.2199180387872,
                        "bin_end": 551.8499316989893,
                        "count": 0
                      },
                      {
                        "bin_start": 551.8499316989893,
                        "bin_end": 661.4799453591914,
                        "count": 0
                      },
                      {
                        "bin_start": 661.4799453591914,
                        "bin_end": 771.1099590193935,
                        "count": 0
                      },
                      {
                        "bin_start": 771.1099590193935,
                        "bin_end": 880.7399726795957,
                        "count": 0
                      },
                      {
                        "bin_start": 880.7399726795957,
                        "bin_end": 990.3699863397978,
                        "count": 0
                      },
                      {
                        "bin_start": 990.3699863397978,
                        "bin_end": 1100,
                        "count": 1
                      }
                    ]
                  }
                },
                {
                  "name": "PerformanceRating",
                  "dtype": "float64",
                  "stats": {
                    "unique_count": 5,
                    "nan_count": 0,
                    "min": "0.36250226409166847",
                    "max": "1100.0",
                    "histogram": [
                      {
                        "bin_start": 0.36250226409166847,
                        "bin_end": 110.3262520376825,
                        "count": 7
                      },
                      {
                        "bin_start": 110.3262520376825,
                        "bin_end": 220.2900018112733,
                        "count": 0
                      },
                      {
                        "bin_start": 220.2900018112733,
                        "bin_end": 330.2537515848641,
                        "count": 0
                      },
                      {
                        "bin_start": 330.2537515848641,
                        "bin_end": 440.21750135845497,
                        "count": 0
                      },
                      {
                        "bin_start": 440.21750135845497,
                        "bin_end": 550.1812511320458,
                        "count": 0
                      },
                      {
                        "bin_start": 550.1812511320458,
                        "bin_end": 660.1450009056365,
                        "count": 0
                      },
                      {
                        "bin_start": 660.1450009056365,
                        "bin_end": 770.1087506792273,
                        "count": 0
                      },
                      {
                        "bin_start": 770.1087506792273,
                        "bin_end": 880.0725004528182,
                        "count": 0
                      },
                      {
                        "bin_start": 880.0725004528182,
                        "bin_end": 990.036250226409,
                        "count": 0
                      },
                      {
                        "bin_start": 990.036250226409,
                        "bin_end": 1100,
                        "count": 1
                      }
                    ]
                  }
                },
                {
                  "name": "RelationshipSatisfaction",
                  "dtype": "float64",
                  "stats": {
                    "unique_count": 7,
                    "nan_count": 0,
                    "min": "1.0",
                    "max": "1100.0",
                    "histogram": [
                      {
                        "bin_start": 1,
                        "bin_end": 110.9,
                        "count": 7
                      },
                      {
                        "bin_start": 110.9,
                        "bin_end": 220.8,
                        "count": 0
                      },
                      {
                        "bin_start": 220.8,
                        "bin_end": 330.70000000000005,
                        "count": 0
                      },
                      {
                        "bin_start": 330.70000000000005,
                        "bin_end": 440.6,
                        "count": 0
                      },
                      {
                        "bin_start": 440.6,
                        "bin_end": 550.5,
                        "count": 0
                      },
                      {
                        "bin_start": 550.5,
                        "bin_end": 660.4000000000001,
                        "count": 0
                      },
                      {
                        "bin_start": 660.4000000000001,
                        "bin_end": 770.3000000000001,
                        "count": 0
                      },
                      {
                        "bin_start": 770.3000000000001,
                        "bin_end": 880.2,
                        "count": 0
                      },
                      {
                        "bin_start": 880.2,
                        "bin_end": 990.1,
                        "count": 0
                      },
                      {
                        "bin_start": 990.1,
                        "bin_end": 1100,
                        "count": 1
                      }
                    ]
                  }
                },
                {
                  "name": "StandardHours",
                  "dtype": "float64",
                  "stats": {
                    "unique_count": 3,
                    "nan_count": 0,
                    "min": "0.0",
                    "max": "1100.0",
                    "histogram": [
                      {
                        "bin_start": 0,
                        "bin_end": 110,
                        "count": 7
                      },
                      {
                        "bin_start": 110,
                        "bin_end": 220,
                        "count": 0
                      },
                      {
                        "bin_start": 220,
                        "bin_end": 330,
                        "count": 0
                      },
                      {
                        "bin_start": 330,
                        "bin_end": 440,
                        "count": 0
                      },
                      {
                        "bin_start": 440,
                        "bin_end": 550,
                        "count": 0
                      },
                      {
                        "bin_start": 550,
                        "bin_end": 660,
                        "count": 0
                      },
                      {
                        "bin_start": 660,
                        "bin_end": 770,
                        "count": 0
                      },
                      {
                        "bin_start": 770,
                        "bin_end": 880,
                        "count": 0
                      },
                      {
                        "bin_start": 880,
                        "bin_end": 990,
                        "count": 0
                      },
                      {
                        "bin_start": 990,
                        "bin_end": 1100,
                        "count": 1
                      }
                    ]
                  }
                },
                {
                  "name": "StockOptionLevel",
                  "dtype": "float64",
                  "stats": {
                    "unique_count": 6,
                    "nan_count": 0,
                    "min": "0.0",
                    "max": "1100.0",
                    "histogram": [
                      {
                        "bin_start": 0,
                        "bin_end": 110,
                        "count": 7
                      },
                      {
                        "bin_start": 110,
                        "bin_end": 220,
                        "count": 0
                      },
                      {
                        "bin_start": 220,
                        "bin_end": 330,
                        "count": 0
                      },
                      {
                        "bin_start": 330,
                        "bin_end": 440,
                        "count": 0
                      },
                      {
                        "bin_start": 440,
                        "bin_end": 550,
                        "count": 0
                      },
                      {
                        "bin_start": 550,
                        "bin_end": 660,
                        "count": 0
                      },
                      {
                        "bin_start": 660,
                        "bin_end": 770,
                        "count": 0
                      },
                      {
                        "bin_start": 770,
                        "bin_end": 880,
                        "count": 0
                      },
                      {
                        "bin_start": 880,
                        "bin_end": 990,
                        "count": 0
                      },
                      {
                        "bin_start": 990,
                        "bin_end": 1100,
                        "count": 1
                      }
                    ]
                  }
                },
                {
                  "name": "TotalWorkingYears",
                  "dtype": "float64",
                  "stats": {
                    "unique_count": 8,
                    "nan_count": 0,
                    "min": "0.0",
                    "max": "1100.0",
                    "histogram": [
                      {
                        "bin_start": 0,
                        "bin_end": 110,
                        "count": 7
                      },
                      {
                        "bin_start": 110,
                        "bin_end": 220,
                        "count": 0
                      },
                      {
                        "bin_start": 220,
                        "bin_end": 330,
                        "count": 0
                      },
                      {
                        "bin_start": 330,
                        "bin_end": 440,
                        "count": 0
                      },
                      {
                        "bin_start": 440,
                        "bin_end": 550,
                        "count": 0
                      },
                      {
                        "bin_start": 550,
                        "bin_end": 660,
                        "count": 0
                      },
                      {
                        "bin_start": 660,
                        "bin_end": 770,
                        "count": 0
                      },
                      {
                        "bin_start": 770,
                        "bin_end": 880,
                        "count": 0
                      },
                      {
                        "bin_start": 880,
                        "bin_end": 990,
                        "count": 0
                      },
                      {
                        "bin_start": 990,
                        "bin_end": 1100,
                        "count": 1
                      }
                    ]
                  }
                },
                {
                  "name": "TrainingTimesLastYear",
                  "dtype": "float64",
                  "stats": {
                    "unique_count": 7,
                    "nan_count": 0,
                    "min": "0.0",
                    "max": "1100.0",
                    "histogram": [
                      {
                        "bin_start": 0,
                        "bin_end": 110,
                        "count": 7
                      },
                      {
                        "bin_start": 110,
                        "bin_end": 220,
                        "count": 0
                      },
                      {
                        "bin_start": 220,
                        "bin_end": 330,
                        "count": 0
                      },
                      {
                        "bin_start": 330,
                        "bin_end": 440,
                        "count": 0
                      },
                      {
                        "bin_start": 440,
                        "bin_end": 550,
                        "count": 0
                      },
                      {
                        "bin_start": 550,
                        "bin_end": 660,
                        "count": 0
                      },
                      {
                        "bin_start": 660,
                        "bin_end": 770,
                        "count": 0
                      },
                      {
                        "bin_start": 770,
                        "bin_end": 880,
                        "count": 0
                      },
                      {
                        "bin_start": 880,
                        "bin_end": 990,
                        "count": 0
                      },
                      {
                        "bin_start": 990,
                        "bin_end": 1100,
                        "count": 1
                      }
                    ]
                  }
                },
                {
                  "name": "WorkLifeBalance",
                  "dtype": "float64",
                  "stats": {
                    "unique_count": 7,
                    "nan_count": 0,
                    "min": "0.7062692682413267",
                    "max": "1100.0",
                    "histogram": [
                      {
                        "bin_start": 0.7062692682413267,
                        "bin_end": 110.6356423414172,
                        "count": 7
                      },
                      {
                        "bin_start": 110.6356423414172,
                        "bin_end": 220.56501541459306,
                        "count": 0
                      },
                      {
                        "bin_start": 220.56501541459306,
                        "bin_end": 330.49438848776896,
                        "count": 0
                      },
                      {
                        "bin_start": 330.49438848776896,
                        "bin_end": 440.4237615609448,
                        "count": 0
                      },
                      {
                        "bin_start": 440.4237615609448,
                        "bin_end": 550.3531346341206,
                        "count": 0
                      },
                      {
                        "bin_start": 550.3531346341206,
                        "bin_end": 660.2825077072965,
                        "count": 0
                      },
                      {
                        "bin_start": 660.2825077072965,
                        "bin_end": 770.2118807804724,
                        "count": 0
                      },
                      {
                        "bin_start": 770.2118807804724,
                        "bin_end": 880.1412538536482,
                        "count": 0
                      },
                      {
                        "bin_start": 880.1412538536482,
                        "bin_end": 990.070626926824,
                        "count": 0
                      },
                      {
                        "bin_start": 990.070626926824,
                        "bin_end": 1100,
                        "count": 1
                      }
                    ]
                  }
                },
                {
                  "name": "YearsAtCompany",
                  "dtype": "float64",
                  "stats": {
                    "unique_count": 8,
                    "nan_count": 0,
                    "min": "0.0",
                    "max": "1100.0",
                    "histogram": [
                      {
                        "bin_start": 0,
                        "bin_end": 110,
                        "count": 7
                      },
                      {
                        "bin_start": 110,
                        "bin_end": 220,
                        "count": 0
                      },
                      {
                        "bin_start": 220,
                        "bin_end": 330,
                        "count": 0
                      },
                      {
                        "bin_start": 330,
                        "bin_end": 440,
                        "count": 0
                      },
                      {
                        "bin_start": 440,
                        "bin_end": 550,
                        "count": 0
                      },
                      {
                        "bin_start": 550,
                        "bin_end": 660,
                        "count": 0
                      },
                      {
                        "bin_start": 660,
                        "bin_end": 770,
                        "count": 0
                      },
                      {
                        "bin_start": 770,
                        "bin_end": 880,
                        "count": 0
                      },
                      {
                        "bin_start": 880,
                        "bin_end": 990,
                        "count": 0
                      },
                      {
                        "bin_start": 990,
                        "bin_end": 1100,
                        "count": 1
                      }
                    ]
                  }
                },
                {
                  "name": "YearsInCurrentRole",
                  "dtype": "float64",
                  "stats": {
                    "unique_count": 8,
                    "nan_count": 0,
                    "min": "0.0",
                    "max": "1100.0",
                    "histogram": [
                      {
                        "bin_start": 0,
                        "bin_end": 110,
                        "count": 7
                      },
                      {
                        "bin_start": 110,
                        "bin_end": 220,
                        "count": 0
                      },
                      {
                        "bin_start": 220,
                        "bin_end": 330,
                        "count": 0
                      },
                      {
                        "bin_start": 330,
                        "bin_end": 440,
                        "count": 0
                      },
                      {
                        "bin_start": 440,
                        "bin_end": 550,
                        "count": 0
                      },
                      {
                        "bin_start": 550,
                        "bin_end": 660,
                        "count": 0
                      },
                      {
                        "bin_start": 660,
                        "bin_end": 770,
                        "count": 0
                      },
                      {
                        "bin_start": 770,
                        "bin_end": 880,
                        "count": 0
                      },
                      {
                        "bin_start": 880,
                        "bin_end": 990,
                        "count": 0
                      },
                      {
                        "bin_start": 990,
                        "bin_end": 1100,
                        "count": 1
                      }
                    ]
                  }
                },
                {
                  "name": "YearsSinceLastPromotion",
                  "dtype": "float64",
                  "stats": {
                    "unique_count": 7,
                    "nan_count": 0,
                    "min": "0.0",
                    "max": "1100.0",
                    "histogram": [
                      {
                        "bin_start": 0,
                        "bin_end": 110,
                        "count": 7
                      },
                      {
                        "bin_start": 110,
                        "bin_end": 220,
                        "count": 0
                      },
                      {
                        "bin_start": 220,
                        "bin_end": 330,
                        "count": 0
                      },
                      {
                        "bin_start": 330,
                        "bin_end": 440,
                        "count": 0
                      },
                      {
                        "bin_start": 440,
                        "bin_end": 550,
                        "count": 0
                      },
                      {
                        "bin_start": 550,
                        "bin_end": 660,
                        "count": 0
                      },
                      {
                        "bin_start": 660,
                        "bin_end": 770,
                        "count": 0
                      },
                      {
                        "bin_start": 770,
                        "bin_end": 880,
                        "count": 0
                      },
                      {
                        "bin_start": 880,
                        "bin_end": 990,
                        "count": 0
                      },
                      {
                        "bin_start": 990,
                        "bin_end": 1100,
                        "count": 1
                      }
                    ]
                  }
                },
                {
                  "name": "YearsWithCurrManager",
                  "dtype": "float64",
                  "stats": {
                    "unique_count": 8,
                    "nan_count": 0,
                    "min": "0.0",
                    "max": "1100.0",
                    "histogram": [
                      {
                        "bin_start": 0,
                        "bin_end": 110,
                        "count": 7
                      },
                      {
                        "bin_start": 110,
                        "bin_end": 220,
                        "count": 0
                      },
                      {
                        "bin_start": 220,
                        "bin_end": 330,
                        "count": 0
                      },
                      {
                        "bin_start": 330,
                        "bin_end": 440,
                        "count": 0
                      },
                      {
                        "bin_start": 440,
                        "bin_end": 550,
                        "count": 0
                      },
                      {
                        "bin_start": 550,
                        "bin_end": 660,
                        "count": 0
                      },
                      {
                        "bin_start": 660,
                        "bin_end": 770,
                        "count": 0
                      },
                      {
                        "bin_start": 770,
                        "bin_end": 880,
                        "count": 0
                      },
                      {
                        "bin_start": 880,
                        "bin_end": 990,
                        "count": 0
                      },
                      {
                        "bin_start": 990,
                        "bin_end": 1100,
                        "count": 1
                      }
                    ]
                  }
                },
                {
                  "name": "_deepnote_index_column",
                  "dtype": "object"
                }
              ],
              "rows_top": [
                {
                  "Age": 1100,
                  "DailyRate": 1100,
                  "DistanceFromHome": 1100,
                  "Education": 1100,
                  "EmployeeCount": 1100,
                  "EmployeeNumber": 1100,
                  "EnvironmentSatisfaction": 1100,
                  "HourlyRate": 1100,
                  "JobInvolvement": 1100,
                  "JobLevel": 1100,
                  "JobSatisfaction": 1100,
                  "MonthlyIncome": 1100,
                  "MonthlyRate": 1100,
                  "NumCompaniesWorked": 1100,
                  "PercentSalaryHike": 1100,
                  "PerformanceRating": 1100,
                  "RelationshipSatisfaction": 1100,
                  "StandardHours": 1100,
                  "StockOptionLevel": 1100,
                  "TotalWorkingYears": 1100,
                  "TrainingTimesLastYear": 1100,
                  "WorkLifeBalance": 1100,
                  "YearsAtCompany": 1100,
                  "YearsInCurrentRole": 1100,
                  "YearsSinceLastPromotion": 1100,
                  "YearsWithCurrManager": 1100,
                  "_deepnote_index_column": "count"
                },
                {
                  "Age": 36.85454545454545,
                  "DailyRate": 804.2345454545455,
                  "DistanceFromHome": 9.301818181818183,
                  "Education": 2.9072727272727272,
                  "EmployeeCount": 1,
                  "EmployeeNumber": 1026.4045454545455,
                  "EnvironmentSatisfaction": 2.730909090909091,
                  "HourlyRate": 66.01181818181819,
                  "JobInvolvement": 2.707272727272727,
                  "JobLevel": 2.0645454545454545,
                  "JobSatisfaction": 2.7372727272727273,
                  "MonthlyIncome": 6536.102727272727,
                  "MonthlyRate": 14221.912727272727,
                  "NumCompaniesWorked": 2.7336363636363634,
                  "PercentSalaryHike": 15.219090909090909,
                  "PerformanceRating": 3.1554545454545453,
                  "RelationshipSatisfaction": 2.6972727272727273,
                  "StandardHours": 80,
                  "StockOptionLevel": 0.7854545454545454,
                  "TotalWorkingYears": 11.206363636363637,
                  "TrainingTimesLastYear": 2.7809090909090908,
                  "WorkLifeBalance": 2.7809090909090908,
                  "YearsAtCompany": 7.07,
                  "YearsInCurrentRole": 4.25,
                  "YearsSinceLastPromotion": 2.1863636363636365,
                  "YearsWithCurrManager": 4.199090909090909,
                  "_deepnote_index_column": "mean"
                },
                {
                  "Age": 9.039229399016838,
                  "DailyRate": 405.5832380100936,
                  "DistanceFromHome": 8.093392330843798,
                  "Education": 1.0124528626427691,
                  "EmployeeCount": 0,
                  "EmployeeNumber": 598.712521438978,
                  "EnvironmentSatisfaction": 1.0835644893807819,
                  "HourlyRate": 20.37435912820375,
                  "JobInvolvement": 0.7312981080396698,
                  "JobLevel": 1.1158618439990131,
                  "JobSatisfaction": 1.107124671973269,
                  "MonthlyIncome": 4729.940355106806,
                  "MonthlyRate": 7095.123330127502,
                  "NumCompaniesWorked": 2.5336597472395606,
                  "PercentSalaryHike": 3.6998633979787066,
                  "PerformanceRating": 0.36250226409166847,
                  "RelationshipSatisfaction": 1.0843379240621598,
                  "StandardHours": 0,
                  "StockOptionLevel": 0.8485749295347025,
                  "TotalWorkingYears": 7.784761219073129,
                  "TrainingTimesLastYear": 1.3093765198402287,
                  "WorkLifeBalance": 0.7062692682413267,
                  "YearsAtCompany": 6.147386759204512,
                  "YearsInCurrentRole": 3.595094473948509,
                  "YearsSinceLastPromotion": 3.234650243386235,
                  "YearsWithCurrManager": 3.584848193499403,
                  "_deepnote_index_column": "std"
                },
                {
                  "Age": 18,
                  "DailyRate": 102,
                  "DistanceFromHome": 1,
                  "Education": 1,
                  "EmployeeCount": 1,
                  "EmployeeNumber": 4,
                  "EnvironmentSatisfaction": 1,
                  "HourlyRate": 30,
                  "JobInvolvement": 1,
                  "JobLevel": 1,
                  "JobSatisfaction": 1,
                  "MonthlyIncome": 1051,
                  "MonthlyRate": 2094,
                  "NumCompaniesWorked": 0,
                  "PercentSalaryHike": 11,
                  "PerformanceRating": 3,
                  "RelationshipSatisfaction": 1,
                  "StandardHours": 80,
                  "StockOptionLevel": 0,
                  "TotalWorkingYears": 0,
                  "TrainingTimesLastYear": 0,
                  "WorkLifeBalance": 1,
                  "YearsAtCompany": 0,
                  "YearsInCurrentRole": 0,
                  "YearsSinceLastPromotion": 0,
                  "YearsWithCurrManager": 0,
                  "_deepnote_index_column": "min"
                },
                {
                  "Age": 30,
                  "DailyRate": 460.5,
                  "DistanceFromHome": 2,
                  "Education": 2,
                  "EmployeeCount": 1,
                  "EmployeeNumber": 494.75,
                  "EnvironmentSatisfaction": 2,
                  "HourlyRate": 48,
                  "JobInvolvement": 2,
                  "JobLevel": 1,
                  "JobSatisfaction": 2,
                  "MonthlyIncome": 2906.5,
                  "MonthlyRate": 8049.75,
                  "NumCompaniesWorked": 1,
                  "PercentSalaryHike": 12,
                  "PerformanceRating": 3,
                  "RelationshipSatisfaction": 2,
                  "StandardHours": 80,
                  "StockOptionLevel": 0,
                  "TotalWorkingYears": 6,
                  "TrainingTimesLastYear": 2,
                  "WorkLifeBalance": 2,
                  "YearsAtCompany": 3,
                  "YearsInCurrentRole": 2,
                  "YearsSinceLastPromotion": 0,
                  "YearsWithCurrManager": 2,
                  "_deepnote_index_column": "25%"
                },
                {
                  "Age": 36,
                  "DailyRate": 805,
                  "DistanceFromHome": 7,
                  "Education": 3,
                  "EmployeeCount": 1,
                  "EmployeeNumber": 1031,
                  "EnvironmentSatisfaction": 3,
                  "HourlyRate": 66,
                  "JobInvolvement": 3,
                  "JobLevel": 2,
                  "JobSatisfaction": 3,
                  "MonthlyIncome": 4938.5,
                  "MonthlyRate": 14022.5,
                  "NumCompaniesWorked": 2,
                  "PercentSalaryHike": 14,
                  "PerformanceRating": 3,
                  "RelationshipSatisfaction": 3,
                  "StandardHours": 80,
                  "StockOptionLevel": 1,
                  "TotalWorkingYears": 9,
                  "TrainingTimesLastYear": 3,
                  "WorkLifeBalance": 3,
                  "YearsAtCompany": 5,
                  "YearsInCurrentRole": 3,
                  "YearsSinceLastPromotion": 1,
                  "YearsWithCurrManager": 3,
                  "_deepnote_index_column": "50%"
                },
                {
                  "Age": 42.25,
                  "DailyRate": 1162,
                  "DistanceFromHome": 14,
                  "Education": 4,
                  "EmployeeCount": 1,
                  "EmployeeNumber": 1543.25,
                  "EnvironmentSatisfaction": 4,
                  "HourlyRate": 84,
                  "JobInvolvement": 3,
                  "JobLevel": 3,
                  "JobSatisfaction": 4,
                  "MonthlyIncome": 8516,
                  "MonthlyRate": 20344.5,
                  "NumCompaniesWorked": 4,
                  "PercentSalaryHike": 18,
                  "PerformanceRating": 3,
                  "RelationshipSatisfaction": 4,
                  "StandardHours": 80,
                  "StockOptionLevel": 1,
                  "TotalWorkingYears": 15,
                  "TrainingTimesLastYear": 3,
                  "WorkLifeBalance": 3,
                  "YearsAtCompany": 9,
                  "YearsInCurrentRole": 7,
                  "YearsSinceLastPromotion": 3,
                  "YearsWithCurrManager": 7,
                  "_deepnote_index_column": "75%"
                },
                {
                  "Age": 60,
                  "DailyRate": 1498,
                  "DistanceFromHome": 29,
                  "Education": 5,
                  "EmployeeCount": 1,
                  "EmployeeNumber": 2065,
                  "EnvironmentSatisfaction": 4,
                  "HourlyRate": 100,
                  "JobInvolvement": 4,
                  "JobLevel": 5,
                  "JobSatisfaction": 4,
                  "MonthlyIncome": 19999,
                  "MonthlyRate": 26997,
                  "NumCompaniesWorked": 9,
                  "PercentSalaryHike": 25,
                  "PerformanceRating": 4,
                  "RelationshipSatisfaction": 4,
                  "StandardHours": 80,
                  "StockOptionLevel": 3,
                  "TotalWorkingYears": 38,
                  "TrainingTimesLastYear": 6,
                  "WorkLifeBalance": 4,
                  "YearsAtCompany": 37,
                  "YearsInCurrentRole": 18,
                  "YearsSinceLastPromotion": 15,
                  "YearsWithCurrManager": 17,
                  "_deepnote_index_column": "max"
                }
              ],
              "rows_bottom": null
            },
            "text/plain": "           Age  DailyRate  DistanceFromHome  Education  EmployeeCount  \\\ncount 1100.000   1100.000          1100.000   1100.000       1100.000   \nmean    36.855    804.235             9.302      2.907          1.000   \nstd      9.039    405.583             8.093      1.012          0.000   \nmin     18.000    102.000             1.000      1.000          1.000   \n25%     30.000    460.500             2.000      2.000          1.000   \n50%     36.000    805.000             7.000      3.000          1.000   \n75%     42.250   1162.000            14.000      4.000          1.000   \nmax     60.000   1498.000            29.000      5.000          1.000   \n\n       EmployeeNumber  EnvironmentSatisfaction  HourlyRate  JobInvolvement  \\\ncount        1100.000                 1100.000    1100.000        1100.000   \nmean         1026.405                    2.731      66.012           2.707   \nstd           598.713                    1.084      20.374           0.731   \nmin             4.000                    1.000      30.000           1.000   \n25%           494.750                    2.000      48.000           2.000   \n50%          1031.000                    3.000      66.000           3.000   \n75%          1543.250                    4.000      84.000           3.000   \nmax          2065.000                    4.000     100.000           4.000   \n\n       JobLevel  ...  RelationshipSatisfaction  StandardHours  \\\ncount  1100.000  ...                  1100.000       1100.000   \nmean      2.065  ...                     2.697         80.000   \nstd       1.116  ...                     1.084          0.000   \nmin       1.000  ...                     1.000         80.000   \n25%       1.000  ...                     2.000         80.000   \n50%       2.000  ...                     3.000         80.000   \n75%       3.000  ...                     4.000         80.000   \nmax       5.000  ...                     4.000         80.000   \n\n       StockOptionLevel  TotalWorkingYears  TrainingTimesLastYear  \\\ncount          1100.000           1100.000               1100.000   \nmean              0.785             11.206                  2.781   \nstd               0.849              7.785                  1.309   \nmin               0.000              0.000                  0.000   \n25%               0.000              6.000                  2.000   \n50%               1.000              9.000                  3.000   \n75%               1.000             15.000                  3.000   \nmax               3.000             38.000                  6.000   \n\n       WorkLifeBalance  YearsAtCompany  YearsInCurrentRole  \\\ncount         1100.000        1100.000            1100.000   \nmean             2.781           7.070               4.250   \nstd              0.706           6.147               3.595   \nmin              1.000           0.000               0.000   \n25%              2.000           3.000               2.000   \n50%              3.000           5.000               3.000   \n75%              3.000           9.000               7.000   \nmax              4.000          37.000              18.000   \n\n       YearsSinceLastPromotion  YearsWithCurrManager  \ncount                 1100.000              1100.000  \nmean                     2.186                 4.199  \nstd                      3.235                 3.585  \nmin                      0.000                 0.000  \n25%                      0.000                 2.000  \n50%                      1.000                 3.000  \n75%                      3.000                 7.000  \nmax                     15.000                17.000  \n\n[8 rows x 26 columns]",
            "text/html": "<div>\n<style scoped>\n    .dataframe tbody tr th:only-of-type {\n        vertical-align: middle;\n    }\n\n    .dataframe tbody tr th {\n        vertical-align: top;\n    }\n\n    .dataframe thead th {\n        text-align: right;\n    }\n</style>\n<table border=\"1\" class=\"dataframe\">\n  <thead>\n    <tr style=\"text-align: right;\">\n      <th></th>\n      <th>Age</th>\n      <th>DailyRate</th>\n      <th>DistanceFromHome</th>\n      <th>Education</th>\n      <th>EmployeeCount</th>\n      <th>EmployeeNumber</th>\n      <th>EnvironmentSatisfaction</th>\n      <th>HourlyRate</th>\n      <th>JobInvolvement</th>\n      <th>JobLevel</th>\n      <th>...</th>\n      <th>RelationshipSatisfaction</th>\n      <th>StandardHours</th>\n      <th>StockOptionLevel</th>\n      <th>TotalWorkingYears</th>\n      <th>TrainingTimesLastYear</th>\n      <th>WorkLifeBalance</th>\n      <th>YearsAtCompany</th>\n      <th>YearsInCurrentRole</th>\n      <th>YearsSinceLastPromotion</th>\n      <th>YearsWithCurrManager</th>\n    </tr>\n  </thead>\n  <tbody>\n    <tr>\n      <th>count</th>\n      <td>1100.000</td>\n      <td>1100.000</td>\n      <td>1100.000</td>\n      <td>1100.000</td>\n      <td>1100.000</td>\n      <td>1100.000</td>\n      <td>1100.000</td>\n      <td>1100.000</td>\n      <td>1100.000</td>\n      <td>1100.000</td>\n      <td>...</td>\n      <td>1100.000</td>\n      <td>1100.000</td>\n      <td>1100.000</td>\n      <td>1100.000</td>\n      <td>1100.000</td>\n      <td>1100.000</td>\n      <td>1100.000</td>\n      <td>1100.000</td>\n      <td>1100.000</td>\n      <td>1100.000</td>\n    </tr>\n    <tr>\n      <th>mean</th>\n      <td>36.855</td>\n      <td>804.235</td>\n      <td>9.302</td>\n      <td>2.907</td>\n      <td>1.000</td>\n      <td>1026.405</td>\n      <td>2.731</td>\n      <td>66.012</td>\n      <td>2.707</td>\n      <td>2.065</td>\n      <td>...</td>\n      <td>2.697</td>\n      <td>80.000</td>\n      <td>0.785</td>\n      <td>11.206</td>\n      <td>2.781</td>\n      <td>2.781</td>\n      <td>7.070</td>\n      <td>4.250</td>\n      <td>2.186</td>\n      <td>4.199</td>\n    </tr>\n    <tr>\n      <th>std</th>\n      <td>9.039</td>\n      <td>405.583</td>\n      <td>8.093</td>\n      <td>1.012</td>\n      <td>0.000</td>\n      <td>598.713</td>\n      <td>1.084</td>\n      <td>20.374</td>\n      <td>0.731</td>\n      <td>1.116</td>\n      <td>...</td>\n      <td>1.084</td>\n      <td>0.000</td>\n      <td>0.849</td>\n      <td>7.785</td>\n      <td>1.309</td>\n      <td>0.706</td>\n      <td>6.147</td>\n      <td>3.595</td>\n      <td>3.235</td>\n      <td>3.585</td>\n    </tr>\n    <tr>\n      <th>min</th>\n      <td>18.000</td>\n      <td>102.000</td>\n      <td>1.000</td>\n      <td>1.000</td>\n      <td>1.000</td>\n      <td>4.000</td>\n      <td>1.000</td>\n      <td>30.000</td>\n      <td>1.000</td>\n      <td>1.000</td>\n      <td>...</td>\n      <td>1.000</td>\n      <td>80.000</td>\n      <td>0.000</td>\n      <td>0.000</td>\n      <td>0.000</td>\n      <td>1.000</td>\n      <td>0.000</td>\n      <td>0.000</td>\n      <td>0.000</td>\n      <td>0.000</td>\n    </tr>\n    <tr>\n      <th>25%</th>\n      <td>30.000</td>\n      <td>460.500</td>\n      <td>2.000</td>\n      <td>2.000</td>\n      <td>1.000</td>\n      <td>494.750</td>\n      <td>2.000</td>\n      <td>48.000</td>\n      <td>2.000</td>\n      <td>1.000</td>\n      <td>...</td>\n      <td>2.000</td>\n      <td>80.000</td>\n      <td>0.000</td>\n      <td>6.000</td>\n      <td>2.000</td>\n      <td>2.000</td>\n      <td>3.000</td>\n      <td>2.000</td>\n      <td>0.000</td>\n      <td>2.000</td>\n    </tr>\n    <tr>\n      <th>50%</th>\n      <td>36.000</td>\n      <td>805.000</td>\n      <td>7.000</td>\n      <td>3.000</td>\n      <td>1.000</td>\n      <td>1031.000</td>\n      <td>3.000</td>\n      <td>66.000</td>\n      <td>3.000</td>\n      <td>2.000</td>\n      <td>...</td>\n      <td>3.000</td>\n      <td>80.000</td>\n      <td>1.000</td>\n      <td>9.000</td>\n      <td>3.000</td>\n      <td>3.000</td>\n      <td>5.000</td>\n      <td>3.000</td>\n      <td>1.000</td>\n      <td>3.000</td>\n    </tr>\n    <tr>\n      <th>75%</th>\n      <td>42.250</td>\n      <td>1162.000</td>\n      <td>14.000</td>\n      <td>4.000</td>\n      <td>1.000</td>\n      <td>1543.250</td>\n      <td>4.000</td>\n      <td>84.000</td>\n      <td>3.000</td>\n      <td>3.000</td>\n      <td>...</td>\n      <td>4.000</td>\n      <td>80.000</td>\n      <td>1.000</td>\n      <td>15.000</td>\n      <td>3.000</td>\n      <td>3.000</td>\n      <td>9.000</td>\n      <td>7.000</td>\n      <td>3.000</td>\n      <td>7.000</td>\n    </tr>\n    <tr>\n      <th>max</th>\n      <td>60.000</td>\n      <td>1498.000</td>\n      <td>29.000</td>\n      <td>5.000</td>\n      <td>1.000</td>\n      <td>2065.000</td>\n      <td>4.000</td>\n      <td>100.000</td>\n      <td>4.000</td>\n      <td>5.000</td>\n      <td>...</td>\n      <td>4.000</td>\n      <td>80.000</td>\n      <td>3.000</td>\n      <td>38.000</td>\n      <td>6.000</td>\n      <td>4.000</td>\n      <td>37.000</td>\n      <td>18.000</td>\n      <td>15.000</td>\n      <td>17.000</td>\n    </tr>\n  </tbody>\n</table>\n<p>8 rows × 26 columns</p>\n</div>"
          },
          "metadata": {}
        }
      ]
    },
    {
      "cell_type": "code",
      "metadata": {
        "tags": [],
        "cell_id": "00010-b9157d04-aa33-4570-968c-94d741252f2c",
        "deepnote_to_be_reexecuted": false,
        "source_hash": "708b1c9e",
        "execution_millis": 2990,
        "execution_start": 1618819080052,
        "deepnote_cell_type": "code"
      },
      "source": "train_df.select_dtypes(include=\"int64\").plot(kind='box', subplots=True, title='Our Data before outliers cleaning', figsize=(20,20), layout=(6,5))\nplt.show()",
      "execution_count": null,
      "outputs": [
        {
          "data": {
            "text/plain": "<Figure size 1440x1440 with 30 Axes>",
            "image/png": "[encoded data removed]"
          },
          "metadata": {
            "needs_background": "light"
          },
          "output_type": "display_data"
        }
      ]
    },
    {
      "cell_type": "code",
      "metadata": {
        "tags": [],
        "cell_id": "00009-fd77eeeb-40c1-441f-b67d-1748df0ec3da",
        "deepnote_to_be_reexecuted": false,
        "source_hash": "90517373",
        "execution_millis": 37,
        "execution_start": 1618556975956,
        "deepnote_cell_type": "code"
      },
      "source": "train_df.dtypes",
      "execution_count": null,
      "outputs": [
        {
          "output_type": "execute_result",
          "execution_count": 7,
          "data": {
            "text/plain": "Age                          int64\nAttrition                   object\nBusinessTravel              object\nDailyRate                    int64\nDepartment                  object\nDistanceFromHome             int64\nEducation                    int64\nEducationField              object\nEmployeeCount                int64\nEmployeeNumber               int64\nEnvironmentSatisfaction      int64\nGender                      object\nHourlyRate                   int64\nJobInvolvement               int64\nJobLevel                     int64\nJobRole                     object\nJobSatisfaction              int64\nMaritalStatus               object\nMonthlyIncome                int64\nMonthlyRate                  int64\nNumCompaniesWorked           int64\nOver18                      object\nOverTime                    object\nPercentSalaryHike            int64\nPerformanceRating            int64\nRelationshipSatisfaction     int64\nStandardHours                int64\nStockOptionLevel             int64\nTotalWorkingYears            int64\nTrainingTimesLastYear        int64\nWorkLifeBalance              int64\nYearsAtCompany               int64\nYearsInCurrentRole           int64\nYearsSinceLastPromotion      int64\nYearsWithCurrManager         int64\ndtype: object"
          },
          "metadata": {}
        }
      ]
    },
    {
      "cell_type": "code",
      "metadata": {
        "tags": [],
        "cell_id": "00010-0c4caf2b-4a48-43d4-ac8b-5dd7afa311d5",
        "deepnote_to_be_reexecuted": false,
        "source_hash": "f5f0d9",
        "execution_millis": 16,
        "execution_start": 1618556976020,
        "deepnote_cell_type": "code"
      },
      "source": "train_df[['Attrition','YearsAtCompany']]",
      "execution_count": null,
      "outputs": [
        {
          "output_type": "execute_result",
          "execution_count": 8,
          "data": {
            "application/vnd.deepnote.dataframe.v2+json": {
              "row_count": 1100,
              "column_count": 2,
              "columns": [
                {
                  "name": "Attrition",
                  "dtype": "object",
                  "stats": {
                    "unique_count": 2,
                    "nan_count": 0,
                    "categories": [
                      {
                        "name": "No",
                        "count": 922
                      },
                      {
                        "name": "Yes",
                        "count": 178
                      }
                    ]
                  }
                },
                {
                  "name": "YearsAtCompany",
                  "dtype": "int64",
                  "stats": {
                    "unique_count": 35,
                    "nan_count": 0,
                    "min": "0",
                    "max": "37",
                    "histogram": [
                      {
                        "bin_start": 0,
                        "bin_end": 3.7,
                        "count": 346
                      },
                      {
                        "bin_start": 3.7,
                        "bin_end": 7.4,
                        "count": 354
                      },
                      {
                        "bin_start": 7.4,
                        "bin_end": 11.100000000000001,
                        "count": 238
                      },
                      {
                        "bin_start": 11.100000000000001,
                        "bin_end": 14.8,
                        "count": 41
                      },
                      {
                        "bin_start": 14.8,
                        "bin_end": 18.5,
                        "count": 40
                      },
                      {
                        "bin_start": 18.5,
                        "bin_end": 22.200000000000003,
                        "count": 53
                      },
                      {
                        "bin_start": 22.200000000000003,
                        "bin_end": 25.900000000000002,
                        "count": 9
                      },
                      {
                        "bin_start": 25.900000000000002,
                        "bin_end": 29.6,
                        "count": 7
                      },
                      {
                        "bin_start": 29.6,
                        "bin_end": 33.300000000000004,
                        "count": 8
                      },
                      {
                        "bin_start": 33.300000000000004,
                        "bin_end": 37,
                        "count": 4
                      }
                    ]
                  }
                },
                {
                  "name": "_deepnote_index_column",
                  "dtype": "int64"
                }
              ],
              "rows_top": [
                {
                  "Attrition": "No",
                  "YearsAtCompany": 15,
                  "_deepnote_index_column": 0
                },
                {
                  "Attrition": "No",
                  "YearsAtCompany": 5,
                  "_deepnote_index_column": 1
                },
                {
                  "Attrition": "No",
                  "YearsAtCompany": 9,
                  "_deepnote_index_column": 2
                },
                {
                  "Attrition": "No",
                  "YearsAtCompany": 8,
                  "_deepnote_index_column": 3
                },
                {
                  "Attrition": "No",
                  "YearsAtCompany": 0,
                  "_deepnote_index_column": 4
                },
                {
                  "Attrition": "No",
                  "YearsAtCompany": 1,
                  "_deepnote_index_column": 5
                },
                {
                  "Attrition": "Yes",
                  "YearsAtCompany": 1,
                  "_deepnote_index_column": 6
                },
                {
                  "Attrition": "No",
                  "YearsAtCompany": 1,
                  "_deepnote_index_column": 7
                },
                {
                  "Attrition": "No",
                  "YearsAtCompany": 3,
                  "_deepnote_index_column": 8
                },
                {
                  "Attrition": "No",
                  "YearsAtCompany": 4,
                  "_deepnote_index_column": 9
                },
                {
                  "Attrition": "No",
                  "YearsAtCompany": 12,
                  "_deepnote_index_column": 10
                },
                {
                  "Attrition": "Yes",
                  "YearsAtCompany": 2,
                  "_deepnote_index_column": 11
                },
                {
                  "Attrition": "No",
                  "YearsAtCompany": 12,
                  "_deepnote_index_column": 12
                },
                {
                  "Attrition": "No",
                  "YearsAtCompany": 13,
                  "_deepnote_index_column": 13
                },
                {
                  "Attrition": "No",
                  "YearsAtCompany": 3,
                  "_deepnote_index_column": 14
                },
                {
                  "Attrition": "No",
                  "YearsAtCompany": 9,
                  "_deepnote_index_column": 15
                },
                {
                  "Attrition": "Yes",
                  "YearsAtCompany": 16,
                  "_deepnote_index_column": 16
                },
                {
                  "Attrition": "Yes",
                  "YearsAtCompany": 2,
                  "_deepnote_index_column": 17
                },
                {
                  "Attrition": "No",
                  "YearsAtCompany": 5,
                  "_deepnote_index_column": 18
                },
                {
                  "Attrition": "No",
                  "YearsAtCompany": 14,
                  "_deepnote_index_column": 19
                },
                {
                  "Attrition": "No",
                  "YearsAtCompany": 4,
                  "_deepnote_index_column": 20
                },
                {
                  "Attrition": "No",
                  "YearsAtCompany": 22,
                  "_deepnote_index_column": 21
                },
                {
                  "Attrition": "No",
                  "YearsAtCompany": 2,
                  "_deepnote_index_column": 22
                },
                {
                  "Attrition": "No",
                  "YearsAtCompany": 5,
                  "_deepnote_index_column": 23
                },
                {
                  "Attrition": "No",
                  "YearsAtCompany": 16,
                  "_deepnote_index_column": 24
                },
                {
                  "Attrition": "No",
                  "YearsAtCompany": 9,
                  "_deepnote_index_column": 25
                },
                {
                  "Attrition": "No",
                  "YearsAtCompany": 3,
                  "_deepnote_index_column": 26
                },
                {
                  "Attrition": "Yes",
                  "YearsAtCompany": 5,
                  "_deepnote_index_column": 27
                },
                {
                  "Attrition": "No",
                  "YearsAtCompany": 5,
                  "_deepnote_index_column": 28
                },
                {
                  "Attrition": "No",
                  "YearsAtCompany": 5,
                  "_deepnote_index_column": 29
                },
                {
                  "Attrition": "No",
                  "YearsAtCompany": 6,
                  "_deepnote_index_column": 30
                },
                {
                  "Attrition": "No",
                  "YearsAtCompany": 10,
                  "_deepnote_index_column": 31
                },
                {
                  "Attrition": "No",
                  "YearsAtCompany": 1,
                  "_deepnote_index_column": 32
                },
                {
                  "Attrition": "No",
                  "YearsAtCompany": 4,
                  "_deepnote_index_column": 33
                },
                {
                  "Attrition": "No",
                  "YearsAtCompany": 4,
                  "_deepnote_index_column": 34
                },
                {
                  "Attrition": "Yes",
                  "YearsAtCompany": 2,
                  "_deepnote_index_column": 35
                },
                {
                  "Attrition": "Yes",
                  "YearsAtCompany": 2,
                  "_deepnote_index_column": 36
                },
                {
                  "Attrition": "No",
                  "YearsAtCompany": 2,
                  "_deepnote_index_column": 37
                },
                {
                  "Attrition": "Yes",
                  "YearsAtCompany": 4,
                  "_deepnote_index_column": 38
                },
                {
                  "Attrition": "No",
                  "YearsAtCompany": 7,
                  "_deepnote_index_column": 39
                },
                {
                  "Attrition": "No",
                  "YearsAtCompany": 9,
                  "_deepnote_index_column": 40
                },
                {
                  "Attrition": "No",
                  "YearsAtCompany": 9,
                  "_deepnote_index_column": 41
                },
                {
                  "Attrition": "No",
                  "YearsAtCompany": 7,
                  "_deepnote_index_column": 42
                },
                {
                  "Attrition": "No",
                  "YearsAtCompany": 21,
                  "_deepnote_index_column": 43
                },
                {
                  "Attrition": "No",
                  "YearsAtCompany": 7,
                  "_deepnote_index_column": 44
                },
                {
                  "Attrition": "No",
                  "YearsAtCompany": 9,
                  "_deepnote_index_column": 45
                },
                {
                  "Attrition": "No",
                  "YearsAtCompany": 9,
                  "_deepnote_index_column": 46
                },
                {
                  "Attrition": "No",
                  "YearsAtCompany": 8,
                  "_deepnote_index_column": 47
                },
                {
                  "Attrition": "No",
                  "YearsAtCompany": 1,
                  "_deepnote_index_column": 48
                },
                {
                  "Attrition": "Yes",
                  "YearsAtCompany": 10,
                  "_deepnote_index_column": 49
                },
                {
                  "Attrition": "No",
                  "YearsAtCompany": 17,
                  "_deepnote_index_column": 50
                },
                {
                  "Attrition": "Yes",
                  "YearsAtCompany": 11,
                  "_deepnote_index_column": 51
                },
                {
                  "Attrition": "Yes",
                  "YearsAtCompany": 1,
                  "_deepnote_index_column": 52
                },
                {
                  "Attrition": "No",
                  "YearsAtCompany": 5,
                  "_deepnote_index_column": 53
                },
                {
                  "Attrition": "No",
                  "YearsAtCompany": 5,
                  "_deepnote_index_column": 54
                },
                {
                  "Attrition": "No",
                  "YearsAtCompany": 5,
                  "_deepnote_index_column": 55
                },
                {
                  "Attrition": "Yes",
                  "YearsAtCompany": 1,
                  "_deepnote_index_column": 56
                },
                {
                  "Attrition": "No",
                  "YearsAtCompany": 8,
                  "_deepnote_index_column": 57
                },
                {
                  "Attrition": "Yes",
                  "YearsAtCompany": 4,
                  "_deepnote_index_column": 58
                },
                {
                  "Attrition": "No",
                  "YearsAtCompany": 7,
                  "_deepnote_index_column": 59
                },
                {
                  "Attrition": "No",
                  "YearsAtCompany": 5,
                  "_deepnote_index_column": 60
                },
                {
                  "Attrition": "No",
                  "YearsAtCompany": 5,
                  "_deepnote_index_column": 61
                },
                {
                  "Attrition": "Yes",
                  "YearsAtCompany": 5,
                  "_deepnote_index_column": 62
                },
                {
                  "Attrition": "No",
                  "YearsAtCompany": 10,
                  "_deepnote_index_column": 63
                },
                {
                  "Attrition": "No",
                  "YearsAtCompany": 21,
                  "_deepnote_index_column": 64
                },
                {
                  "Attrition": "No",
                  "YearsAtCompany": 8,
                  "_deepnote_index_column": 65
                },
                {
                  "Attrition": "No",
                  "YearsAtCompany": 4,
                  "_deepnote_index_column": 66
                },
                {
                  "Attrition": "No",
                  "YearsAtCompany": 8,
                  "_deepnote_index_column": 67
                },
                {
                  "Attrition": "No",
                  "YearsAtCompany": 7,
                  "_deepnote_index_column": 68
                },
                {
                  "Attrition": "No",
                  "YearsAtCompany": 3,
                  "_deepnote_index_column": 69
                },
                {
                  "Attrition": "Yes",
                  "YearsAtCompany": 9,
                  "_deepnote_index_column": 70
                },
                {
                  "Attrition": "No",
                  "YearsAtCompany": 1,
                  "_deepnote_index_column": 71
                },
                {
                  "Attrition": "No",
                  "YearsAtCompany": 2,
                  "_deepnote_index_column": 72
                },
                {
                  "Attrition": "No",
                  "YearsAtCompany": 9,
                  "_deepnote_index_column": 73
                },
                {
                  "Attrition": "No",
                  "YearsAtCompany": 21,
                  "_deepnote_index_column": 74
                },
                {
                  "Attrition": "No",
                  "YearsAtCompany": 26,
                  "_deepnote_index_column": 75
                },
                {
                  "Attrition": "No",
                  "YearsAtCompany": 34,
                  "_deepnote_index_column": 76
                },
                {
                  "Attrition": "No",
                  "YearsAtCompany": 5,
                  "_deepnote_index_column": 77
                },
                {
                  "Attrition": "No",
                  "YearsAtCompany": 5,
                  "_deepnote_index_column": 78
                },
                {
                  "Attrition": "No",
                  "YearsAtCompany": 13,
                  "_deepnote_index_column": 79
                },
                {
                  "Attrition": "No",
                  "YearsAtCompany": 5,
                  "_deepnote_index_column": 80
                },
                {
                  "Attrition": "No",
                  "YearsAtCompany": 26,
                  "_deepnote_index_column": 81
                },
                {
                  "Attrition": "No",
                  "YearsAtCompany": 5,
                  "_deepnote_index_column": 82
                },
                {
                  "Attrition": "No",
                  "YearsAtCompany": 1,
                  "_deepnote_index_column": 83
                },
                {
                  "Attrition": "No",
                  "YearsAtCompany": 5,
                  "_deepnote_index_column": 84
                },
                {
                  "Attrition": "Yes",
                  "YearsAtCompany": 1,
                  "_deepnote_index_column": 85
                },
                {
                  "Attrition": "No",
                  "YearsAtCompany": 3,
                  "_deepnote_index_column": 86
                },
                {
                  "Attrition": "No",
                  "YearsAtCompany": 9,
                  "_deepnote_index_column": 87
                },
                {
                  "Attrition": "No",
                  "YearsAtCompany": 7,
                  "_deepnote_index_column": 88
                },
                {
                  "Attrition": "No",
                  "YearsAtCompany": 2,
                  "_deepnote_index_column": 89
                },
                {
                  "Attrition": "No",
                  "YearsAtCompany": 23,
                  "_deepnote_index_column": 90
                },
                {
                  "Attrition": "No",
                  "YearsAtCompany": 3,
                  "_deepnote_index_column": 91
                },
                {
                  "Attrition": "No",
                  "YearsAtCompany": 3,
                  "_deepnote_index_column": 92
                },
                {
                  "Attrition": "No",
                  "YearsAtCompany": 9,
                  "_deepnote_index_column": 93
                },
                {
                  "Attrition": "No",
                  "YearsAtCompany": 2,
                  "_deepnote_index_column": 94
                },
                {
                  "Attrition": "No",
                  "YearsAtCompany": 4,
                  "_deepnote_index_column": 95
                },
                {
                  "Attrition": "No",
                  "YearsAtCompany": 5,
                  "_deepnote_index_column": 96
                },
                {
                  "Attrition": "Yes",
                  "YearsAtCompany": 3,
                  "_deepnote_index_column": 97
                },
                {
                  "Attrition": "No",
                  "YearsAtCompany": 2,
                  "_deepnote_index_column": 98
                },
                {
                  "Attrition": "No",
                  "YearsAtCompany": 2,
                  "_deepnote_index_column": 99
                },
                {
                  "Attrition": "Yes",
                  "YearsAtCompany": 1,
                  "_deepnote_index_column": 100
                },
                {
                  "Attrition": "Yes",
                  "YearsAtCompany": 0,
                  "_deepnote_index_column": 101
                },
                {
                  "Attrition": "No",
                  "YearsAtCompany": 3,
                  "_deepnote_index_column": 102
                },
                {
                  "Attrition": "No",
                  "YearsAtCompany": 16,
                  "_deepnote_index_column": 103
                },
                {
                  "Attrition": "No",
                  "YearsAtCompany": 7,
                  "_deepnote_index_column": 104
                },
                {
                  "Attrition": "No",
                  "YearsAtCompany": 4,
                  "_deepnote_index_column": 105
                },
                {
                  "Attrition": "No",
                  "YearsAtCompany": 20,
                  "_deepnote_index_column": 106
                },
                {
                  "Attrition": "No",
                  "YearsAtCompany": 5,
                  "_deepnote_index_column": 107
                },
                {
                  "Attrition": "No",
                  "YearsAtCompany": 10,
                  "_deepnote_index_column": 108
                },
                {
                  "Attrition": "No",
                  "YearsAtCompany": 2,
                  "_deepnote_index_column": 109
                },
                {
                  "Attrition": "No",
                  "YearsAtCompany": 3,
                  "_deepnote_index_column": 110
                },
                {
                  "Attrition": "Yes",
                  "YearsAtCompany": 0,
                  "_deepnote_index_column": 111
                },
                {
                  "Attrition": "No",
                  "YearsAtCompany": 5,
                  "_deepnote_index_column": 112
                },
                {
                  "Attrition": "No",
                  "YearsAtCompany": 9,
                  "_deepnote_index_column": 113
                },
                {
                  "Attrition": "No",
                  "YearsAtCompany": 15,
                  "_deepnote_index_column": 114
                },
                {
                  "Attrition": "Yes",
                  "YearsAtCompany": 10,
                  "_deepnote_index_column": 115
                },
                {
                  "Attrition": "No",
                  "YearsAtCompany": 9,
                  "_deepnote_index_column": 116
                },
                {
                  "Attrition": "No",
                  "YearsAtCompany": 2,
                  "_deepnote_index_column": 117
                },
                {
                  "Attrition": "No",
                  "YearsAtCompany": 7,
                  "_deepnote_index_column": 118
                },
                {
                  "Attrition": "Yes",
                  "YearsAtCompany": 4,
                  "_deepnote_index_column": 119
                },
                {
                  "Attrition": "No",
                  "YearsAtCompany": 3,
                  "_deepnote_index_column": 120
                },
                {
                  "Attrition": "No",
                  "YearsAtCompany": 9,
                  "_deepnote_index_column": 121
                },
                {
                  "Attrition": "No",
                  "YearsAtCompany": 3,
                  "_deepnote_index_column": 122
                },
                {
                  "Attrition": "No",
                  "YearsAtCompany": 5,
                  "_deepnote_index_column": 123
                },
                {
                  "Attrition": "No",
                  "YearsAtCompany": 4,
                  "_deepnote_index_column": 124
                },
                {
                  "Attrition": "No",
                  "YearsAtCompany": 20,
                  "_deepnote_index_column": 125
                },
                {
                  "Attrition": "No",
                  "YearsAtCompany": 14,
                  "_deepnote_index_column": 126
                },
                {
                  "Attrition": "No",
                  "YearsAtCompany": 5,
                  "_deepnote_index_column": 127
                },
                {
                  "Attrition": "No",
                  "YearsAtCompany": 1,
                  "_deepnote_index_column": 128
                },
                {
                  "Attrition": "No",
                  "YearsAtCompany": 10,
                  "_deepnote_index_column": 129
                },
                {
                  "Attrition": "No",
                  "YearsAtCompany": 20,
                  "_deepnote_index_column": 130
                },
                {
                  "Attrition": "No",
                  "YearsAtCompany": 22,
                  "_deepnote_index_column": 131
                },
                {
                  "Attrition": "No",
                  "YearsAtCompany": 0,
                  "_deepnote_index_column": 132
                },
                {
                  "Attrition": "No",
                  "YearsAtCompany": 1,
                  "_deepnote_index_column": 133
                },
                {
                  "Attrition": "No",
                  "YearsAtCompany": 6,
                  "_deepnote_index_column": 134
                },
                {
                  "Attrition": "No",
                  "YearsAtCompany": 10,
                  "_deepnote_index_column": 135
                },
                {
                  "Attrition": "No",
                  "YearsAtCompany": 4,
                  "_deepnote_index_column": 136
                },
                {
                  "Attrition": "Yes",
                  "YearsAtCompany": 0,
                  "_deepnote_index_column": 137
                },
                {
                  "Attrition": "No",
                  "YearsAtCompany": 10,
                  "_deepnote_index_column": 138
                },
                {
                  "Attrition": "No",
                  "YearsAtCompany": 10,
                  "_deepnote_index_column": 139
                },
                {
                  "Attrition": "No",
                  "YearsAtCompany": 11,
                  "_deepnote_index_column": 140
                },
                {
                  "Attrition": "No",
                  "YearsAtCompany": 14,
                  "_deepnote_index_column": 141
                },
                {
                  "Attrition": "No",
                  "YearsAtCompany": 1,
                  "_deepnote_index_column": 142
                },
                {
                  "Attrition": "Yes",
                  "YearsAtCompany": 7,
                  "_deepnote_index_column": 143
                },
                {
                  "Attrition": "No",
                  "YearsAtCompany": 19,
                  "_deepnote_index_column": 144
                },
                {
                  "Attrition": "No",
                  "YearsAtCompany": 2,
                  "_deepnote_index_column": 145
                },
                {
                  "Attrition": "No",
                  "YearsAtCompany": 5,
                  "_deepnote_index_column": 146
                },
                {
                  "Attrition": "No",
                  "YearsAtCompany": 0,
                  "_deepnote_index_column": 147
                },
                {
                  "Attrition": "No",
                  "YearsAtCompany": 7,
                  "_deepnote_index_column": 148
                },
                {
                  "Attrition": "No",
                  "YearsAtCompany": 10,
                  "_deepnote_index_column": 149
                },
                {
                  "Attrition": "Yes",
                  "YearsAtCompany": 1,
                  "_deepnote_index_column": 150
                },
                {
                  "Attrition": "No",
                  "YearsAtCompany": 2,
                  "_deepnote_index_column": 151
                },
                {
                  "Attrition": "No",
                  "YearsAtCompany": 6,
                  "_deepnote_index_column": 152
                },
                {
                  "Attrition": "No",
                  "YearsAtCompany": 7,
                  "_deepnote_index_column": 153
                },
                {
                  "Attrition": "No",
                  "YearsAtCompany": 5,
                  "_deepnote_index_column": 154
                },
                {
                  "Attrition": "Yes",
                  "YearsAtCompany": 1,
                  "_deepnote_index_column": 155
                },
                {
                  "Attrition": "No",
                  "YearsAtCompany": 5,
                  "_deepnote_index_column": 156
                },
                {
                  "Attrition": "No",
                  "YearsAtCompany": 1,
                  "_deepnote_index_column": 157
                },
                {
                  "Attrition": "Yes",
                  "YearsAtCompany": 2,
                  "_deepnote_index_column": 158
                },
                {
                  "Attrition": "No",
                  "YearsAtCompany": 7,
                  "_deepnote_index_column": 159
                },
                {
                  "Attrition": "No",
                  "YearsAtCompany": 16,
                  "_deepnote_index_column": 160
                },
                {
                  "Attrition": "No",
                  "YearsAtCompany": 1,
                  "_deepnote_index_column": 161
                },
                {
                  "Attrition": "Yes",
                  "YearsAtCompany": 6,
                  "_deepnote_index_column": 162
                },
                {
                  "Attrition": "Yes",
                  "YearsAtCompany": 4,
                  "_deepnote_index_column": 163
                },
                {
                  "Attrition": "No",
                  "YearsAtCompany": 7,
                  "_deepnote_index_column": 164
                },
                {
                  "Attrition": "No",
                  "YearsAtCompany": 9,
                  "_deepnote_index_column": 165
                },
                {
                  "Attrition": "No",
                  "YearsAtCompany": 1,
                  "_deepnote_index_column": 166
                },
                {
                  "Attrition": "No",
                  "YearsAtCompany": 4,
                  "_deepnote_index_column": 167
                },
                {
                  "Attrition": "No",
                  "YearsAtCompany": 6,
                  "_deepnote_index_column": 168
                },
                {
                  "Attrition": "No",
                  "YearsAtCompany": 13,
                  "_deepnote_index_column": 169
                },
                {
                  "Attrition": "Yes",
                  "YearsAtCompany": 9,
                  "_deepnote_index_column": 170
                },
                {
                  "Attrition": "No",
                  "YearsAtCompany": 13,
                  "_deepnote_index_column": 171
                },
                {
                  "Attrition": "No",
                  "YearsAtCompany": 10,
                  "_deepnote_index_column": 172
                },
                {
                  "Attrition": "Yes",
                  "YearsAtCompany": 4,
                  "_deepnote_index_column": 173
                },
                {
                  "Attrition": "No",
                  "YearsAtCompany": 9,
                  "_deepnote_index_column": 174
                },
                {
                  "Attrition": "No",
                  "YearsAtCompany": 11,
                  "_deepnote_index_column": 175
                },
                {
                  "Attrition": "Yes",
                  "YearsAtCompany": 2,
                  "_deepnote_index_column": 176
                },
                {
                  "Attrition": "No",
                  "YearsAtCompany": 10,
                  "_deepnote_index_column": 177
                },
                {
                  "Attrition": "No",
                  "YearsAtCompany": 1,
                  "_deepnote_index_column": 178
                },
                {
                  "Attrition": "No",
                  "YearsAtCompany": 10,
                  "_deepnote_index_column": 179
                },
                {
                  "Attrition": "No",
                  "YearsAtCompany": 22,
                  "_deepnote_index_column": 180
                },
                {
                  "Attrition": "No",
                  "YearsAtCompany": 24,
                  "_deepnote_index_column": 181
                },
                {
                  "Attrition": "No",
                  "YearsAtCompany": 5,
                  "_deepnote_index_column": 182
                },
                {
                  "Attrition": "No",
                  "YearsAtCompany": 7,
                  "_deepnote_index_column": 183
                },
                {
                  "Attrition": "No",
                  "YearsAtCompany": 1,
                  "_deepnote_index_column": 184
                },
                {
                  "Attrition": "No",
                  "YearsAtCompany": 3,
                  "_deepnote_index_column": 185
                },
                {
                  "Attrition": "No",
                  "YearsAtCompany": 6,
                  "_deepnote_index_column": 186
                },
                {
                  "Attrition": "No",
                  "YearsAtCompany": 5,
                  "_deepnote_index_column": 187
                },
                {
                  "Attrition": "No",
                  "YearsAtCompany": 8,
                  "_deepnote_index_column": 188
                },
                {
                  "Attrition": "No",
                  "YearsAtCompany": 24,
                  "_deepnote_index_column": 189
                },
                {
                  "Attrition": "No",
                  "YearsAtCompany": 5,
                  "_deepnote_index_column": 190
                },
                {
                  "Attrition": "No",
                  "YearsAtCompany": 18,
                  "_deepnote_index_column": 191
                },
                {
                  "Attrition": "No",
                  "YearsAtCompany": 9,
                  "_deepnote_index_column": 192
                },
                {
                  "Attrition": "No",
                  "YearsAtCompany": 2,
                  "_deepnote_index_column": 193
                },
                {
                  "Attrition": "No",
                  "YearsAtCompany": 2,
                  "_deepnote_index_column": 194
                },
                {
                  "Attrition": "No",
                  "YearsAtCompany": 0,
                  "_deepnote_index_column": 195
                },
                {
                  "Attrition": "No",
                  "YearsAtCompany": 5,
                  "_deepnote_index_column": 196
                },
                {
                  "Attrition": "Yes",
                  "YearsAtCompany": 0,
                  "_deepnote_index_column": 197
                },
                {
                  "Attrition": "No",
                  "YearsAtCompany": 10,
                  "_deepnote_index_column": 198
                },
                {
                  "Attrition": "No",
                  "YearsAtCompany": 6,
                  "_deepnote_index_column": 199
                },
                {
                  "Attrition": "No",
                  "YearsAtCompany": 4,
                  "_deepnote_index_column": 200
                },
                {
                  "Attrition": "No",
                  "YearsAtCompany": 5,
                  "_deepnote_index_column": 201
                },
                {
                  "Attrition": "No",
                  "YearsAtCompany": 9,
                  "_deepnote_index_column": 202
                },
                {
                  "Attrition": "No",
                  "YearsAtCompany": 8,
                  "_deepnote_index_column": 203
                },
                {
                  "Attrition": "No",
                  "YearsAtCompany": 1,
                  "_deepnote_index_column": 204
                },
                {
                  "Attrition": "No",
                  "YearsAtCompany": 20,
                  "_deepnote_index_column": 205
                },
                {
                  "Attrition": "No",
                  "YearsAtCompany": 8,
                  "_deepnote_index_column": 206
                },
                {
                  "Attrition": "No",
                  "YearsAtCompany": 3,
                  "_deepnote_index_column": 207
                },
                {
                  "Attrition": "Yes",
                  "YearsAtCompany": 4,
                  "_deepnote_index_column": 208
                },
                {
                  "Attrition": "No",
                  "YearsAtCompany": 10,
                  "_deepnote_index_column": 209
                },
                {
                  "Attrition": "No",
                  "YearsAtCompany": 6,
                  "_deepnote_index_column": 210
                },
                {
                  "Attrition": "No",
                  "YearsAtCompany": 9,
                  "_deepnote_index_column": 211
                },
                {
                  "Attrition": "No",
                  "YearsAtCompany": 13,
                  "_deepnote_index_column": 212
                },
                {
                  "Attrition": "No",
                  "YearsAtCompany": 9,
                  "_deepnote_index_column": 213
                },
                {
                  "Attrition": "No",
                  "YearsAtCompany": 1,
                  "_deepnote_index_column": 214
                },
                {
                  "Attrition": "No",
                  "YearsAtCompany": 4,
                  "_deepnote_index_column": 215
                },
                {
                  "Attrition": "No",
                  "YearsAtCompany": 22,
                  "_deepnote_index_column": 216
                },
                {
                  "Attrition": "No",
                  "YearsAtCompany": 3,
                  "_deepnote_index_column": 217
                },
                {
                  "Attrition": "No",
                  "YearsAtCompany": 10,
                  "_deepnote_index_column": 218
                },
                {
                  "Attrition": "No",
                  "YearsAtCompany": 5,
                  "_deepnote_index_column": 219
                },
                {
                  "Attrition": "No",
                  "YearsAtCompany": 1,
                  "_deepnote_index_column": 220
                },
                {
                  "Attrition": "No",
                  "YearsAtCompany": 1,
                  "_deepnote_index_column": 221
                },
                {
                  "Attrition": "No",
                  "YearsAtCompany": 1,
                  "_deepnote_index_column": 222
                },
                {
                  "Attrition": "No",
                  "YearsAtCompany": 4,
                  "_deepnote_index_column": 223
                },
                {
                  "Attrition": "No",
                  "YearsAtCompany": 17,
                  "_deepnote_index_column": 224
                },
                {
                  "Attrition": "No",
                  "YearsAtCompany": 1,
                  "_deepnote_index_column": 225
                },
                {
                  "Attrition": "No",
                  "YearsAtCompany": 3,
                  "_deepnote_index_column": 226
                },
                {
                  "Attrition": "Yes",
                  "YearsAtCompany": 2,
                  "_deepnote_index_column": 227
                },
                {
                  "Attrition": "No",
                  "YearsAtCompany": 11,
                  "_deepnote_index_column": 228
                },
                {
                  "Attrition": "No",
                  "YearsAtCompany": 1,
                  "_deepnote_index_column": 229
                },
                {
                  "Attrition": "No",
                  "YearsAtCompany": 5,
                  "_deepnote_index_column": 230
                },
                {
                  "Attrition": "No",
                  "YearsAtCompany": 10,
                  "_deepnote_index_column": 231
                },
                {
                  "Attrition": "Yes",
                  "YearsAtCompany": 3,
                  "_deepnote_index_column": 232
                },
                {
                  "Attrition": "No",
                  "YearsAtCompany": 3,
                  "_deepnote_index_column": 233
                },
                {
                  "Attrition": "No",
                  "YearsAtCompany": 3,
                  "_deepnote_index_column": 234
                },
                {
                  "Attrition": "Yes",
                  "YearsAtCompany": 4,
                  "_deepnote_index_column": 235
                },
                {
                  "Attrition": "No",
                  "YearsAtCompany": 9,
                  "_deepnote_index_column": 236
                },
                {
                  "Attrition": "No",
                  "YearsAtCompany": 2,
                  "_deepnote_index_column": 237
                },
                {
                  "Attrition": "No",
                  "YearsAtCompany": 7,
                  "_deepnote_index_column": 238
                },
                {
                  "Attrition": "No",
                  "YearsAtCompany": 9,
                  "_deepnote_index_column": 239
                },
                {
                  "Attrition": "No",
                  "YearsAtCompany": 8,
                  "_deepnote_index_column": 240
                },
                {
                  "Attrition": "Yes",
                  "YearsAtCompany": 2,
                  "_deepnote_index_column": 241
                },
                {
                  "Attrition": "No",
                  "YearsAtCompany": 8,
                  "_deepnote_index_column": 242
                },
                {
                  "Attrition": "No",
                  "YearsAtCompany": 4,
                  "_deepnote_index_column": 243
                },
                {
                  "Attrition": "No",
                  "YearsAtCompany": 5,
                  "_deepnote_index_column": 244
                },
                {
                  "Attrition": "No",
                  "YearsAtCompany": 1,
                  "_deepnote_index_column": 245
                },
                {
                  "Attrition": "No",
                  "YearsAtCompany": 12,
                  "_deepnote_index_column": 246
                },
                {
                  "Attrition": "No",
                  "YearsAtCompany": 3,
                  "_deepnote_index_column": 247
                },
                {
                  "Attrition": "No",
                  "YearsAtCompany": 1,
                  "_deepnote_index_column": 248
                },
                {
                  "Attrition": "No",
                  "YearsAtCompany": 6,
                  "_deepnote_index_column": 249
                }
              ],
              "rows_bottom": [
                {
                  "Attrition": "No",
                  "YearsAtCompany": 6,
                  "_deepnote_index_column": 850
                },
                {
                  "Attrition": "No",
                  "YearsAtCompany": 10,
                  "_deepnote_index_column": 851
                },
                {
                  "Attrition": "No",
                  "YearsAtCompany": 5,
                  "_deepnote_index_column": 852
                },
                {
                  "Attrition": "No",
                  "YearsAtCompany": 20,
                  "_deepnote_index_column": 853
                },
                {
                  "Attrition": "No",
                  "YearsAtCompany": 1,
                  "_deepnote_index_column": 854
                },
                {
                  "Attrition": "No",
                  "YearsAtCompany": 5,
                  "_deepnote_index_column": 855
                },
                {
                  "Attrition": "No",
                  "YearsAtCompany": 9,
                  "_deepnote_index_column": 856
                },
                {
                  "Attrition": "No",
                  "YearsAtCompany": 7,
                  "_deepnote_index_column": 857
                },
                {
                  "Attrition": "Yes",
                  "YearsAtCompany": 5,
                  "_deepnote_index_column": 858
                },
                {
                  "Attrition": "No",
                  "YearsAtCompany": 7,
                  "_deepnote_index_column": 859
                },
                {
                  "Attrition": "No",
                  "YearsAtCompany": 5,
                  "_deepnote_index_column": 860
                },
                {
                  "Attrition": "No",
                  "YearsAtCompany": 4,
                  "_deepnote_index_column": 861
                },
                {
                  "Attrition": "No",
                  "YearsAtCompany": 3,
                  "_deepnote_index_column": 862
                },
                {
                  "Attrition": "No",
                  "YearsAtCompany": 6,
                  "_deepnote_index_column": 863
                },
                {
                  "Attrition": "No",
                  "YearsAtCompany": 7,
                  "_deepnote_index_column": 864
                },
                {
                  "Attrition": "No",
                  "YearsAtCompany": 14,
                  "_deepnote_index_column": 865
                },
                {
                  "Attrition": "No",
                  "YearsAtCompany": 2,
                  "_deepnote_index_column": 866
                },
                {
                  "Attrition": "No",
                  "YearsAtCompany": 8,
                  "_deepnote_index_column": 867
                },
                {
                  "Attrition": "No",
                  "YearsAtCompany": 5,
                  "_deepnote_index_column": 868
                },
                {
                  "Attrition": "No",
                  "YearsAtCompany": 15,
                  "_deepnote_index_column": 869
                },
                {
                  "Attrition": "No",
                  "YearsAtCompany": 1,
                  "_deepnote_index_column": 870
                },
                {
                  "Attrition": "No",
                  "YearsAtCompany": 12,
                  "_deepnote_index_column": 871
                },
                {
                  "Attrition": "No",
                  "YearsAtCompany": 5,
                  "_deepnote_index_column": 872
                },
                {
                  "Attrition": "Yes",
                  "YearsAtCompany": 5,
                  "_deepnote_index_column": 873
                },
                {
                  "Attrition": "Yes",
                  "YearsAtCompany": 10,
                  "_deepnote_index_column": 874
                },
                {
                  "Attrition": "No",
                  "YearsAtCompany": 10,
                  "_deepnote_index_column": 875
                },
                {
                  "Attrition": "No",
                  "YearsAtCompany": 5,
                  "_deepnote_index_column": 876
                },
                {
                  "Attrition": "No",
                  "YearsAtCompany": 5,
                  "_deepnote_index_column": 877
                },
                {
                  "Attrition": "No",
                  "YearsAtCompany": 6,
                  "_deepnote_index_column": 878
                },
                {
                  "Attrition": "No",
                  "YearsAtCompany": 8,
                  "_deepnote_index_column": 879
                },
                {
                  "Attrition": "No",
                  "YearsAtCompany": 2,
                  "_deepnote_index_column": 880
                },
                {
                  "Attrition": "No",
                  "YearsAtCompany": 1,
                  "_deepnote_index_column": 881
                },
                {
                  "Attrition": "No",
                  "YearsAtCompany": 4,
                  "_deepnote_index_column": 882
                },
                {
                  "Attrition": "No",
                  "YearsAtCompany": 9,
                  "_deepnote_index_column": 883
                },
                {
                  "Attrition": "No",
                  "YearsAtCompany": 3,
                  "_deepnote_index_column": 884
                },
                {
                  "Attrition": "No",
                  "YearsAtCompany": 2,
                  "_deepnote_index_column": 885
                },
                {
                  "Attrition": "No",
                  "YearsAtCompany": 8,
                  "_deepnote_index_column": 886
                },
                {
                  "Attrition": "No",
                  "YearsAtCompany": 4,
                  "_deepnote_index_column": 887
                },
                {
                  "Attrition": "No",
                  "YearsAtCompany": 3,
                  "_deepnote_index_column": 888
                },
                {
                  "Attrition": "No",
                  "YearsAtCompany": 7,
                  "_deepnote_index_column": 889
                },
                {
                  "Attrition": "No",
                  "YearsAtCompany": 10,
                  "_deepnote_index_column": 890
                },
                {
                  "Attrition": "Yes",
                  "YearsAtCompany": 4,
                  "_deepnote_index_column": 891
                },
                {
                  "Attrition": "No",
                  "YearsAtCompany": 10,
                  "_deepnote_index_column": 892
                },
                {
                  "Attrition": "No",
                  "YearsAtCompany": 2,
                  "_deepnote_index_column": 893
                },
                {
                  "Attrition": "No",
                  "YearsAtCompany": 3,
                  "_deepnote_index_column": 894
                },
                {
                  "Attrition": "No",
                  "YearsAtCompany": 24,
                  "_deepnote_index_column": 895
                },
                {
                  "Attrition": "Yes",
                  "YearsAtCompany": 14,
                  "_deepnote_index_column": 896
                },
                {
                  "Attrition": "No",
                  "YearsAtCompany": 10,
                  "_deepnote_index_column": 897
                },
                {
                  "Attrition": "No",
                  "YearsAtCompany": 7,
                  "_deepnote_index_column": 898
                },
                {
                  "Attrition": "No",
                  "YearsAtCompany": 2,
                  "_deepnote_index_column": 899
                },
                {
                  "Attrition": "No",
                  "YearsAtCompany": 1,
                  "_deepnote_index_column": 900
                },
                {
                  "Attrition": "No",
                  "YearsAtCompany": 9,
                  "_deepnote_index_column": 901
                },
                {
                  "Attrition": "No",
                  "YearsAtCompany": 4,
                  "_deepnote_index_column": 902
                },
                {
                  "Attrition": "No",
                  "YearsAtCompany": 10,
                  "_deepnote_index_column": 903
                },
                {
                  "Attrition": "No",
                  "YearsAtCompany": 6,
                  "_deepnote_index_column": 904
                },
                {
                  "Attrition": "No",
                  "YearsAtCompany": 2,
                  "_deepnote_index_column": 905
                },
                {
                  "Attrition": "No",
                  "YearsAtCompany": 11,
                  "_deepnote_index_column": 906
                },
                {
                  "Attrition": "No",
                  "YearsAtCompany": 1,
                  "_deepnote_index_column": 907
                },
                {
                  "Attrition": "No",
                  "YearsAtCompany": 8,
                  "_deepnote_index_column": 908
                },
                {
                  "Attrition": "No",
                  "YearsAtCompany": 3,
                  "_deepnote_index_column": 909
                },
                {
                  "Attrition": "Yes",
                  "YearsAtCompany": 3,
                  "_deepnote_index_column": 910
                },
                {
                  "Attrition": "No",
                  "YearsAtCompany": 4,
                  "_deepnote_index_column": 911
                },
                {
                  "Attrition": "No",
                  "YearsAtCompany": 9,
                  "_deepnote_index_column": 912
                },
                {
                  "Attrition": "Yes",
                  "YearsAtCompany": 3,
                  "_deepnote_index_column": 913
                },
                {
                  "Attrition": "No",
                  "YearsAtCompany": 7,
                  "_deepnote_index_column": 914
                },
                {
                  "Attrition": "No",
                  "YearsAtCompany": 5,
                  "_deepnote_index_column": 915
                },
                {
                  "Attrition": "No",
                  "YearsAtCompany": 5,
                  "_deepnote_index_column": 916
                },
                {
                  "Attrition": "No",
                  "YearsAtCompany": 10,
                  "_deepnote_index_column": 917
                },
                {
                  "Attrition": "Yes",
                  "YearsAtCompany": 0,
                  "_deepnote_index_column": 918
                },
                {
                  "Attrition": "No",
                  "YearsAtCompany": 37,
                  "_deepnote_index_column": 919
                },
                {
                  "Attrition": "No",
                  "YearsAtCompany": 10,
                  "_deepnote_index_column": 920
                },
                {
                  "Attrition": "No",
                  "YearsAtCompany": 8,
                  "_deepnote_index_column": 921
                },
                {
                  "Attrition": "Yes",
                  "YearsAtCompany": 1,
                  "_deepnote_index_column": 922
                },
                {
                  "Attrition": "Yes",
                  "YearsAtCompany": 1,
                  "_deepnote_index_column": 923
                },
                {
                  "Attrition": "Yes",
                  "YearsAtCompany": 1,
                  "_deepnote_index_column": 924
                },
                {
                  "Attrition": "No",
                  "YearsAtCompany": 5,
                  "_deepnote_index_column": 925
                },
                {
                  "Attrition": "No",
                  "YearsAtCompany": 10,
                  "_deepnote_index_column": 926
                },
                {
                  "Attrition": "No",
                  "YearsAtCompany": 12,
                  "_deepnote_index_column": 927
                },
                {
                  "Attrition": "No",
                  "YearsAtCompany": 9,
                  "_deepnote_index_column": 928
                },
                {
                  "Attrition": "No",
                  "YearsAtCompany": 9,
                  "_deepnote_index_column": 929
                },
                {
                  "Attrition": "No",
                  "YearsAtCompany": 4,
                  "_deepnote_index_column": 930
                },
                {
                  "Attrition": "No",
                  "YearsAtCompany": 15,
                  "_deepnote_index_column": 931
                },
                {
                  "Attrition": "No",
                  "YearsAtCompany": 2,
                  "_deepnote_index_column": 932
                },
                {
                  "Attrition": "No",
                  "YearsAtCompany": 8,
                  "_deepnote_index_column": 933
                },
                {
                  "Attrition": "Yes",
                  "YearsAtCompany": 10,
                  "_deepnote_index_column": 934
                },
                {
                  "Attrition": "Yes",
                  "YearsAtCompany": 5,
                  "_deepnote_index_column": 935
                },
                {
                  "Attrition": "No",
                  "YearsAtCompany": 3,
                  "_deepnote_index_column": 936
                },
                {
                  "Attrition": "No",
                  "YearsAtCompany": 1,
                  "_deepnote_index_column": 937
                },
                {
                  "Attrition": "No",
                  "YearsAtCompany": 4,
                  "_deepnote_index_column": 938
                },
                {
                  "Attrition": "No",
                  "YearsAtCompany": 2,
                  "_deepnote_index_column": 939
                },
                {
                  "Attrition": "Yes",
                  "YearsAtCompany": 2,
                  "_deepnote_index_column": 940
                },
                {
                  "Attrition": "No",
                  "YearsAtCompany": 6,
                  "_deepnote_index_column": 941
                },
                {
                  "Attrition": "Yes",
                  "YearsAtCompany": 1,
                  "_deepnote_index_column": 942
                },
                {
                  "Attrition": "No",
                  "YearsAtCompany": 5,
                  "_deepnote_index_column": 943
                },
                {
                  "Attrition": "No",
                  "YearsAtCompany": 1,
                  "_deepnote_index_column": 944
                },
                {
                  "Attrition": "No",
                  "YearsAtCompany": 7,
                  "_deepnote_index_column": 945
                },
                {
                  "Attrition": "No",
                  "YearsAtCompany": 20,
                  "_deepnote_index_column": 946
                },
                {
                  "Attrition": "No",
                  "YearsAtCompany": 3,
                  "_deepnote_index_column": 947
                },
                {
                  "Attrition": "No",
                  "YearsAtCompany": 3,
                  "_deepnote_index_column": 948
                },
                {
                  "Attrition": "Yes",
                  "YearsAtCompany": 5,
                  "_deepnote_index_column": 949
                },
                {
                  "Attrition": "No",
                  "YearsAtCompany": 19,
                  "_deepnote_index_column": 950
                },
                {
                  "Attrition": "No",
                  "YearsAtCompany": 10,
                  "_deepnote_index_column": 951
                },
                {
                  "Attrition": "No",
                  "YearsAtCompany": 4,
                  "_deepnote_index_column": 952
                },
                {
                  "Attrition": "No",
                  "YearsAtCompany": 8,
                  "_deepnote_index_column": 953
                },
                {
                  "Attrition": "No",
                  "YearsAtCompany": 5,
                  "_deepnote_index_column": 954
                },
                {
                  "Attrition": "No",
                  "YearsAtCompany": 10,
                  "_deepnote_index_column": 955
                },
                {
                  "Attrition": "No",
                  "YearsAtCompany": 5,
                  "_deepnote_index_column": 956
                },
                {
                  "Attrition": "No",
                  "YearsAtCompany": 4,
                  "_deepnote_index_column": 957
                },
                {
                  "Attrition": "No",
                  "YearsAtCompany": 9,
                  "_deepnote_index_column": 958
                },
                {
                  "Attrition": "No",
                  "YearsAtCompany": 1,
                  "_deepnote_index_column": 959
                },
                {
                  "Attrition": "No",
                  "YearsAtCompany": 5,
                  "_deepnote_index_column": 960
                },
                {
                  "Attrition": "No",
                  "YearsAtCompany": 14,
                  "_deepnote_index_column": 961
                },
                {
                  "Attrition": "No",
                  "YearsAtCompany": 2,
                  "_deepnote_index_column": 962
                },
                {
                  "Attrition": "No",
                  "YearsAtCompany": 2,
                  "_deepnote_index_column": 963
                },
                {
                  "Attrition": "No",
                  "YearsAtCompany": 5,
                  "_deepnote_index_column": 964
                },
                {
                  "Attrition": "No",
                  "YearsAtCompany": 5,
                  "_deepnote_index_column": 965
                },
                {
                  "Attrition": "No",
                  "YearsAtCompany": 12,
                  "_deepnote_index_column": 966
                },
                {
                  "Attrition": "No",
                  "YearsAtCompany": 3,
                  "_deepnote_index_column": 967
                },
                {
                  "Attrition": "Yes",
                  "YearsAtCompany": 7,
                  "_deepnote_index_column": 968
                },
                {
                  "Attrition": "No",
                  "YearsAtCompany": 8,
                  "_deepnote_index_column": 969
                },
                {
                  "Attrition": "No",
                  "YearsAtCompany": 5,
                  "_deepnote_index_column": 970
                },
                {
                  "Attrition": "No",
                  "YearsAtCompany": 1,
                  "_deepnote_index_column": 971
                },
                {
                  "Attrition": "Yes",
                  "YearsAtCompany": 1,
                  "_deepnote_index_column": 972
                },
                {
                  "Attrition": "No",
                  "YearsAtCompany": 10,
                  "_deepnote_index_column": 973
                },
                {
                  "Attrition": "No",
                  "YearsAtCompany": 2,
                  "_deepnote_index_column": 974
                },
                {
                  "Attrition": "No",
                  "YearsAtCompany": 3,
                  "_deepnote_index_column": 975
                },
                {
                  "Attrition": "No",
                  "YearsAtCompany": 7,
                  "_deepnote_index_column": 976
                },
                {
                  "Attrition": "No",
                  "YearsAtCompany": 2,
                  "_deepnote_index_column": 977
                },
                {
                  "Attrition": "No",
                  "YearsAtCompany": 14,
                  "_deepnote_index_column": 978
                },
                {
                  "Attrition": "No",
                  "YearsAtCompany": 33,
                  "_deepnote_index_column": 979
                },
                {
                  "Attrition": "No",
                  "YearsAtCompany": 5,
                  "_deepnote_index_column": 980
                },
                {
                  "Attrition": "No",
                  "YearsAtCompany": 6,
                  "_deepnote_index_column": 981
                },
                {
                  "Attrition": "Yes",
                  "YearsAtCompany": 10,
                  "_deepnote_index_column": 982
                },
                {
                  "Attrition": "No",
                  "YearsAtCompany": 1,
                  "_deepnote_index_column": 983
                },
                {
                  "Attrition": "No",
                  "YearsAtCompany": 2,
                  "_deepnote_index_column": 984
                },
                {
                  "Attrition": "No",
                  "YearsAtCompany": 1,
                  "_deepnote_index_column": 985
                },
                {
                  "Attrition": "No",
                  "YearsAtCompany": 5,
                  "_deepnote_index_column": 986
                },
                {
                  "Attrition": "No",
                  "YearsAtCompany": 20,
                  "_deepnote_index_column": 987
                },
                {
                  "Attrition": "No",
                  "YearsAtCompany": 3,
                  "_deepnote_index_column": 988
                },
                {
                  "Attrition": "No",
                  "YearsAtCompany": 6,
                  "_deepnote_index_column": 989
                },
                {
                  "Attrition": "No",
                  "YearsAtCompany": 7,
                  "_deepnote_index_column": 990
                },
                {
                  "Attrition": "No",
                  "YearsAtCompany": 10,
                  "_deepnote_index_column": 991
                },
                {
                  "Attrition": "Yes",
                  "YearsAtCompany": 5,
                  "_deepnote_index_column": 992
                },
                {
                  "Attrition": "No",
                  "YearsAtCompany": 11,
                  "_deepnote_index_column": 993
                },
                {
                  "Attrition": "Yes",
                  "YearsAtCompany": 0,
                  "_deepnote_index_column": 994
                },
                {
                  "Attrition": "No",
                  "YearsAtCompany": 6,
                  "_deepnote_index_column": 995
                },
                {
                  "Attrition": "Yes",
                  "YearsAtCompany": 10,
                  "_deepnote_index_column": 996
                },
                {
                  "Attrition": "No",
                  "YearsAtCompany": 5,
                  "_deepnote_index_column": 997
                },
                {
                  "Attrition": "No",
                  "YearsAtCompany": 7,
                  "_deepnote_index_column": 998
                },
                {
                  "Attrition": "No",
                  "YearsAtCompany": 2,
                  "_deepnote_index_column": 999
                },
                {
                  "Attrition": "No",
                  "YearsAtCompany": 25,
                  "_deepnote_index_column": 1000
                },
                {
                  "Attrition": "No",
                  "YearsAtCompany": 3,
                  "_deepnote_index_column": 1001
                },
                {
                  "Attrition": "No",
                  "YearsAtCompany": 9,
                  "_deepnote_index_column": 1002
                },
                {
                  "Attrition": "No",
                  "YearsAtCompany": 2,
                  "_deepnote_index_column": 1003
                },
                {
                  "Attrition": "Yes",
                  "YearsAtCompany": 3,
                  "_deepnote_index_column": 1004
                },
                {
                  "Attrition": "No",
                  "YearsAtCompany": 7,
                  "_deepnote_index_column": 1005
                },
                {
                  "Attrition": "No",
                  "YearsAtCompany": 6,
                  "_deepnote_index_column": 1006
                },
                {
                  "Attrition": "No",
                  "YearsAtCompany": 2,
                  "_deepnote_index_column": 1007
                },
                {
                  "Attrition": "Yes",
                  "YearsAtCompany": 8,
                  "_deepnote_index_column": 1008
                },
                {
                  "Attrition": "No",
                  "YearsAtCompany": 5,
                  "_deepnote_index_column": 1009
                },
                {
                  "Attrition": "No",
                  "YearsAtCompany": 14,
                  "_deepnote_index_column": 1010
                },
                {
                  "Attrition": "Yes",
                  "YearsAtCompany": 2,
                  "_deepnote_index_column": 1011
                },
                {
                  "Attrition": "No",
                  "YearsAtCompany": 4,
                  "_deepnote_index_column": 1012
                },
                {
                  "Attrition": "No",
                  "YearsAtCompany": 6,
                  "_deepnote_index_column": 1013
                },
                {
                  "Attrition": "No",
                  "YearsAtCompany": 2,
                  "_deepnote_index_column": 1014
                },
                {
                  "Attrition": "No",
                  "YearsAtCompany": 1,
                  "_deepnote_index_column": 1015
                },
                {
                  "Attrition": "No",
                  "YearsAtCompany": 5,
                  "_deepnote_index_column": 1016
                },
                {
                  "Attrition": "No",
                  "YearsAtCompany": 14,
                  "_deepnote_index_column": 1017
                },
                {
                  "Attrition": "Yes",
                  "YearsAtCompany": 5,
                  "_deepnote_index_column": 1018
                },
                {
                  "Attrition": "No",
                  "YearsAtCompany": 4,
                  "_deepnote_index_column": 1019
                },
                {
                  "Attrition": "No",
                  "YearsAtCompany": 1,
                  "_deepnote_index_column": 1020
                },
                {
                  "Attrition": "No",
                  "YearsAtCompany": 7,
                  "_deepnote_index_column": 1021
                },
                {
                  "Attrition": "No",
                  "YearsAtCompany": 14,
                  "_deepnote_index_column": 1022
                },
                {
                  "Attrition": "No",
                  "YearsAtCompany": 10,
                  "_deepnote_index_column": 1023
                },
                {
                  "Attrition": "No",
                  "YearsAtCompany": 8,
                  "_deepnote_index_column": 1024
                },
                {
                  "Attrition": "Yes",
                  "YearsAtCompany": 21,
                  "_deepnote_index_column": 1025
                },
                {
                  "Attrition": "No",
                  "YearsAtCompany": 1,
                  "_deepnote_index_column": 1026
                },
                {
                  "Attrition": "Yes",
                  "YearsAtCompany": 3,
                  "_deepnote_index_column": 1027
                },
                {
                  "Attrition": "No",
                  "YearsAtCompany": 18,
                  "_deepnote_index_column": 1028
                },
                {
                  "Attrition": "No",
                  "YearsAtCompany": 20,
                  "_deepnote_index_column": 1029
                },
                {
                  "Attrition": "No",
                  "YearsAtCompany": 7,
                  "_deepnote_index_column": 1030
                },
                {
                  "Attrition": "Yes",
                  "YearsAtCompany": 1,
                  "_deepnote_index_column": 1031
                },
                {
                  "Attrition": "No",
                  "YearsAtCompany": 8,
                  "_deepnote_index_column": 1032
                },
                {
                  "Attrition": "No",
                  "YearsAtCompany": 9,
                  "_deepnote_index_column": 1033
                },
                {
                  "Attrition": "No",
                  "YearsAtCompany": 8,
                  "_deepnote_index_column": 1034
                },
                {
                  "Attrition": "No",
                  "YearsAtCompany": 9,
                  "_deepnote_index_column": 1035
                },
                {
                  "Attrition": "No",
                  "YearsAtCompany": 0,
                  "_deepnote_index_column": 1036
                },
                {
                  "Attrition": "No",
                  "YearsAtCompany": 10,
                  "_deepnote_index_column": 1037
                },
                {
                  "Attrition": "No",
                  "YearsAtCompany": 22,
                  "_deepnote_index_column": 1038
                },
                {
                  "Attrition": "No",
                  "YearsAtCompany": 8,
                  "_deepnote_index_column": 1039
                },
                {
                  "Attrition": "Yes",
                  "YearsAtCompany": 3,
                  "_deepnote_index_column": 1040
                },
                {
                  "Attrition": "No",
                  "YearsAtCompany": 9,
                  "_deepnote_index_column": 1041
                },
                {
                  "Attrition": "No",
                  "YearsAtCompany": 5,
                  "_deepnote_index_column": 1042
                },
                {
                  "Attrition": "No",
                  "YearsAtCompany": 1,
                  "_deepnote_index_column": 1043
                },
                {
                  "Attrition": "No",
                  "YearsAtCompany": 17,
                  "_deepnote_index_column": 1044
                },
                {
                  "Attrition": "No",
                  "YearsAtCompany": 10,
                  "_deepnote_index_column": 1045
                },
                {
                  "Attrition": "Yes",
                  "YearsAtCompany": 7,
                  "_deepnote_index_column": 1046
                },
                {
                  "Attrition": "No",
                  "YearsAtCompany": 4,
                  "_deepnote_index_column": 1047
                },
                {
                  "Attrition": "No",
                  "YearsAtCompany": 5,
                  "_deepnote_index_column": 1048
                },
                {
                  "Attrition": "Yes",
                  "YearsAtCompany": 2,
                  "_deepnote_index_column": 1049
                },
                {
                  "Attrition": "No",
                  "YearsAtCompany": 9,
                  "_deepnote_index_column": 1050
                },
                {
                  "Attrition": "Yes",
                  "YearsAtCompany": 8,
                  "_deepnote_index_column": 1051
                },
                {
                  "Attrition": "No",
                  "YearsAtCompany": 5,
                  "_deepnote_index_column": 1052
                },
                {
                  "Attrition": "No",
                  "YearsAtCompany": 1,
                  "_deepnote_index_column": 1053
                },
                {
                  "Attrition": "No",
                  "YearsAtCompany": 19,
                  "_deepnote_index_column": 1054
                },
                {
                  "Attrition": "Yes",
                  "YearsAtCompany": 10,
                  "_deepnote_index_column": 1055
                },
                {
                  "Attrition": "No",
                  "YearsAtCompany": 10,
                  "_deepnote_index_column": 1056
                },
                {
                  "Attrition": "No",
                  "YearsAtCompany": 1,
                  "_deepnote_index_column": 1057
                },
                {
                  "Attrition": "No",
                  "YearsAtCompany": 5,
                  "_deepnote_index_column": 1058
                },
                {
                  "Attrition": "Yes",
                  "YearsAtCompany": 2,
                  "_deepnote_index_column": 1059
                },
                {
                  "Attrition": "No",
                  "YearsAtCompany": 5,
                  "_deepnote_index_column": 1060
                },
                {
                  "Attrition": "No",
                  "YearsAtCompany": 10,
                  "_deepnote_index_column": 1061
                },
                {
                  "Attrition": "Yes",
                  "YearsAtCompany": 1,
                  "_deepnote_index_column": 1062
                },
                {
                  "Attrition": "Yes",
                  "YearsAtCompany": 8,
                  "_deepnote_index_column": 1063
                },
                {
                  "Attrition": "Yes",
                  "YearsAtCompany": 3,
                  "_deepnote_index_column": 1064
                },
                {
                  "Attrition": "No",
                  "YearsAtCompany": 1,
                  "_deepnote_index_column": 1065
                },
                {
                  "Attrition": "No",
                  "YearsAtCompany": 3,
                  "_deepnote_index_column": 1066
                },
                {
                  "Attrition": "No",
                  "YearsAtCompany": 2,
                  "_deepnote_index_column": 1067
                },
                {
                  "Attrition": "No",
                  "YearsAtCompany": 21,
                  "_deepnote_index_column": 1068
                },
                {
                  "Attrition": "Yes",
                  "YearsAtCompany": 1,
                  "_deepnote_index_column": 1069
                },
                {
                  "Attrition": "Yes",
                  "YearsAtCompany": 8,
                  "_deepnote_index_column": 1070
                },
                {
                  "Attrition": "No",
                  "YearsAtCompany": 12,
                  "_deepnote_index_column": 1071
                },
                {
                  "Attrition": "No",
                  "YearsAtCompany": 8,
                  "_deepnote_index_column": 1072
                },
                {
                  "Attrition": "No",
                  "YearsAtCompany": 1,
                  "_deepnote_index_column": 1073
                },
                {
                  "Attrition": "No",
                  "YearsAtCompany": 7,
                  "_deepnote_index_column": 1074
                },
                {
                  "Attrition": "No",
                  "YearsAtCompany": 31,
                  "_deepnote_index_column": 1075
                },
                {
                  "Attrition": "Yes",
                  "YearsAtCompany": 9,
                  "_deepnote_index_column": 1076
                },
                {
                  "Attrition": "No",
                  "YearsAtCompany": 3,
                  "_deepnote_index_column": 1077
                },
                {
                  "Attrition": "No",
                  "YearsAtCompany": 4,
                  "_deepnote_index_column": 1078
                },
                {
                  "Attrition": "Yes",
                  "YearsAtCompany": 1,
                  "_deepnote_index_column": 1079
                },
                {
                  "Attrition": "Yes",
                  "YearsAtCompany": 32,
                  "_deepnote_index_column": 1080
                },
                {
                  "Attrition": "No",
                  "YearsAtCompany": 5,
                  "_deepnote_index_column": 1081
                },
                {
                  "Attrition": "No",
                  "YearsAtCompany": 9,
                  "_deepnote_index_column": 1082
                },
                {
                  "Attrition": "No",
                  "YearsAtCompany": 4,
                  "_deepnote_index_column": 1083
                },
                {
                  "Attrition": "No",
                  "YearsAtCompany": 8,
                  "_deepnote_index_column": 1084
                },
                {
                  "Attrition": "No",
                  "YearsAtCompany": 13,
                  "_deepnote_index_column": 1085
                },
                {
                  "Attrition": "No",
                  "YearsAtCompany": 9,
                  "_deepnote_index_column": 1086
                },
                {
                  "Attrition": "No",
                  "YearsAtCompany": 9,
                  "_deepnote_index_column": 1087
                },
                {
                  "Attrition": "No",
                  "YearsAtCompany": 3,
                  "_deepnote_index_column": 1088
                },
                {
                  "Attrition": "Yes",
                  "YearsAtCompany": 14,
                  "_deepnote_index_column": 1089
                },
                {
                  "Attrition": "Yes",
                  "YearsAtCompany": 1,
                  "_deepnote_index_column": 1090
                },
                {
                  "Attrition": "No",
                  "YearsAtCompany": 0,
                  "_deepnote_index_column": 1091
                },
                {
                  "Attrition": "No",
                  "YearsAtCompany": 0,
                  "_deepnote_index_column": 1092
                },
                {
                  "Attrition": "No",
                  "YearsAtCompany": 4,
                  "_deepnote_index_column": 1093
                },
                {
                  "Attrition": "No",
                  "YearsAtCompany": 2,
                  "_deepnote_index_column": 1094
                },
                {
                  "Attrition": "No",
                  "YearsAtCompany": 1,
                  "_deepnote_index_column": 1095
                },
                {
                  "Attrition": "No",
                  "YearsAtCompany": 5,
                  "_deepnote_index_column": 1096
                },
                {
                  "Attrition": "No",
                  "YearsAtCompany": 0,
                  "_deepnote_index_column": 1097
                },
                {
                  "Attrition": "No",
                  "YearsAtCompany": 10,
                  "_deepnote_index_column": 1098
                },
                {
                  "Attrition": "Yes",
                  "YearsAtCompany": 10,
                  "_deepnote_index_column": 1099
                }
              ]
            },
            "text/plain": "     Attrition  YearsAtCompany\n0           No              15\n1           No               5\n2           No               9\n3           No               8\n4           No               0\n...        ...             ...\n1095        No               1\n1096        No               5\n1097        No               0\n1098        No              10\n1099       Yes              10\n\n[1100 rows x 2 columns]",
            "text/html": "<div>\n<style scoped>\n    .dataframe tbody tr th:only-of-type {\n        vertical-align: middle;\n    }\n\n    .dataframe tbody tr th {\n        vertical-align: top;\n    }\n\n    .dataframe thead th {\n        text-align: right;\n    }\n</style>\n<table border=\"1\" class=\"dataframe\">\n  <thead>\n    <tr style=\"text-align: right;\">\n      <th></th>\n      <th>Attrition</th>\n      <th>YearsAtCompany</th>\n    </tr>\n  </thead>\n  <tbody>\n    <tr>\n      <th>0</th>\n      <td>No</td>\n      <td>15</td>\n    </tr>\n    <tr>\n      <th>1</th>\n      <td>No</td>\n      <td>5</td>\n    </tr>\n    <tr>\n      <th>2</th>\n      <td>No</td>\n      <td>9</td>\n    </tr>\n    <tr>\n      <th>3</th>\n      <td>No</td>\n      <td>8</td>\n    </tr>\n    <tr>\n      <th>4</th>\n      <td>No</td>\n      <td>0</td>\n    </tr>\n    <tr>\n      <th>...</th>\n      <td>...</td>\n      <td>...</td>\n    </tr>\n    <tr>\n      <th>1095</th>\n      <td>No</td>\n      <td>1</td>\n    </tr>\n    <tr>\n      <th>1096</th>\n      <td>No</td>\n      <td>5</td>\n    </tr>\n    <tr>\n      <th>1097</th>\n      <td>No</td>\n      <td>0</td>\n    </tr>\n    <tr>\n      <th>1098</th>\n      <td>No</td>\n      <td>10</td>\n    </tr>\n    <tr>\n      <th>1099</th>\n      <td>Yes</td>\n      <td>10</td>\n    </tr>\n  </tbody>\n</table>\n<p>1100 rows × 2 columns</p>\n</div>"
          },
          "metadata": {}
        }
      ]
    },
    {
      "cell_type": "code",
      "metadata": {
        "tags": [],
        "cell_id": "00011-539fc834-c530-419e-931a-8bdbec58c9c5",
        "deepnote_to_be_reexecuted": false,
        "source_hash": "97ef943",
        "execution_millis": 11,
        "execution_start": 1618556976028,
        "deepnote_cell_type": "code"
      },
      "source": "col_train = train_df.columns.to_list()\ncol_test = test_df.columns.to_list()\nprint(col_test)\nprint(col_train)",
      "execution_count": null,
      "outputs": [
        {
          "name": "stdout",
          "text": "['Age', 'BusinessTravel', 'DailyRate', 'Department', 'DistanceFromHome', 'Education', 'EducationField', 'EmployeeCount', 'EmployeeNumber', 'EnvironmentSatisfaction', 'Gender', 'HourlyRate', 'JobInvolvement', 'JobLevel', 'JobRole', 'JobSatisfaction', 'MaritalStatus', 'MonthlyIncome', 'MonthlyRate', 'NumCompaniesWorked', 'Over18', 'OverTime', 'PercentSalaryHike', 'PerformanceRating', 'RelationshipSatisfaction', 'StandardHours', 'StockOptionLevel', 'TotalWorkingYears', 'TrainingTimesLastYear', 'WorkLifeBalance', 'YearsAtCompany', 'YearsInCurrentRole', 'YearsSinceLastPromotion', 'YearsWithCurrManager', 'index1']\n['Age', 'Attrition', 'BusinessTravel', 'DailyRate', 'Department', 'DistanceFromHome', 'Education', 'EducationField', 'EmployeeCount', 'EmployeeNumber', 'EnvironmentSatisfaction', 'Gender', 'HourlyRate', 'JobInvolvement', 'JobLevel', 'JobRole', 'JobSatisfaction', 'MaritalStatus', 'MonthlyIncome', 'MonthlyRate', 'NumCompaniesWorked', 'Over18', 'OverTime', 'PercentSalaryHike', 'PerformanceRating', 'RelationshipSatisfaction', 'StandardHours', 'StockOptionLevel', 'TotalWorkingYears', 'TrainingTimesLastYear', 'WorkLifeBalance', 'YearsAtCompany', 'YearsInCurrentRole', 'YearsSinceLastPromotion', 'YearsWithCurrManager']\n",
          "output_type": "stream"
        }
      ]
    },
    {
      "cell_type": "markdown",
      "source": "# IV. Identifying the target variable",
      "metadata": {
        "tags": [],
        "cell_id": "00012-35d90326-c37e-4629-9643-7853196ea019",
        "deepnote_cell_type": "markdown"
      }
    },
    {
      "cell_type": "code",
      "metadata": {
        "tags": [],
        "cell_id": "00013-a870350e-6d2b-4e7e-84a8-f0538d5399e5",
        "deepnote_to_be_reexecuted": false,
        "source_hash": "3eae9b7d",
        "execution_millis": 787,
        "execution_start": 1618556976032,
        "deepnote_cell_type": "code"
      },
      "source": "from sklearn.model_selection import train_test_split\ny = train_df['Attrition']\nX = train_df.drop(['Attrition'], axis=1)\n\nX_train, X_test, y_train, y_test = train_test_split(X, y,random_state=35, train_size=0.8)",
      "execution_count": null,
      "outputs": []
    },
    {
      "cell_type": "code",
      "metadata": {
        "tags": [],
        "cell_id": "00014-f76fdd8e-1e24-4f5a-b146-b255a37ccd3f",
        "deepnote_to_be_reexecuted": false,
        "source_hash": "90178e48",
        "execution_millis": 37,
        "execution_start": 1618556976900,
        "deepnote_cell_type": "code"
      },
      "source": "test_df.head()",
      "execution_count": null,
      "outputs": [
        {
          "output_type": "execute_result",
          "execution_count": 11,
          "data": {
            "application/vnd.deepnote.dataframe.v2+json": {
              "row_count": 5,
              "column_count": 35,
              "columns": [
                {
                  "name": "Age",
                  "dtype": "int64",
                  "stats": {
                    "unique_count": 5,
                    "nan_count": 0,
                    "min": "27",
                    "max": "49",
                    "histogram": [
                      {
                        "bin_start": 27,
                        "bin_end": 29.2,
                        "count": 2
                      },
                      {
                        "bin_start": 29.2,
                        "bin_end": 31.4,
                        "count": 0
                      },
                      {
                        "bin_start": 31.4,
                        "bin_end": 33.6,
                        "count": 1
                      },
                      {
                        "bin_start": 33.6,
                        "bin_end": 35.8,
                        "count": 0
                      },
                      {
                        "bin_start": 35.8,
                        "bin_end": 38,
                        "count": 0
                      },
                      {
                        "bin_start": 38,
                        "bin_end": 40.2,
                        "count": 0
                      },
                      {
                        "bin_start": 40.2,
                        "bin_end": 42.400000000000006,
                        "count": 1
                      },
                      {
                        "bin_start": 42.400000000000006,
                        "bin_end": 44.6,
                        "count": 0
                      },
                      {
                        "bin_start": 44.6,
                        "bin_end": 46.8,
                        "count": 0
                      },
                      {
                        "bin_start": 46.8,
                        "bin_end": 49,
                        "count": 1
                      }
                    ]
                  }
                },
                {
                  "name": "BusinessTravel",
                  "dtype": "object",
                  "stats": {
                    "unique_count": 2,
                    "nan_count": 0,
                    "categories": [
                      {
                        "name": "Travel_Rarely",
                        "count": 3
                      },
                      {
                        "name": "Travel_Frequently",
                        "count": 2
                      }
                    ]
                  }
                },
                {
                  "name": "DailyRate",
                  "dtype": "int64",
                  "stats": {
                    "unique_count": 5,
                    "nan_count": 0,
                    "min": "279",
                    "max": "1389",
                    "histogram": [
                      {
                        "bin_start": 279,
                        "bin_end": 390,
                        "count": 1
                      },
                      {
                        "bin_start": 390,
                        "bin_end": 501,
                        "count": 0
                      },
                      {
                        "bin_start": 501,
                        "bin_end": 612,
                        "count": 1
                      },
                      {
                        "bin_start": 612,
                        "bin_end": 723,
                        "count": 0
                      },
                      {
                        "bin_start": 723,
                        "bin_end": 834,
                        "count": 0
                      },
                      {
                        "bin_start": 834,
                        "bin_end": 945,
                        "count": 0
                      },
                      {
                        "bin_start": 945,
                        "bin_end": 1056,
                        "count": 1
                      },
                      {
                        "bin_start": 1056,
                        "bin_end": 1167,
                        "count": 1
                      },
                      {
                        "bin_start": 1167,
                        "bin_end": 1278,
                        "count": 0
                      },
                      {
                        "bin_start": 1278,
                        "bin_end": 1389,
                        "count": 1
                      }
                    ]
                  }
                },
                {
                  "name": "Department",
                  "dtype": "object",
                  "stats": {
                    "unique_count": 2,
                    "nan_count": 0,
                    "categories": [
                      {
                        "name": "Research & Development",
                        "count": 4
                      },
                      {
                        "name": "Sales",
                        "count": 1
                      }
                    ]
                  }
                },
                {
                  "name": "DistanceFromHome",
                  "dtype": "int64",
                  "stats": {
                    "unique_count": 4,
                    "nan_count": 0,
                    "min": "1",
                    "max": "21",
                    "histogram": [
                      {
                        "bin_start": 1,
                        "bin_end": 3,
                        "count": 3
                      },
                      {
                        "bin_start": 3,
                        "bin_end": 5,
                        "count": 0
                      },
                      {
                        "bin_start": 5,
                        "bin_end": 7,
                        "count": 0
                      },
                      {
                        "bin_start": 7,
                        "bin_end": 9,
                        "count": 1
                      },
                      {
                        "bin_start": 9,
                        "bin_end": 11,
                        "count": 0
                      },
                      {
                        "bin_start": 11,
                        "bin_end": 13,
                        "count": 0
                      },
                      {
                        "bin_start": 13,
                        "bin_end": 15,
                        "count": 0
                      },
                      {
                        "bin_start": 15,
                        "bin_end": 17,
                        "count": 0
                      },
                      {
                        "bin_start": 17,
                        "bin_end": 19,
                        "count": 0
                      },
                      {
                        "bin_start": 19,
                        "bin_end": 21,
                        "count": 1
                      }
                    ]
                  }
                },
                {
                  "name": "Education",
                  "dtype": "int64",
                  "stats": {
                    "unique_count": 3,
                    "nan_count": 0,
                    "min": "1",
                    "max": "4",
                    "histogram": [
                      {
                        "bin_start": 1,
                        "bin_end": 1.3,
                        "count": 2
                      },
                      {
                        "bin_start": 1.3,
                        "bin_end": 1.6,
                        "count": 0
                      },
                      {
                        "bin_start": 1.6,
                        "bin_end": 1.9,
                        "count": 0
                      },
                      {
                        "bin_start": 1.9,
                        "bin_end": 2.2,
                        "count": 2
                      },
                      {
                        "bin_start": 2.2,
                        "bin_end": 2.5,
                        "count": 0
                      },
                      {
                        "bin_start": 2.5,
                        "bin_end": 2.8,
                        "count": 0
                      },
                      {
                        "bin_start": 2.8,
                        "bin_end": 3.1,
                        "count": 0
                      },
                      {
                        "bin_start": 3.1,
                        "bin_end": 3.4,
                        "count": 0
                      },
                      {
                        "bin_start": 3.4,
                        "bin_end": 3.6999999999999997,
                        "count": 0
                      },
                      {
                        "bin_start": 3.6999999999999997,
                        "bin_end": 4,
                        "count": 1
                      }
                    ]
                  }
                },
                {
                  "name": "EducationField",
                  "dtype": "object",
                  "stats": {
                    "unique_count": 2,
                    "nan_count": 0,
                    "categories": [
                      {
                        "name": "Life Sciences",
                        "count": 4
                      },
                      {
                        "name": "Medical",
                        "count": 1
                      }
                    ]
                  }
                },
                {
                  "name": "EmployeeCount",
                  "dtype": "int64",
                  "stats": {
                    "unique_count": 1,
                    "nan_count": 0,
                    "min": "1",
                    "max": "1",
                    "histogram": [
                      {
                        "bin_start": 0.5,
                        "bin_end": 0.6,
                        "count": 0
                      },
                      {
                        "bin_start": 0.6,
                        "bin_end": 0.7,
                        "count": 0
                      },
                      {
                        "bin_start": 0.7,
                        "bin_end": 0.8,
                        "count": 0
                      },
                      {
                        "bin_start": 0.8,
                        "bin_end": 0.9,
                        "count": 0
                      },
                      {
                        "bin_start": 0.9,
                        "bin_end": 1,
                        "count": 0
                      },
                      {
                        "bin_start": 1,
                        "bin_end": 1.1,
                        "count": 5
                      },
                      {
                        "bin_start": 1.1,
                        "bin_end": 1.2000000000000002,
                        "count": 0
                      },
                      {
                        "bin_start": 1.2000000000000002,
                        "bin_end": 1.3,
                        "count": 0
                      },
                      {
                        "bin_start": 1.3,
                        "bin_end": 1.4,
                        "count": 0
                      },
                      {
                        "bin_start": 1.4,
                        "bin_end": 1.5,
                        "count": 0
                      }
                    ]
                  }
                },
                {
                  "name": "EmployeeNumber",
                  "dtype": "int64",
                  "stats": {
                    "unique_count": 5,
                    "nan_count": 0,
                    "min": "1",
                    "max": "20",
                    "histogram": [
                      {
                        "bin_start": 1,
                        "bin_end": 2.9,
                        "count": 2
                      },
                      {
                        "bin_start": 2.9,
                        "bin_end": 4.8,
                        "count": 0
                      },
                      {
                        "bin_start": 4.8,
                        "bin_end": 6.699999999999999,
                        "count": 0
                      },
                      {
                        "bin_start": 6.699999999999999,
                        "bin_end": 8.6,
                        "count": 2
                      },
                      {
                        "bin_start": 8.6,
                        "bin_end": 10.5,
                        "count": 0
                      },
                      {
                        "bin_start": 10.5,
                        "bin_end": 12.399999999999999,
                        "count": 0
                      },
                      {
                        "bin_start": 12.399999999999999,
                        "bin_end": 14.299999999999999,
                        "count": 0
                      },
                      {
                        "bin_start": 14.299999999999999,
                        "bin_end": 16.2,
                        "count": 0
                      },
                      {
                        "bin_start": 16.2,
                        "bin_end": 18.099999999999998,
                        "count": 0
                      },
                      {
                        "bin_start": 18.099999999999998,
                        "bin_end": 20,
                        "count": 1
                      }
                    ]
                  }
                },
                {
                  "name": "EnvironmentSatisfaction",
                  "dtype": "int64",
                  "stats": {
                    "unique_count": 4,
                    "nan_count": 0,
                    "min": "1",
                    "max": "4",
                    "histogram": [
                      {
                        "bin_start": 1,
                        "bin_end": 1.3,
                        "count": 1
                      },
                      {
                        "bin_start": 1.3,
                        "bin_end": 1.6,
                        "count": 0
                      },
                      {
                        "bin_start": 1.6,
                        "bin_end": 1.9,
                        "count": 0
                      },
                      {
                        "bin_start": 1.9,
                        "bin_end": 2.2,
                        "count": 2
                      },
                      {
                        "bin_start": 2.2,
                        "bin_end": 2.5,
                        "count": 0
                      },
                      {
                        "bin_start": 2.5,
                        "bin_end": 2.8,
                        "count": 0
                      },
                      {
                        "bin_start": 2.8,
                        "bin_end": 3.1,
                        "count": 1
                      },
                      {
                        "bin_start": 3.1,
                        "bin_end": 3.4,
                        "count": 0
                      },
                      {
                        "bin_start": 3.4,
                        "bin_end": 3.6999999999999997,
                        "count": 0
                      },
                      {
                        "bin_start": 3.6999999999999997,
                        "bin_end": 4,
                        "count": 1
                      }
                    ]
                  }
                },
                {
                  "name": "Gender",
                  "dtype": "object",
                  "stats": {
                    "unique_count": 2,
                    "nan_count": 0,
                    "categories": [
                      {
                        "name": "Male",
                        "count": 3
                      },
                      {
                        "name": "Female",
                        "count": 2
                      }
                    ]
                  }
                },
                {
                  "name": "HourlyRate",
                  "dtype": "int64",
                  "stats": {
                    "unique_count": 5,
                    "nan_count": 0,
                    "min": "40",
                    "max": "94",
                    "histogram": [
                      {
                        "bin_start": 40,
                        "bin_end": 45.4,
                        "count": 1
                      },
                      {
                        "bin_start": 45.4,
                        "bin_end": 50.8,
                        "count": 0
                      },
                      {
                        "bin_start": 50.8,
                        "bin_end": 56.2,
                        "count": 1
                      },
                      {
                        "bin_start": 56.2,
                        "bin_end": 61.6,
                        "count": 1
                      },
                      {
                        "bin_start": 61.6,
                        "bin_end": 67,
                        "count": 0
                      },
                      {
                        "bin_start": 67,
                        "bin_end": 72.4,
                        "count": 0
                      },
                      {
                        "bin_start": 72.4,
                        "bin_end": 77.80000000000001,
                        "count": 0
                      },
                      {
                        "bin_start": 77.80000000000001,
                        "bin_end": 83.2,
                        "count": 1
                      },
                      {
                        "bin_start": 83.2,
                        "bin_end": 88.6,
                        "count": 0
                      },
                      {
                        "bin_start": 88.6,
                        "bin_end": 94,
                        "count": 1
                      }
                    ]
                  }
                },
                {
                  "name": "JobInvolvement",
                  "dtype": "int64",
                  "stats": {
                    "unique_count": 3,
                    "nan_count": 0,
                    "min": "2",
                    "max": "4",
                    "histogram": [
                      {
                        "bin_start": 2,
                        "bin_end": 2.2,
                        "count": 1
                      },
                      {
                        "bin_start": 2.2,
                        "bin_end": 2.4,
                        "count": 0
                      },
                      {
                        "bin_start": 2.4,
                        "bin_end": 2.6,
                        "count": 0
                      },
                      {
                        "bin_start": 2.6,
                        "bin_end": 2.8,
                        "count": 0
                      },
                      {
                        "bin_start": 2.8,
                        "bin_end": 3,
                        "count": 0
                      },
                      {
                        "bin_start": 3,
                        "bin_end": 3.2,
                        "count": 3
                      },
                      {
                        "bin_start": 3.2,
                        "bin_end": 3.4000000000000004,
                        "count": 0
                      },
                      {
                        "bin_start": 3.4000000000000004,
                        "bin_end": 3.6,
                        "count": 0
                      },
                      {
                        "bin_start": 3.6,
                        "bin_end": 3.8,
                        "count": 0
                      },
                      {
                        "bin_start": 3.8,
                        "bin_end": 4,
                        "count": 1
                      }
                    ]
                  }
                },
                {
                  "name": "JobLevel",
                  "dtype": "int64",
                  "stats": {
                    "unique_count": 3,
                    "nan_count": 0,
                    "min": "1",
                    "max": "3",
                    "histogram": [
                      {
                        "bin_start": 1,
                        "bin_end": 1.2,
                        "count": 2
                      },
                      {
                        "bin_start": 1.2,
                        "bin_end": 1.4,
                        "count": 0
                      },
                      {
                        "bin_start": 1.4,
                        "bin_end": 1.6,
                        "count": 0
                      },
                      {
                        "bin_start": 1.6,
                        "bin_end": 1.8,
                        "count": 0
                      },
                      {
                        "bin_start": 1.8,
                        "bin_end": 2,
                        "count": 0
                      },
                      {
                        "bin_start": 2,
                        "bin_end": 2.2,
                        "count": 2
                      },
                      {
                        "bin_start": 2.2,
                        "bin_end": 2.4000000000000004,
                        "count": 0
                      },
                      {
                        "bin_start": 2.4000000000000004,
                        "bin_end": 2.6,
                        "count": 0
                      },
                      {
                        "bin_start": 2.6,
                        "bin_end": 2.8,
                        "count": 0
                      },
                      {
                        "bin_start": 2.8,
                        "bin_end": 3,
                        "count": 1
                      }
                    ]
                  }
                },
                {
                  "name": "JobRole",
                  "dtype": "object",
                  "stats": {
                    "unique_count": 4,
                    "nan_count": 0,
                    "categories": [
                      {
                        "name": "Laboratory Technician",
                        "count": 2
                      },
                      {
                        "name": "Sales Executive",
                        "count": 1
                      },
                      {
                        "name": "2 others",
                        "count": 2
                      }
                    ]
                  }
                },
                {
                  "name": "JobSatisfaction",
                  "dtype": "int64",
                  "stats": {
                    "unique_count": 3,
                    "nan_count": 0,
                    "min": "1",
                    "max": "4",
                    "histogram": [
                      {
                        "bin_start": 1,
                        "bin_end": 1.3,
                        "count": 1
                      },
                      {
                        "bin_start": 1.3,
                        "bin_end": 1.6,
                        "count": 0
                      },
                      {
                        "bin_start": 1.6,
                        "bin_end": 1.9,
                        "count": 0
                      },
                      {
                        "bin_start": 1.9,
                        "bin_end": 2.2,
                        "count": 2
                      },
                      {
                        "bin_start": 2.2,
                        "bin_end": 2.5,
                        "count": 0
                      },
                      {
                        "bin_start": 2.5,
                        "bin_end": 2.8,
                        "count": 0
                      },
                      {
                        "bin_start": 2.8,
                        "bin_end": 3.1,
                        "count": 0
                      },
                      {
                        "bin_start": 3.1,
                        "bin_end": 3.4,
                        "count": 0
                      },
                      {
                        "bin_start": 3.4,
                        "bin_end": 3.6999999999999997,
                        "count": 0
                      },
                      {
                        "bin_start": 3.6999999999999997,
                        "bin_end": 4,
                        "count": 2
                      }
                    ]
                  }
                },
                {
                  "name": "MaritalStatus",
                  "dtype": "object",
                  "stats": {
                    "unique_count": 3,
                    "nan_count": 0,
                    "categories": [
                      {
                        "name": "Single",
                        "count": 2
                      },
                      {
                        "name": "Married",
                        "count": 2
                      },
                      {
                        "name": "Divorced",
                        "count": 1
                      }
                    ]
                  }
                },
                {
                  "name": "MonthlyIncome",
                  "dtype": "int64",
                  "stats": {
                    "unique_count": 5,
                    "nan_count": 0,
                    "min": "3068",
                    "max": "9980",
                    "histogram": [
                      {
                        "bin_start": 3068,
                        "bin_end": 3759.2,
                        "count": 2
                      },
                      {
                        "bin_start": 3759.2,
                        "bin_end": 4450.4,
                        "count": 0
                      },
                      {
                        "bin_start": 4450.4,
                        "bin_end": 5141.6,
                        "count": 1
                      },
                      {
                        "bin_start": 5141.6,
                        "bin_end": 5832.8,
                        "count": 0
                      },
                      {
                        "bin_start": 5832.8,
                        "bin_end": 6524,
                        "count": 1
                      },
                      {
                        "bin_start": 6524,
                        "bin_end": 7215.200000000001,
                        "count": 0
                      },
                      {
                        "bin_start": 7215.200000000001,
                        "bin_end": 7906.400000000001,
                        "count": 0
                      },
                      {
                        "bin_start": 7906.400000000001,
                        "bin_end": 8597.6,
                        "count": 0
                      },
                      {
                        "bin_start": 8597.6,
                        "bin_end": 9288.8,
                        "count": 0
                      },
                      {
                        "bin_start": 9288.8,
                        "bin_end": 9980,
                        "count": 1
                      }
                    ]
                  }
                },
                {
                  "name": "MonthlyRate",
                  "dtype": "int64",
                  "stats": {
                    "unique_count": 5,
                    "nan_count": 0,
                    "min": "10195",
                    "max": "24907",
                    "histogram": [
                      {
                        "bin_start": 10195,
                        "bin_end": 11666.2,
                        "count": 1
                      },
                      {
                        "bin_start": 11666.2,
                        "bin_end": 13137.4,
                        "count": 1
                      },
                      {
                        "bin_start": 13137.4,
                        "bin_end": 14608.6,
                        "count": 0
                      },
                      {
                        "bin_start": 14608.6,
                        "bin_end": 16079.8,
                        "count": 0
                      },
                      {
                        "bin_start": 16079.8,
                        "bin_end": 17551,
                        "count": 1
                      },
                      {
                        "bin_start": 17551,
                        "bin_end": 19022.2,
                        "count": 0
                      },
                      {
                        "bin_start": 19022.2,
                        "bin_end": 20493.4,
                        "count": 1
                      },
                      {
                        "bin_start": 20493.4,
                        "bin_end": 21964.6,
                        "count": 0
                      },
                      {
                        "bin_start": 21964.6,
                        "bin_end": 23435.800000000003,
                        "count": 0
                      },
                      {
                        "bin_start": 23435.800000000003,
                        "bin_end": 24907,
                        "count": 1
                      }
                    ]
                  }
                },
                {
                  "name": "NumCompaniesWorked",
                  "dtype": "int64",
                  "stats": {
                    "unique_count": 4,
                    "nan_count": 0,
                    "min": "0",
                    "max": "9",
                    "histogram": [
                      {
                        "bin_start": 0,
                        "bin_end": 0.9,
                        "count": 1
                      },
                      {
                        "bin_start": 0.9,
                        "bin_end": 1.8,
                        "count": 2
                      },
                      {
                        "bin_start": 1.8,
                        "bin_end": 2.7,
                        "count": 0
                      },
                      {
                        "bin_start": 2.7,
                        "bin_end": 3.6,
                        "count": 0
                      },
                      {
                        "bin_start": 3.6,
                        "bin_end": 4.5,
                        "count": 0
                      },
                      {
                        "bin_start": 4.5,
                        "bin_end": 5.4,
                        "count": 0
                      },
                      {
                        "bin_start": 5.4,
                        "bin_end": 6.3,
                        "count": 0
                      },
                      {
                        "bin_start": 6.3,
                        "bin_end": 7.2,
                        "count": 0
                      },
                      {
                        "bin_start": 7.2,
                        "bin_end": 8.1,
                        "count": 1
                      },
                      {
                        "bin_start": 8.1,
                        "bin_end": 9,
                        "count": 1
                      }
                    ]
                  }
                },
                {
                  "name": "Over18",
                  "dtype": "object",
                  "stats": {
                    "unique_count": 1,
                    "nan_count": 0,
                    "categories": [
                      {
                        "name": "Y",
                        "count": 5
                      }
                    ]
                  }
                },
                {
                  "name": "OverTime",
                  "dtype": "object",
                  "stats": {
                    "unique_count": 2,
                    "nan_count": 0,
                    "categories": [
                      {
                        "name": "No",
                        "count": 4
                      },
                      {
                        "name": "Yes",
                        "count": 1
                      }
                    ]
                  }
                },
                {
                  "name": "PercentSalaryHike",
                  "dtype": "int64",
                  "stats": {
                    "unique_count": 4,
                    "nan_count": 0,
                    "min": "11",
                    "max": "23",
                    "histogram": [
                      {
                        "bin_start": 11,
                        "bin_end": 12.2,
                        "count": 3
                      },
                      {
                        "bin_start": 12.2,
                        "bin_end": 13.4,
                        "count": 1
                      },
                      {
                        "bin_start": 13.4,
                        "bin_end": 14.6,
                        "count": 0
                      },
                      {
                        "bin_start": 14.6,
                        "bin_end": 15.8,
                        "count": 0
                      },
                      {
                        "bin_start": 15.8,
                        "bin_end": 17,
                        "count": 0
                      },
                      {
                        "bin_start": 17,
                        "bin_end": 18.2,
                        "count": 0
                      },
                      {
                        "bin_start": 18.2,
                        "bin_end": 19.4,
                        "count": 0
                      },
                      {
                        "bin_start": 19.4,
                        "bin_end": 20.6,
                        "count": 0
                      },
                      {
                        "bin_start": 20.6,
                        "bin_end": 21.799999999999997,
                        "count": 0
                      },
                      {
                        "bin_start": 21.799999999999997,
                        "bin_end": 23,
                        "count": 1
                      }
                    ]
                  }
                },
                {
                  "name": "PerformanceRating",
                  "dtype": "int64",
                  "stats": {
                    "unique_count": 2,
                    "nan_count": 0,
                    "min": "3",
                    "max": "4",
                    "histogram": [
                      {
                        "bin_start": 3,
                        "bin_end": 3.1,
                        "count": 4
                      },
                      {
                        "bin_start": 3.1,
                        "bin_end": 3.2,
                        "count": 0
                      },
                      {
                        "bin_start": 3.2,
                        "bin_end": 3.3,
                        "count": 0
                      },
                      {
                        "bin_start": 3.3,
                        "bin_end": 3.4,
                        "count": 0
                      },
                      {
                        "bin_start": 3.4,
                        "bin_end": 3.5,
                        "count": 0
                      },
                      {
                        "bin_start": 3.5,
                        "bin_end": 3.6,
                        "count": 0
                      },
                      {
                        "bin_start": 3.6,
                        "bin_end": 3.7,
                        "count": 0
                      },
                      {
                        "bin_start": 3.7,
                        "bin_end": 3.8,
                        "count": 0
                      },
                      {
                        "bin_start": 3.8,
                        "bin_end": 3.9,
                        "count": 0
                      },
                      {
                        "bin_start": 3.9,
                        "bin_end": 4,
                        "count": 1
                      }
                    ]
                  }
                },
                {
                  "name": "RelationshipSatisfaction",
                  "dtype": "int64",
                  "stats": {
                    "unique_count": 3,
                    "nan_count": 0,
                    "min": "1",
                    "max": "4",
                    "histogram": [
                      {
                        "bin_start": 1,
                        "bin_end": 1.3,
                        "count": 1
                      },
                      {
                        "bin_start": 1.3,
                        "bin_end": 1.6,
                        "count": 0
                      },
                      {
                        "bin_start": 1.6,
                        "bin_end": 1.9,
                        "count": 0
                      },
                      {
                        "bin_start": 1.9,
                        "bin_end": 2.2,
                        "count": 0
                      },
                      {
                        "bin_start": 2.2,
                        "bin_end": 2.5,
                        "count": 0
                      },
                      {
                        "bin_start": 2.5,
                        "bin_end": 2.8,
                        "count": 0
                      },
                      {
                        "bin_start": 2.8,
                        "bin_end": 3.1,
                        "count": 2
                      },
                      {
                        "bin_start": 3.1,
                        "bin_end": 3.4,
                        "count": 0
                      },
                      {
                        "bin_start": 3.4,
                        "bin_end": 3.6999999999999997,
                        "count": 0
                      },
                      {
                        "bin_start": 3.6999999999999997,
                        "bin_end": 4,
                        "count": 2
                      }
                    ]
                  }
                },
                {
                  "name": "StandardHours",
                  "dtype": "int64",
                  "stats": {
                    "unique_count": 1,
                    "nan_count": 0,
                    "min": "80",
                    "max": "80",
                    "histogram": [
                      {
                        "bin_start": 79.5,
                        "bin_end": 79.6,
                        "count": 0
                      },
                      {
                        "bin_start": 79.6,
                        "bin_end": 79.7,
                        "count": 0
                      },
                      {
                        "bin_start": 79.7,
                        "bin_end": 79.8,
                        "count": 0
                      },
                      {
                        "bin_start": 79.8,
                        "bin_end": 79.9,
                        "count": 0
                      },
                      {
                        "bin_start": 79.9,
                        "bin_end": 80,
                        "count": 0
                      },
                      {
                        "bin_start": 80,
                        "bin_end": 80.1,
                        "count": 5
                      },
                      {
                        "bin_start": 80.1,
                        "bin_end": 80.2,
                        "count": 0
                      },
                      {
                        "bin_start": 80.2,
                        "bin_end": 80.3,
                        "count": 0
                      },
                      {
                        "bin_start": 80.3,
                        "bin_end": 80.4,
                        "count": 0
                      },
                      {
                        "bin_start": 80.4,
                        "bin_end": 80.5,
                        "count": 0
                      }
                    ]
                  }
                },
                {
                  "name": "StockOptionLevel",
                  "dtype": "int64",
                  "stats": {
                    "unique_count": 2,
                    "nan_count": 0,
                    "min": "0",
                    "max": "1",
                    "histogram": [
                      {
                        "bin_start": 0,
                        "bin_end": 0.1,
                        "count": 2
                      },
                      {
                        "bin_start": 0.1,
                        "bin_end": 0.2,
                        "count": 0
                      },
                      {
                        "bin_start": 0.2,
                        "bin_end": 0.30000000000000004,
                        "count": 0
                      },
                      {
                        "bin_start": 0.30000000000000004,
                        "bin_end": 0.4,
                        "count": 0
                      },
                      {
                        "bin_start": 0.4,
                        "bin_end": 0.5,
                        "count": 0
                      },
                      {
                        "bin_start": 0.5,
                        "bin_end": 0.6000000000000001,
                        "count": 0
                      },
                      {
                        "bin_start": 0.6000000000000001,
                        "bin_end": 0.7000000000000001,
                        "count": 0
                      },
                      {
                        "bin_start": 0.7000000000000001,
                        "bin_end": 0.8,
                        "count": 0
                      },
                      {
                        "bin_start": 0.8,
                        "bin_end": 0.9,
                        "count": 0
                      },
                      {
                        "bin_start": 0.9,
                        "bin_end": 1,
                        "count": 3
                      }
                    ]
                  }
                },
                {
                  "name": "TotalWorkingYears",
                  "dtype": "int64",
                  "stats": {
                    "unique_count": 3,
                    "nan_count": 0,
                    "min": "6",
                    "max": "10",
                    "histogram": [
                      {
                        "bin_start": 6,
                        "bin_end": 6.4,
                        "count": 1
                      },
                      {
                        "bin_start": 6.4,
                        "bin_end": 6.8,
                        "count": 0
                      },
                      {
                        "bin_start": 6.8,
                        "bin_end": 7.2,
                        "count": 0
                      },
                      {
                        "bin_start": 7.2,
                        "bin_end": 7.6,
                        "count": 0
                      },
                      {
                        "bin_start": 7.6,
                        "bin_end": 8,
                        "count": 0
                      },
                      {
                        "bin_start": 8,
                        "bin_end": 8.4,
                        "count": 2
                      },
                      {
                        "bin_start": 8.4,
                        "bin_end": 8.8,
                        "count": 0
                      },
                      {
                        "bin_start": 8.8,
                        "bin_end": 9.2,
                        "count": 0
                      },
                      {
                        "bin_start": 9.2,
                        "bin_end": 9.6,
                        "count": 0
                      },
                      {
                        "bin_start": 9.6,
                        "bin_end": 10,
                        "count": 2
                      }
                    ]
                  }
                },
                {
                  "name": "TrainingTimesLastYear",
                  "dtype": "int64",
                  "stats": {
                    "unique_count": 4,
                    "nan_count": 0,
                    "min": "0",
                    "max": "3",
                    "histogram": [
                      {
                        "bin_start": 0,
                        "bin_end": 0.3,
                        "count": 1
                      },
                      {
                        "bin_start": 0.3,
                        "bin_end": 0.6,
                        "count": 0
                      },
                      {
                        "bin_start": 0.6,
                        "bin_end": 0.8999999999999999,
                        "count": 0
                      },
                      {
                        "bin_start": 0.8999999999999999,
                        "bin_end": 1.2,
                        "count": 1
                      },
                      {
                        "bin_start": 1.2,
                        "bin_end": 1.5,
                        "count": 0
                      },
                      {
                        "bin_start": 1.5,
                        "bin_end": 1.7999999999999998,
                        "count": 0
                      },
                      {
                        "bin_start": 1.7999999999999998,
                        "bin_end": 2.1,
                        "count": 1
                      },
                      {
                        "bin_start": 2.1,
                        "bin_end": 2.4,
                        "count": 0
                      },
                      {
                        "bin_start": 2.4,
                        "bin_end": 2.6999999999999997,
                        "count": 0
                      },
                      {
                        "bin_start": 2.6999999999999997,
                        "bin_end": 3,
                        "count": 2
                      }
                    ]
                  }
                },
                {
                  "name": "WorkLifeBalance",
                  "dtype": "int64",
                  "stats": {
                    "unique_count": 3,
                    "nan_count": 0,
                    "min": "1",
                    "max": "3",
                    "histogram": [
                      {
                        "bin_start": 1,
                        "bin_end": 1.2,
                        "count": 1
                      },
                      {
                        "bin_start": 1.2,
                        "bin_end": 1.4,
                        "count": 0
                      },
                      {
                        "bin_start": 1.4,
                        "bin_end": 1.6,
                        "count": 0
                      },
                      {
                        "bin_start": 1.6,
                        "bin_end": 1.8,
                        "count": 0
                      },
                      {
                        "bin_start": 1.8,
                        "bin_end": 2,
                        "count": 0
                      },
                      {
                        "bin_start": 2,
                        "bin_end": 2.2,
                        "count": 1
                      },
                      {
                        "bin_start": 2.2,
                        "bin_end": 2.4000000000000004,
                        "count": 0
                      },
                      {
                        "bin_start": 2.4000000000000004,
                        "bin_end": 2.6,
                        "count": 0
                      },
                      {
                        "bin_start": 2.6,
                        "bin_end": 2.8,
                        "count": 0
                      },
                      {
                        "bin_start": 2.8,
                        "bin_end": 3,
                        "count": 3
                      }
                    ]
                  }
                },
                {
                  "name": "YearsAtCompany",
                  "dtype": "int64",
                  "stats": {
                    "unique_count": 4,
                    "nan_count": 0,
                    "min": "2",
                    "max": "10",
                    "histogram": [
                      {
                        "bin_start": 2,
                        "bin_end": 2.8,
                        "count": 1
                      },
                      {
                        "bin_start": 2.8,
                        "bin_end": 3.6,
                        "count": 0
                      },
                      {
                        "bin_start": 3.6,
                        "bin_end": 4.4,
                        "count": 0
                      },
                      {
                        "bin_start": 4.4,
                        "bin_end": 5.2,
                        "count": 0
                      },
                      {
                        "bin_start": 5.2,
                        "bin_end": 6,
                        "count": 0
                      },
                      {
                        "bin_start": 6,
                        "bin_end": 6.800000000000001,
                        "count": 1
                      },
                      {
                        "bin_start": 6.800000000000001,
                        "bin_end": 7.6000000000000005,
                        "count": 1
                      },
                      {
                        "bin_start": 7.6000000000000005,
                        "bin_end": 8.4,
                        "count": 0
                      },
                      {
                        "bin_start": 8.4,
                        "bin_end": 9.2,
                        "count": 0
                      },
                      {
                        "bin_start": 9.2,
                        "bin_end": 10,
                        "count": 2
                      }
                    ]
                  }
                },
                {
                  "name": "YearsInCurrentRole",
                  "dtype": "int64",
                  "stats": {
                    "unique_count": 4,
                    "nan_count": 0,
                    "min": "2",
                    "max": "9",
                    "histogram": [
                      {
                        "bin_start": 2,
                        "bin_end": 2.7,
                        "count": 1
                      },
                      {
                        "bin_start": 2.7,
                        "bin_end": 3.4,
                        "count": 0
                      },
                      {
                        "bin_start": 3.4,
                        "bin_end": 4.1,
                        "count": 1
                      },
                      {
                        "bin_start": 4.1,
                        "bin_end": 4.8,
                        "count": 0
                      },
                      {
                        "bin_start": 4.8,
                        "bin_end": 5.5,
                        "count": 0
                      },
                      {
                        "bin_start": 5.5,
                        "bin_end": 6.199999999999999,
                        "count": 0
                      },
                      {
                        "bin_start": 6.199999999999999,
                        "bin_end": 6.8999999999999995,
                        "count": 0
                      },
                      {
                        "bin_start": 6.8999999999999995,
                        "bin_end": 7.6,
                        "count": 2
                      },
                      {
                        "bin_start": 7.6,
                        "bin_end": 8.3,
                        "count": 0
                      },
                      {
                        "bin_start": 8.3,
                        "bin_end": 9,
                        "count": 1
                      }
                    ]
                  }
                },
                {
                  "name": "YearsSinceLastPromotion",
                  "dtype": "int64",
                  "stats": {
                    "unique_count": 5,
                    "nan_count": 0,
                    "min": "0",
                    "max": "8",
                    "histogram": [
                      {
                        "bin_start": 0,
                        "bin_end": 0.8,
                        "count": 1
                      },
                      {
                        "bin_start": 0.8,
                        "bin_end": 1.6,
                        "count": 1
                      },
                      {
                        "bin_start": 1.6,
                        "bin_end": 2.4000000000000004,
                        "count": 1
                      },
                      {
                        "bin_start": 2.4000000000000004,
                        "bin_end": 3.2,
                        "count": 1
                      },
                      {
                        "bin_start": 3.2,
                        "bin_end": 4,
                        "count": 0
                      },
                      {
                        "bin_start": 4,
                        "bin_end": 4.800000000000001,
                        "count": 0
                      },
                      {
                        "bin_start": 4.800000000000001,
                        "bin_end": 5.6000000000000005,
                        "count": 0
                      },
                      {
                        "bin_start": 5.6000000000000005,
                        "bin_end": 6.4,
                        "count": 0
                      },
                      {
                        "bin_start": 6.4,
                        "bin_end": 7.2,
                        "count": 0
                      },
                      {
                        "bin_start": 7.2,
                        "bin_end": 8,
                        "count": 1
                      }
                    ]
                  }
                },
                {
                  "name": "YearsWithCurrManager",
                  "dtype": "int64",
                  "stats": {
                    "unique_count": 5,
                    "nan_count": 0,
                    "min": "2",
                    "max": "8",
                    "histogram": [
                      {
                        "bin_start": 2,
                        "bin_end": 2.6,
                        "count": 1
                      },
                      {
                        "bin_start": 2.6,
                        "bin_end": 3.2,
                        "count": 0
                      },
                      {
                        "bin_start": 3.2,
                        "bin_end": 3.8,
                        "count": 0
                      },
                      {
                        "bin_start": 3.8,
                        "bin_end": 4.4,
                        "count": 0
                      },
                      {
                        "bin_start": 4.4,
                        "bin_end": 5,
                        "count": 0
                      },
                      {
                        "bin_start": 5,
                        "bin_end": 5.6,
                        "count": 1
                      },
                      {
                        "bin_start": 5.6,
                        "bin_end": 6.2,
                        "count": 1
                      },
                      {
                        "bin_start": 6.2,
                        "bin_end": 6.8,
                        "count": 0
                      },
                      {
                        "bin_start": 6.8,
                        "bin_end": 7.3999999999999995,
                        "count": 1
                      },
                      {
                        "bin_start": 7.3999999999999995,
                        "bin_end": 8,
                        "count": 1
                      }
                    ]
                  }
                },
                {
                  "name": "index1",
                  "dtype": "int64",
                  "stats": {
                    "unique_count": 5,
                    "nan_count": 0,
                    "min": "0",
                    "max": "4",
                    "histogram": [
                      {
                        "bin_start": 0,
                        "bin_end": 0.4,
                        "count": 1
                      },
                      {
                        "bin_start": 0.4,
                        "bin_end": 0.8,
                        "count": 0
                      },
                      {
                        "bin_start": 0.8,
                        "bin_end": 1.2000000000000002,
                        "count": 1
                      },
                      {
                        "bin_start": 1.2000000000000002,
                        "bin_end": 1.6,
                        "count": 0
                      },
                      {
                        "bin_start": 1.6,
                        "bin_end": 2,
                        "count": 0
                      },
                      {
                        "bin_start": 2,
                        "bin_end": 2.4000000000000004,
                        "count": 1
                      },
                      {
                        "bin_start": 2.4000000000000004,
                        "bin_end": 2.8000000000000003,
                        "count": 0
                      },
                      {
                        "bin_start": 2.8000000000000003,
                        "bin_end": 3.2,
                        "count": 1
                      },
                      {
                        "bin_start": 3.2,
                        "bin_end": 3.6,
                        "count": 0
                      },
                      {
                        "bin_start": 3.6,
                        "bin_end": 4,
                        "count": 1
                      }
                    ]
                  }
                },
                {
                  "name": "_deepnote_index_column",
                  "dtype": "int64"
                }
              ],
              "rows_top": [
                {
                  "Age": 41,
                  "BusinessTravel": "Travel_Rarely",
                  "DailyRate": 1102,
                  "Department": "Sales",
                  "DistanceFromHome": 1,
                  "Education": 2,
                  "EducationField": "Life Sciences",
                  "EmployeeCount": 1,
                  "EmployeeNumber": 1,
                  "EnvironmentSatisfaction": 2,
                  "Gender": "Female",
                  "HourlyRate": 94,
                  "JobInvolvement": 3,
                  "JobLevel": 2,
                  "JobRole": "Sales Executive",
                  "JobSatisfaction": 4,
                  "MaritalStatus": "Single",
                  "MonthlyIncome": 5993,
                  "MonthlyRate": 19479,
                  "NumCompaniesWorked": 8,
                  "Over18": "Y",
                  "OverTime": "Yes",
                  "PercentSalaryHike": 11,
                  "PerformanceRating": 3,
                  "RelationshipSatisfaction": 1,
                  "StandardHours": 80,
                  "StockOptionLevel": 0,
                  "TotalWorkingYears": 8,
                  "TrainingTimesLastYear": 0,
                  "WorkLifeBalance": 1,
                  "YearsAtCompany": 6,
                  "YearsInCurrentRole": 4,
                  "YearsSinceLastPromotion": 0,
                  "YearsWithCurrManager": 5,
                  "index1": 0,
                  "_deepnote_index_column": 0
                },
                {
                  "Age": 49,
                  "BusinessTravel": "Travel_Frequently",
                  "DailyRate": 279,
                  "Department": "Research & Development",
                  "DistanceFromHome": 8,
                  "Education": 1,
                  "EducationField": "Life Sciences",
                  "EmployeeCount": 1,
                  "EmployeeNumber": 2,
                  "EnvironmentSatisfaction": 3,
                  "Gender": "Male",
                  "HourlyRate": 61,
                  "JobInvolvement": 2,
                  "JobLevel": 2,
                  "JobRole": "Research Scientist",
                  "JobSatisfaction": 2,
                  "MaritalStatus": "Married",
                  "MonthlyIncome": 5130,
                  "MonthlyRate": 24907,
                  "NumCompaniesWorked": 1,
                  "Over18": "Y",
                  "OverTime": "No",
                  "PercentSalaryHike": 23,
                  "PerformanceRating": 4,
                  "RelationshipSatisfaction": 4,
                  "StandardHours": 80,
                  "StockOptionLevel": 1,
                  "TotalWorkingYears": 10,
                  "TrainingTimesLastYear": 3,
                  "WorkLifeBalance": 3,
                  "YearsAtCompany": 10,
                  "YearsInCurrentRole": 7,
                  "YearsSinceLastPromotion": 1,
                  "YearsWithCurrManager": 7,
                  "index1": 1,
                  "_deepnote_index_column": 1
                },
                {
                  "Age": 27,
                  "BusinessTravel": "Travel_Rarely",
                  "DailyRate": 591,
                  "Department": "Research & Development",
                  "DistanceFromHome": 2,
                  "Education": 1,
                  "EducationField": "Medical",
                  "EmployeeCount": 1,
                  "EmployeeNumber": 7,
                  "EnvironmentSatisfaction": 1,
                  "Gender": "Male",
                  "HourlyRate": 40,
                  "JobInvolvement": 3,
                  "JobLevel": 1,
                  "JobRole": "Laboratory Technician",
                  "JobSatisfaction": 2,
                  "MaritalStatus": "Married",
                  "MonthlyIncome": 3468,
                  "MonthlyRate": 16632,
                  "NumCompaniesWorked": 9,
                  "Over18": "Y",
                  "OverTime": "No",
                  "PercentSalaryHike": 12,
                  "PerformanceRating": 3,
                  "RelationshipSatisfaction": 4,
                  "StandardHours": 80,
                  "StockOptionLevel": 1,
                  "TotalWorkingYears": 6,
                  "TrainingTimesLastYear": 3,
                  "WorkLifeBalance": 3,
                  "YearsAtCompany": 2,
                  "YearsInCurrentRole": 2,
                  "YearsSinceLastPromotion": 2,
                  "YearsWithCurrManager": 2,
                  "index1": 2,
                  "_deepnote_index_column": 2
                },
                {
                  "Age": 32,
                  "BusinessTravel": "Travel_Frequently",
                  "DailyRate": 1005,
                  "Department": "Research & Development",
                  "DistanceFromHome": 2,
                  "Education": 2,
                  "EducationField": "Life Sciences",
                  "EmployeeCount": 1,
                  "EmployeeNumber": 8,
                  "EnvironmentSatisfaction": 4,
                  "Gender": "Male",
                  "HourlyRate": 79,
                  "JobInvolvement": 3,
                  "JobLevel": 1,
                  "JobRole": "Laboratory Technician",
                  "JobSatisfaction": 4,
                  "MaritalStatus": "Single",
                  "MonthlyIncome": 3068,
                  "MonthlyRate": 11864,
                  "NumCompaniesWorked": 0,
                  "Over18": "Y",
                  "OverTime": "No",
                  "PercentSalaryHike": 13,
                  "PerformanceRating": 3,
                  "RelationshipSatisfaction": 3,
                  "StandardHours": 80,
                  "StockOptionLevel": 0,
                  "TotalWorkingYears": 8,
                  "TrainingTimesLastYear": 2,
                  "WorkLifeBalance": 2,
                  "YearsAtCompany": 7,
                  "YearsInCurrentRole": 7,
                  "YearsSinceLastPromotion": 3,
                  "YearsWithCurrManager": 6,
                  "index1": 3,
                  "_deepnote_index_column": 3
                },
                {
                  "Age": 29,
                  "BusinessTravel": "Travel_Rarely",
                  "DailyRate": 1389,
                  "Department": "Research & Development",
                  "DistanceFromHome": 21,
                  "Education": 4,
                  "EducationField": "Life Sciences",
                  "EmployeeCount": 1,
                  "EmployeeNumber": 20,
                  "EnvironmentSatisfaction": 2,
                  "Gender": "Female",
                  "HourlyRate": 51,
                  "JobInvolvement": 4,
                  "JobLevel": 3,
                  "JobRole": "Manufacturing Director",
                  "JobSatisfaction": 1,
                  "MaritalStatus": "Divorced",
                  "MonthlyIncome": 9980,
                  "MonthlyRate": 10195,
                  "NumCompaniesWorked": 1,
                  "Over18": "Y",
                  "OverTime": "No",
                  "PercentSalaryHike": 11,
                  "PerformanceRating": 3,
                  "RelationshipSatisfaction": 3,
                  "StandardHours": 80,
                  "StockOptionLevel": 1,
                  "TotalWorkingYears": 10,
                  "TrainingTimesLastYear": 1,
                  "WorkLifeBalance": 3,
                  "YearsAtCompany": 10,
                  "YearsInCurrentRole": 9,
                  "YearsSinceLastPromotion": 8,
                  "YearsWithCurrManager": 8,
                  "index1": 4,
                  "_deepnote_index_column": 4
                }
              ],
              "rows_bottom": null
            },
            "text/plain": "   Age     BusinessTravel  DailyRate              Department  \\\n0   41      Travel_Rarely       1102                   Sales   \n1   49  Travel_Frequently        279  Research & Development   \n2   27      Travel_Rarely        591  Research & Development   \n3   32  Travel_Frequently       1005  Research & Development   \n4   29      Travel_Rarely       1389  Research & Development   \n\n   DistanceFromHome  Education EducationField  EmployeeCount  EmployeeNumber  \\\n0                 1          2  Life Sciences              1               1   \n1                 8          1  Life Sciences              1               2   \n2                 2          1        Medical              1               7   \n3                 2          2  Life Sciences              1               8   \n4                21          4  Life Sciences              1              20   \n\n   EnvironmentSatisfaction  ... StandardHours  StockOptionLevel  \\\n0                        2  ...            80                 0   \n1                        3  ...            80                 1   \n2                        1  ...            80                 1   \n3                        4  ...            80                 0   \n4                        2  ...            80                 1   \n\n   TotalWorkingYears  TrainingTimesLastYear WorkLifeBalance  YearsAtCompany  \\\n0                  8                      0               1               6   \n1                 10                      3               3              10   \n2                  6                      3               3               2   \n3                  8                      2               2               7   \n4                 10                      1               3              10   \n\n  YearsInCurrentRole  YearsSinceLastPromotion  YearsWithCurrManager  index1  \n0                  4                        0                     5       0  \n1                  7                        1                     7       1  \n2                  2                        2                     2       2  \n3                  7                        3                     6       3  \n4                  9                        8                     8       4  \n\n[5 rows x 35 columns]",
            "text/html": "<div>\n<style scoped>\n    .dataframe tbody tr th:only-of-type {\n        vertical-align: middle;\n    }\n\n    .dataframe tbody tr th {\n        vertical-align: top;\n    }\n\n    .dataframe thead th {\n        text-align: right;\n    }\n</style>\n<table border=\"1\" class=\"dataframe\">\n  <thead>\n    <tr style=\"text-align: right;\">\n      <th></th>\n      <th>Age</th>\n      <th>BusinessTravel</th>\n      <th>DailyRate</th>\n      <th>Department</th>\n      <th>DistanceFromHome</th>\n      <th>Education</th>\n      <th>EducationField</th>\n      <th>EmployeeCount</th>\n      <th>EmployeeNumber</th>\n      <th>EnvironmentSatisfaction</th>\n      <th>...</th>\n      <th>StandardHours</th>\n      <th>StockOptionLevel</th>\n      <th>TotalWorkingYears</th>\n      <th>TrainingTimesLastYear</th>\n      <th>WorkLifeBalance</th>\n      <th>YearsAtCompany</th>\n      <th>YearsInCurrentRole</th>\n      <th>YearsSinceLastPromotion</th>\n      <th>YearsWithCurrManager</th>\n      <th>index1</th>\n    </tr>\n  </thead>\n  <tbody>\n    <tr>\n      <th>0</th>\n      <td>41</td>\n      <td>Travel_Rarely</td>\n      <td>1102</td>\n      <td>Sales</td>\n      <td>1</td>\n      <td>2</td>\n      <td>Life Sciences</td>\n      <td>1</td>\n      <td>1</td>\n      <td>2</td>\n      <td>...</td>\n      <td>80</td>\n      <td>0</td>\n      <td>8</td>\n      <td>0</td>\n      <td>1</td>\n      <td>6</td>\n      <td>4</td>\n      <td>0</td>\n      <td>5</td>\n      <td>0</td>\n    </tr>\n    <tr>\n      <th>1</th>\n      <td>49</td>\n      <td>Travel_Frequently</td>\n      <td>279</td>\n      <td>Research &amp; Development</td>\n      <td>8</td>\n      <td>1</td>\n      <td>Life Sciences</td>\n      <td>1</td>\n      <td>2</td>\n      <td>3</td>\n      <td>...</td>\n      <td>80</td>\n      <td>1</td>\n      <td>10</td>\n      <td>3</td>\n      <td>3</td>\n      <td>10</td>\n      <td>7</td>\n      <td>1</td>\n      <td>7</td>\n      <td>1</td>\n    </tr>\n    <tr>\n      <th>2</th>\n      <td>27</td>\n      <td>Travel_Rarely</td>\n      <td>591</td>\n      <td>Research &amp; Development</td>\n      <td>2</td>\n      <td>1</td>\n      <td>Medical</td>\n      <td>1</td>\n      <td>7</td>\n      <td>1</td>\n      <td>...</td>\n      <td>80</td>\n      <td>1</td>\n      <td>6</td>\n      <td>3</td>\n      <td>3</td>\n      <td>2</td>\n      <td>2</td>\n      <td>2</td>\n      <td>2</td>\n      <td>2</td>\n    </tr>\n    <tr>\n      <th>3</th>\n      <td>32</td>\n      <td>Travel_Frequently</td>\n      <td>1005</td>\n      <td>Research &amp; Development</td>\n      <td>2</td>\n      <td>2</td>\n      <td>Life Sciences</td>\n      <td>1</td>\n      <td>8</td>\n      <td>4</td>\n      <td>...</td>\n      <td>80</td>\n      <td>0</td>\n      <td>8</td>\n      <td>2</td>\n      <td>2</td>\n      <td>7</td>\n      <td>7</td>\n      <td>3</td>\n      <td>6</td>\n      <td>3</td>\n    </tr>\n    <tr>\n      <th>4</th>\n      <td>29</td>\n      <td>Travel_Rarely</td>\n      <td>1389</td>\n      <td>Research &amp; Development</td>\n      <td>21</td>\n      <td>4</td>\n      <td>Life Sciences</td>\n      <td>1</td>\n      <td>20</td>\n      <td>2</td>\n      <td>...</td>\n      <td>80</td>\n      <td>1</td>\n      <td>10</td>\n      <td>1</td>\n      <td>3</td>\n      <td>10</td>\n      <td>9</td>\n      <td>8</td>\n      <td>8</td>\n      <td>4</td>\n    </tr>\n  </tbody>\n</table>\n<p>5 rows × 35 columns</p>\n</div>"
          },
          "metadata": {}
        }
      ]
    },
    {
      "cell_type": "markdown",
      "source": "# V. Encoding",
      "metadata": {
        "tags": [],
        "cell_id": "00015-387b6649-fb2a-4ec3-a6c6-565a596e481b",
        "deepnote_cell_type": "markdown"
      }
    },
    {
      "cell_type": "code",
      "metadata": {
        "tags": [],
        "cell_id": "00015-06e68409-c9ba-42c2-be18-1407d2a50a62",
        "deepnote_to_be_reexecuted": false,
        "source_hash": "660b74b8",
        "execution_millis": 16,
        "execution_start": 1618556976929,
        "deepnote_cell_type": "code"
      },
      "source": "from sklearn.compose import ColumnTransformer\nfrom sklearn.pipeline import Pipeline\nfrom sklearn.preprocessing import OneHotEncoder\nfrom sklearn.preprocessing import StandardScaler\n\nnumerical_cols = X.select_dtypes(include=\"int64\").columns\ncategory_cols = X.select_dtypes(include=\"object\").columns",
      "execution_count": null,
      "outputs": []
    },
    {
      "cell_type": "code",
      "metadata": {
        "tags": [],
        "cell_id": "00017-0f84b6ac-981c-496e-97cc-194147834f6d",
        "deepnote_to_be_reexecuted": false,
        "source_hash": "445de0a",
        "execution_millis": 13,
        "execution_start": 1618556976949,
        "deepnote_cell_type": "code"
      },
      "source": "for col in category_cols:\n    print(\"Unique values of the columns {} : {}\".format(col, X[col].unique()))\n    print(\"Unique values of the columns {} : {}\".format(col, X[col].nunique(dropna=True)))",
      "execution_count": null,
      "outputs": [
        {
          "name": "stdout",
          "text": "Unique values of the columns BusinessTravel : ['Travel_Frequently' 'Non-Travel' 'Travel_Rarely']\nUnique values of the columns BusinessTravel : 3\nUnique values of the columns Department : ['Research & Development' 'Sales' 'Human Resources']\nUnique values of the columns Department : 3\nUnique values of the columns EducationField : ['Life Sciences' 'Medical' 'Human Resources' 'Other' 'Marketing'\n 'Technical Degree']\nUnique values of the columns EducationField : 6\nUnique values of the columns Gender : ['Female' 'Male']\nUnique values of the columns Gender : 2\nUnique values of the columns JobRole : ['Manufacturing Director' 'Laboratory Technician' 'Research Director'\n 'Research Scientist' 'Sales Executive' 'Healthcare Representative'\n 'Manager' 'Sales Representative' 'Human Resources']\nUnique values of the columns JobRole : 9\nUnique values of the columns MaritalStatus : ['Single' 'Married' 'Divorced']\nUnique values of the columns MaritalStatus : 3\nUnique values of the columns Over18 : ['Y']\nUnique values of the columns Over18 : 1\nUnique values of the columns OverTime : ['Yes' 'No']\nUnique values of the columns OverTime : 2\n",
          "output_type": "stream"
        }
      ]
    },
    {
      "cell_type": "code",
      "metadata": {
        "tags": [],
        "cell_id": "00018-0d81f3a9-114e-4861-8b1f-e64126dddd4a",
        "deepnote_to_be_reexecuted": false,
        "source_hash": "e414f8b",
        "execution_millis": 26,
        "execution_start": 1618556976979,
        "deepnote_cell_type": "code"
      },
      "source": "categorical_transformer = OneHotEncoder(handle_unknown=\"ignore\")\nstandard_transformer = StandardScaler()\npreprocessor = ColumnTransformer(\n    transformers=[\n        ('std', standard_transformer, numerical_cols),\n        ('cat', categorical_transformer, category_cols)\n    ]\n)",
      "execution_count": null,
      "outputs": []
    },
    {
      "cell_type": "markdown",
      "source": "# VI. Logistic Regression Model",
      "metadata": {
        "tags": [],
        "cell_id": "00020-8c3865b0-205c-46c4-b2f1-80577599f562",
        "deepnote_cell_type": "markdown"
      }
    },
    {
      "cell_type": "code",
      "metadata": {
        "tags": [],
        "cell_id": "00020-266bea02-7bcd-4eda-a35f-0733aca71bb9",
        "deepnote_to_be_reexecuted": false,
        "source_hash": "8a930ee7",
        "execution_millis": 393,
        "execution_start": 1618556977010,
        "deepnote_cell_type": "code"
      },
      "source": "from sklearn.linear_model import LogisticRegression\n\nmodel = LogisticRegression(random_state=0)\n\npipeline = Pipeline(steps=[\n    ('preprocessor', preprocessor),\n    ('model', model)\n])\n\npipeline.fit(X_train, y_train)",
      "execution_count": null,
      "outputs": [
        {
          "output_type": "execute_result",
          "execution_count": 15,
          "data": {
            "text/plain": "Pipeline(steps=[('preprocessor',\n                 ColumnTransformer(transformers=[('std', StandardScaler(),\n                                                  Index(['Age', 'DailyRate', 'DistanceFromHome', 'Education', 'EmployeeCount',\n       'EmployeeNumber', 'EnvironmentSatisfaction', 'HourlyRate',\n       'JobInvolvement', 'JobLevel', 'JobSatisfaction', 'MonthlyIncome',\n       'MonthlyRate', 'NumCompaniesWorked', 'PercentSalaryHike',\n       'PerformanceRatin...\n       'StockOptionLevel', 'TotalWorkingYears', 'TrainingTimesLastYear',\n       'WorkLifeBalance', 'YearsAtCompany', 'YearsInCurrentRole',\n       'YearsSinceLastPromotion', 'YearsWithCurrManager'],\n      dtype='object')),\n                                                 ('cat',\n                                                  OneHotEncoder(handle_unknown='ignore'),\n                                                  Index(['BusinessTravel', 'Department', 'EducationField', 'Gender', 'JobRole',\n       'MaritalStatus', 'Over18', 'OverTime'],\n      dtype='object'))])),\n                ('model', LogisticRegression(random_state=0))])"
          },
          "metadata": {}
        }
      ]
    },
    {
      "cell_type": "code",
      "metadata": {
        "tags": [],
        "cell_id": "00022-ceddd006-5b0e-4d9c-8e97-1f56cfb4b203",
        "deepnote_to_be_reexecuted": false,
        "source_hash": "9113343e",
        "execution_millis": 67,
        "execution_start": 1618556977412,
        "deepnote_cell_type": "code"
      },
      "source": "  from sklearn.metrics import confusion_matrix\n  pd.DataFrame(data = confusion_matrix(y_true = y_test, y_pred = pipeline.predict(X_test)),\n              index = model.classes_ + \" actual\",\n              columns = model.classes_ + \" predicted\").T\n",
      "execution_count": null,
      "outputs": [
        {
          "output_type": "execute_result",
          "execution_count": 16,
          "data": {
            "application/vnd.deepnote.dataframe.v2+json": {
              "row_count": 2,
              "column_count": 2,
              "columns": [
                {
                  "name": "No actual",
                  "dtype": "int64",
                  "stats": {
                    "unique_count": 2,
                    "nan_count": 0,
                    "min": "12",
                    "max": "180",
                    "histogram": [
                      {
                        "bin_start": 12,
                        "bin_end": 28.8,
                        "count": 1
                      },
                      {
                        "bin_start": 28.8,
                        "bin_end": 45.6,
                        "count": 0
                      },
                      {
                        "bin_start": 45.6,
                        "bin_end": 62.400000000000006,
                        "count": 0
                      },
                      {
                        "bin_start": 62.400000000000006,
                        "bin_end": 79.2,
                        "count": 0
                      },
                      {
                        "bin_start": 79.2,
                        "bin_end": 96,
                        "count": 0
                      },
                      {
                        "bin_start": 96,
                        "bin_end": 112.80000000000001,
                        "count": 0
                      },
                      {
                        "bin_start": 112.80000000000001,
                        "bin_end": 129.60000000000002,
                        "count": 0
                      },
                      {
                        "bin_start": 129.60000000000002,
                        "bin_end": 146.4,
                        "count": 0
                      },
                      {
                        "bin_start": 146.4,
                        "bin_end": 163.20000000000002,
                        "count": 0
                      },
                      {
                        "bin_start": 163.20000000000002,
                        "bin_end": 180,
                        "count": 1
                      }
                    ]
                  }
                },
                {
                  "name": "Yes actual",
                  "dtype": "int64",
                  "stats": {
                    "unique_count": 2,
                    "nan_count": 0,
                    "min": "11",
                    "max": "17",
                    "histogram": [
                      {
                        "bin_start": 11,
                        "bin_end": 11.6,
                        "count": 1
                      },
                      {
                        "bin_start": 11.6,
                        "bin_end": 12.2,
                        "count": 0
                      },
                      {
                        "bin_start": 12.2,
                        "bin_end": 12.8,
                        "count": 0
                      },
                      {
                        "bin_start": 12.8,
                        "bin_end": 13.4,
                        "count": 0
                      },
                      {
                        "bin_start": 13.4,
                        "bin_end": 14,
                        "count": 0
                      },
                      {
                        "bin_start": 14,
                        "bin_end": 14.6,
                        "count": 0
                      },
                      {
                        "bin_start": 14.6,
                        "bin_end": 15.2,
                        "count": 0
                      },
                      {
                        "bin_start": 15.2,
                        "bin_end": 15.8,
                        "count": 0
                      },
                      {
                        "bin_start": 15.8,
                        "bin_end": 16.4,
                        "count": 0
                      },
                      {
                        "bin_start": 16.4,
                        "bin_end": 17,
                        "count": 1
                      }
                    ]
                  }
                },
                {
                  "name": "_deepnote_index_column",
                  "dtype": "object"
                }
              ],
              "rows_top": [
                {
                  "No actual": 180,
                  "Yes actual": 17,
                  "_deepnote_index_column": "No predicted"
                },
                {
                  "No actual": 12,
                  "Yes actual": 11,
                  "_deepnote_index_column": "Yes predicted"
                }
              ],
              "rows_bottom": null
            },
            "text/plain": "               No actual  Yes actual\nNo predicted         180          17\nYes predicted         12          11",
            "text/html": "<div>\n<style scoped>\n    .dataframe tbody tr th:only-of-type {\n        vertical-align: middle;\n    }\n\n    .dataframe tbody tr th {\n        vertical-align: top;\n    }\n\n    .dataframe thead th {\n        text-align: right;\n    }\n</style>\n<table border=\"1\" class=\"dataframe\">\n  <thead>\n    <tr style=\"text-align: right;\">\n      <th></th>\n      <th>No actual</th>\n      <th>Yes actual</th>\n    </tr>\n  </thead>\n  <tbody>\n    <tr>\n      <th>No predicted</th>\n      <td>180</td>\n      <td>17</td>\n    </tr>\n    <tr>\n      <th>Yes predicted</th>\n      <td>12</td>\n      <td>11</td>\n    </tr>\n  </tbody>\n</table>\n</div>"
          },
          "metadata": {}
        }
      ]
    },
    {
      "cell_type": "markdown",
      "source": "# VII Scoring : \n - taux de succès\n - taux d'erreur \n - sensibilité ",
      "metadata": {
        "tags": [],
        "cell_id": "00023-f466a5f0-b55c-4259-ad6c-6666fbab26b9",
        "deepnote_cell_type": "markdown"
      }
    },
    {
      "cell_type": "code",
      "metadata": {
        "tags": [],
        "cell_id": "00023-53020152-768b-44b9-b52d-9c2e8b24c1e2",
        "deepnote_to_be_reexecuted": false,
        "source_hash": "6a95b188",
        "execution_millis": 55,
        "execution_start": 1618556977469,
        "deepnote_cell_type": "code"
      },
      "source": "from sklearn import metrics\n\ny_pred= pipeline.predict(X_test)\n\n# taux de succès:\nacc = metrics.accuracy_score(y_test,y_pred)\n#taux d'erreur\nerr= 1.0 - acc\n\n\n#sensibilité (ou rappel)\nse = metrics.recall_score(y_test,y_pred,pos_label='Yes')\n\nprint ('taux d''erreur :  ' , err)\nprint ('taux de succès : ', acc)\nprint ('sensibilté : ', se)",
      "execution_count": null,
      "outputs": [
        {
          "name": "stdout",
          "text": "taux derreur :   0.13181818181818183\ntaux de succès :  0.8681818181818182\nsensibilté :  0.39285714285714285\n",
          "output_type": "stream"
        }
      ]
    },
    {
      "cell_type": "code",
      "metadata": {
        "tags": [],
        "cell_id": "00023-f7b03a8e-3434-49ff-9070-7b625f611ae9",
        "deepnote_to_be_reexecuted": false,
        "source_hash": "d8e5e61c",
        "execution_millis": 12,
        "execution_start": 1618556977524,
        "deepnote_cell_type": "code"
      },
      "source": "precision = 3 / (6 + 32)\naccuracy = (234 + 6) / (234 + 32 + 6 + 3)\n\nprint(\"Precision : {}, Accuracy : {}\".format(round(precision, 3), round(accuracy, 3)))",
      "execution_count": null,
      "outputs": [
        {
          "name": "stdout",
          "text": "Precision : 0.079, Accuracy : 0.873\n",
          "output_type": "stream"
        }
      ]
    },
    {
      "cell_type": "markdown",
      "source": "# VIII Prediction sur fichier test ",
      "metadata": {
        "tags": [],
        "cell_id": "00026-7fd1b05e-064b-433e-b8b0-5e88499e6b90",
        "deepnote_cell_type": "markdown"
      }
    },
    {
      "cell_type": "code",
      "metadata": {
        "tags": [],
        "cell_id": "00021-feec44ca-2e1e-4815-a07f-c86aea962aa6",
        "deepnote_to_be_reexecuted": false,
        "source_hash": "fe2d1ba8",
        "execution_millis": 24,
        "execution_start": 1618556977567,
        "deepnote_cell_type": "code"
      },
      "source": "X_valid = test_df\nX_valid = X_valid.drop('index1', axis=1)\n\n#print(len(X.columns.to_list()))\n#print(len(X_test.columns.to_list()))",
      "execution_count": null,
      "outputs": []
    },
    {
      "cell_type": "code",
      "metadata": {
        "tags": [],
        "cell_id": "00021-e57ae6eb-a633-45e7-8167-bdc2150fb5b4",
        "deepnote_to_be_reexecuted": false,
        "source_hash": "3e9c2d5e",
        "execution_millis": 28,
        "execution_start": 1618556977595,
        "deepnote_cell_type": "code"
      },
      "source": "test_df['Attrition_pred']= pipeline.predict(X_valid)",
      "execution_count": null,
      "outputs": []
    },
    {
      "cell_type": "code",
      "metadata": {
        "tags": [],
        "cell_id": "00029-b38b6b64-82d6-4f20-a4cc-3137a4768064",
        "deepnote_to_be_reexecuted": false,
        "source_hash": "34d432ba",
        "execution_millis": 74,
        "execution_start": 1618556977626,
        "deepnote_cell_type": "code"
      },
      "source": "prob = pipeline.predict_proba(X_valid)\nprint(prob)",
      "execution_count": null,
      "outputs": [
        {
          "name": "stdout",
          "text": "[[1.60938599e-01 8.39061401e-01]\n [9.77917471e-01 2.20825288e-02]\n [7.43474256e-01 2.56525744e-01]\n [9.64638068e-01 3.53619321e-02]\n [9.81298130e-01 1.87018695e-02]\n [9.49912210e-01 5.00877900e-02]\n [9.29871949e-01 7.01280508e-02]\n [9.95025208e-01 4.97479233e-03]\n [6.30750802e-01 3.69249198e-01]\n [9.18480296e-01 8.15197039e-02]\n [4.78463034e-01 5.21536966e-01]\n [4.16995263e-01 5.83004737e-01]\n [9.98504040e-01 1.49596041e-03]\n [9.97981922e-01 2.01807820e-03]\n [7.66841600e-01 2.33158400e-01]\n [9.91442469e-01 8.55753069e-03]\n [9.94838201e-01 5.16179917e-03]\n [9.01355404e-01 9.86445965e-02]\n [8.94979296e-01 1.05020704e-01]\n [7.16801096e-01 2.83198904e-01]\n [9.92181692e-01 7.81830790e-03]\n [9.60181497e-01 3.98185032e-02]\n [7.33920092e-01 2.66079908e-01]\n [5.26691569e-01 4.73308431e-01]\n [8.85164416e-01 1.14835584e-01]\n [4.02948674e-01 5.97051326e-01]\n [6.14065908e-01 3.85934092e-01]\n [9.04573884e-01 9.54261156e-02]\n [4.33876383e-01 5.66123617e-01]\n [9.51452599e-01 4.85474009e-02]\n [9.92648496e-01 7.35150417e-03]\n [1.28570856e-01 8.71429144e-01]\n [9.53654767e-01 4.63452333e-02]\n [8.60227953e-01 1.39772047e-01]\n [7.45951355e-01 2.54048645e-01]\n [9.93551097e-01 6.44890290e-03]\n [9.44490132e-01 5.55098680e-02]\n [6.28246140e-01 3.71753860e-01]\n [9.90950562e-01 9.04943838e-03]\n [9.61271419e-01 3.87285811e-02]\n [9.24152408e-01 7.58475921e-02]\n [9.93615024e-01 6.38497564e-03]\n [9.60803609e-01 3.91963915e-02]\n [9.43127789e-01 5.68722109e-02]\n [9.99849296e-01 1.50704257e-04]\n [9.50937842e-01 4.90621578e-02]\n [6.55079606e-01 3.44920394e-01]\n [9.96585164e-01 3.41483574e-03]\n [9.70764755e-01 2.92352447e-02]\n [4.39399079e-01 5.60600921e-01]\n [9.90903224e-01 9.09677641e-03]\n [9.85468204e-01 1.45317963e-02]\n [9.96299802e-01 3.70019788e-03]\n [7.58366611e-01 2.41633389e-01]\n [3.12544579e-01 6.87455421e-01]\n [9.49943968e-01 5.00560325e-02]\n [9.62433198e-01 3.75668023e-02]\n [9.87871207e-01 1.21287934e-02]\n [9.82800755e-01 1.71992449e-02]\n [9.97214050e-01 2.78595033e-03]\n [8.00289122e-01 1.99710878e-01]\n [9.99150057e-01 8.49942739e-04]\n [9.99338199e-01 6.61801124e-04]\n [9.91633601e-01 8.36639873e-03]\n [9.18937339e-01 8.10626614e-02]\n [9.99238973e-01 7.61027370e-04]\n [9.64995630e-01 3.50043704e-02]\n [9.58456086e-01 4.15439143e-02]\n [9.33286006e-01 6.67139944e-02]\n [8.35729029e-01 1.64270971e-01]\n [9.79509870e-01 2.04901300e-02]\n [9.98737543e-01 1.26245683e-03]\n [5.22849157e-01 4.77150843e-01]\n [8.01515814e-01 1.98484186e-01]\n [9.06029266e-01 9.39707345e-02]\n [8.56904590e-01 1.43095410e-01]\n [4.26454511e-01 5.73545489e-01]\n [9.44450857e-01 5.55491428e-02]\n [8.97110622e-01 1.02889378e-01]\n [7.69116834e-01 2.30883166e-01]\n [4.35142875e-01 5.64857125e-01]\n [9.99152397e-01 8.47602676e-04]\n [9.02238354e-01 9.77616458e-02]\n [9.71975463e-01 2.80245366e-02]\n [8.85120890e-01 1.14879110e-01]\n [9.43214806e-01 5.67851938e-02]\n [7.93296143e-01 2.06703857e-01]\n [9.96974358e-01 3.02564158e-03]\n [9.86049270e-01 1.39507300e-02]\n [3.26474141e-01 6.73525859e-01]\n [5.20748907e-01 4.79251093e-01]\n [9.93930641e-01 6.06935921e-03]\n [9.81421426e-01 1.85785742e-02]\n [9.12554201e-01 8.74457987e-02]\n [9.92405271e-01 7.59472939e-03]\n [7.33665177e-01 2.66334823e-01]\n [8.88963674e-01 1.11036326e-01]\n [9.82679450e-01 1.73205500e-02]\n [9.58399008e-01 4.16009916e-02]\n [8.29348223e-01 1.70651777e-01]\n [8.86061880e-01 1.13938120e-01]\n [3.50191014e-01 6.49808986e-01]\n [9.27374753e-01 7.26252469e-02]\n [9.92733153e-01 7.26684728e-03]\n [9.82941367e-01 1.70586327e-02]\n [5.87622710e-01 4.12377290e-01]\n [9.88738306e-01 1.12616936e-02]\n [9.72245538e-01 2.77544624e-02]\n [9.84480357e-01 1.55196430e-02]\n [9.99196389e-01 8.03610958e-04]\n [9.97398476e-01 2.60152351e-03]\n [6.83747824e-01 3.16252176e-01]\n [8.98182661e-01 1.01817339e-01]\n [8.74940115e-01 1.25059885e-01]\n [9.93783783e-01 6.21621660e-03]\n [5.74637133e-01 4.25362867e-01]\n [9.27815284e-01 7.21847158e-02]\n [9.05873557e-01 9.41264433e-02]\n [6.06221770e-01 3.93778230e-01]\n [9.57456598e-01 4.25434018e-02]\n [9.75710660e-01 2.42893398e-02]\n [8.16458731e-01 1.83541269e-01]\n [9.91001849e-01 8.99815085e-03]\n [9.97273447e-01 2.72655296e-03]\n [9.54444165e-01 4.55558348e-02]\n [8.97413188e-01 1.02586812e-01]\n [8.88461717e-01 1.11538283e-01]\n [7.60001186e-01 2.39998814e-01]\n [9.19472802e-01 8.05271981e-02]\n [7.55299510e-01 2.44700490e-01]\n [9.90347597e-01 9.65240253e-03]\n [9.97729584e-01 2.27041596e-03]\n [9.82345880e-01 1.76541196e-02]\n [9.34407144e-01 6.55928565e-02]\n [8.84961938e-01 1.15038062e-01]\n [9.57660144e-01 4.23398556e-02]\n [9.81961176e-01 1.80388242e-02]\n [9.63139333e-01 3.68606671e-02]\n [9.33340549e-01 6.66594505e-02]\n [8.83909400e-01 1.16090600e-01]\n [9.81807807e-01 1.81921926e-02]\n [9.54684334e-01 4.53156660e-02]\n [9.70688691e-01 2.93113089e-02]\n [9.84276530e-01 1.57234700e-02]\n [9.60141750e-01 3.98582499e-02]\n [2.35315095e-01 7.64684905e-01]\n [8.89279847e-01 1.10720153e-01]\n [9.92455698e-01 7.54430160e-03]\n [9.56661929e-01 4.33380714e-02]\n [3.49557368e-01 6.50442632e-01]\n [9.95819134e-01 4.18086557e-03]\n [9.21787260e-01 7.82127395e-02]\n [4.81542530e-01 5.18457470e-01]\n [8.32948389e-01 1.67051611e-01]\n [9.74225285e-01 2.57747148e-02]\n [7.88836801e-01 2.11163199e-01]\n [9.98874670e-01 1.12533049e-03]\n [3.93491574e-01 6.06508426e-01]\n [9.71117515e-01 2.88824846e-02]\n [9.86401495e-01 1.35985053e-02]\n [9.48577120e-01 5.14228802e-02]\n [9.25669231e-01 7.43307688e-02]\n [9.24441865e-01 7.55581352e-02]\n [9.05026288e-01 9.49737122e-02]\n [9.93592604e-01 6.40739615e-03]\n [9.08283614e-01 9.17163856e-02]\n [9.78568282e-01 2.14317182e-02]\n [9.41197131e-01 5.88028691e-02]\n [9.51089711e-01 4.89102891e-02]\n [9.79526697e-01 2.04733030e-02]\n [9.03257743e-01 9.67422573e-02]\n [9.83495195e-01 1.65048049e-02]\n [9.65549186e-01 3.44508136e-02]\n [9.70838896e-01 2.91611042e-02]\n [5.97330533e-01 4.02669467e-01]\n [9.79978126e-01 2.00218737e-02]\n [9.98647616e-01 1.35238426e-03]\n [6.87704440e-01 3.12295560e-01]\n [7.09223185e-01 2.90776815e-01]\n [9.01776176e-02 9.09822382e-01]\n [8.59715618e-01 1.40284382e-01]\n [9.96884265e-01 3.11573537e-03]\n [9.99247398e-01 7.52602198e-04]\n [9.15724898e-01 8.42751025e-02]\n [7.77014662e-01 2.22985338e-01]\n [2.89743959e-01 7.10256041e-01]\n [9.90860069e-01 9.13993095e-03]\n [5.66729484e-01 4.33270516e-01]\n [9.24316854e-01 7.56831460e-02]\n [9.01810730e-01 9.81892698e-02]\n [5.24369528e-01 4.75630472e-01]\n [8.15296594e-01 1.84703406e-01]\n [9.82116471e-01 1.78835290e-02]\n [8.37195530e-01 1.62804470e-01]\n [8.19409027e-01 1.80590973e-01]\n [8.39935418e-01 1.60064582e-01]\n [9.57509650e-01 4.24903503e-02]\n [9.83813497e-01 1.61865029e-02]\n [9.66463188e-01 3.35368119e-02]\n [9.99376176e-01 6.23824229e-04]\n [5.85545768e-01 4.14454232e-01]\n [9.94460139e-01 5.53986138e-03]\n [9.92818831e-01 7.18116944e-03]\n [7.62840513e-01 2.37159487e-01]\n [9.57860335e-01 4.21396653e-02]\n [9.35010013e-01 6.49899867e-02]\n [5.34015895e-01 4.65984105e-01]\n [9.78458993e-01 2.15410066e-02]\n [9.98281291e-01 1.71870942e-03]\n [9.94127096e-01 5.87290416e-03]\n [9.76247020e-01 2.37529799e-02]\n [9.92188184e-01 7.81181564e-03]\n [8.33886807e-01 1.66113193e-01]\n [7.49153695e-01 2.50846305e-01]\n [9.59691866e-01 4.03081342e-02]\n [7.52373853e-01 2.47626147e-01]\n [8.64791692e-01 1.35208308e-01]\n [8.71118140e-01 1.28881860e-01]\n [6.31934249e-01 3.68065751e-01]\n [7.31268336e-01 2.68731664e-01]\n [9.99778384e-01 2.21616459e-04]\n [9.57957919e-01 4.20420807e-02]\n [8.28695372e-01 1.71304628e-01]\n [9.76932087e-01 2.30679134e-02]\n [9.94956313e-01 5.04368688e-03]\n [9.30429727e-01 6.95702727e-02]\n [6.92604486e-01 3.07395514e-01]\n [9.97075577e-01 2.92442297e-03]\n [8.95712141e-01 1.04287859e-01]\n [9.71029003e-01 2.89709972e-02]\n [9.89224371e-01 1.07756286e-02]\n [9.96856565e-01 3.14343474e-03]\n [9.91956211e-01 8.04378855e-03]\n [9.79795568e-01 2.02044319e-02]\n [9.82747402e-01 1.72525981e-02]\n [8.50037031e-01 1.49962969e-01]\n [9.70565417e-01 2.94345833e-02]\n [9.98163931e-01 1.83606920e-03]\n [9.01551210e-01 9.84487898e-02]\n [9.05724517e-01 9.42754834e-02]\n [6.88509133e-01 3.11490867e-01]\n [8.76332409e-01 1.23667591e-01]\n [6.56445832e-01 3.43554168e-01]\n [9.30870638e-01 6.91293622e-02]\n [6.59145033e-01 3.40854967e-01]\n [9.77299563e-01 2.27004374e-02]\n [8.08750874e-01 1.91249126e-01]\n [8.64801538e-01 1.35198462e-01]\n [9.50356320e-01 4.96436804e-02]\n [9.99428149e-01 5.71850674e-04]\n [1.97327685e-01 8.02672315e-01]\n [9.75479440e-01 2.45205603e-02]\n [9.93883373e-01 6.11662715e-03]\n [8.85467350e-01 1.14532650e-01]\n [9.85160315e-01 1.48396855e-02]\n [9.99468115e-01 5.31885416e-04]\n [8.57735217e-01 1.42264783e-01]\n [8.22560829e-01 1.77439171e-01]\n [9.56727496e-01 4.32725042e-02]\n [9.91874337e-01 8.12566348e-03]\n [5.92412431e-01 4.07587569e-01]\n [7.52219830e-01 2.47780170e-01]\n [2.81716732e-01 7.18283268e-01]\n [7.00714652e-01 2.99285348e-01]\n [8.20629226e-01 1.79370774e-01]\n [5.75152006e-01 4.24847994e-01]\n [9.62327777e-01 3.76722234e-02]\n [8.65482420e-01 1.34517580e-01]\n [9.87809992e-01 1.21900077e-02]\n [9.70202001e-01 2.97979986e-02]\n [9.17970345e-01 8.20296554e-02]\n [7.04875403e-01 2.95124597e-01]\n [8.01923204e-01 1.98076796e-01]\n [6.37987478e-01 3.62012522e-01]\n [8.24436171e-01 1.75563829e-01]\n [9.90045779e-01 9.95422104e-03]\n [4.60612799e-01 5.39387201e-01]\n [8.22008883e-01 1.77991117e-01]\n [8.62023236e-01 1.37976764e-01]\n [9.79994699e-01 2.00053015e-02]\n [9.66545051e-01 3.34549489e-02]\n [9.96977366e-01 3.02263430e-03]\n [9.94483255e-01 5.51674498e-03]\n [8.08619993e-01 1.91380007e-01]\n [9.98611549e-01 1.38845136e-03]\n [8.34664030e-01 1.65335970e-01]\n [8.45664686e-01 1.54335314e-01]\n [9.92935515e-01 7.06448457e-03]\n [9.99187102e-01 8.12897982e-04]\n [9.96936201e-01 3.06379882e-03]\n [9.95057247e-01 4.94275316e-03]\n [9.97997333e-01 2.00266663e-03]\n [9.93121964e-01 6.87803567e-03]\n [9.98786069e-01 1.21393077e-03]\n [3.44937457e-01 6.55062543e-01]\n [9.98597495e-01 1.40250450e-03]\n [9.98776208e-01 1.22379242e-03]\n [9.53437725e-01 4.65622752e-02]\n [4.19104040e-01 5.80895960e-01]\n [9.98081976e-01 1.91802442e-03]\n [9.86001029e-01 1.39989713e-02]\n [5.24588950e-01 4.75411050e-01]\n [8.98221649e-01 1.01778351e-01]\n [9.93036724e-01 6.96327583e-03]\n [9.51811266e-01 4.81887342e-02]\n [5.43121141e-01 4.56878859e-01]\n [2.86886056e-01 7.13113944e-01]\n [9.24948815e-01 7.50511849e-02]\n [9.83290954e-01 1.67090463e-02]\n [6.78374963e-01 3.21625037e-01]\n [9.92272258e-01 7.72774154e-03]\n [9.50831068e-01 4.91689317e-02]\n [9.79262822e-01 2.07371777e-02]\n [7.58481778e-01 2.41518222e-01]\n [9.80638545e-01 1.93614548e-02]\n [7.43569488e-01 2.56430512e-01]\n [3.29247618e-01 6.70752382e-01]\n [7.11521833e-01 2.88478167e-01]\n [8.00544550e-01 1.99455450e-01]\n [9.64950882e-01 3.50491176e-02]\n [9.76303528e-01 2.36964717e-02]\n [9.75624419e-01 2.43755813e-02]\n [9.94131374e-01 5.86862604e-03]\n [8.98315845e-01 1.01684155e-01]\n [9.17306418e-01 8.26935821e-02]\n [9.99314359e-01 6.85640509e-04]\n [9.95449206e-01 4.55079447e-03]\n [7.94089261e-01 2.05910739e-01]\n [9.22874514e-01 7.71254857e-02]\n [5.28780525e-01 4.71219475e-01]\n [9.31575170e-01 6.84248305e-02]\n [8.52353544e-01 1.47646456e-01]\n [9.95836584e-01 4.16341595e-03]\n [9.68715386e-01 3.12846136e-02]\n [8.26446893e-01 1.73553107e-01]\n [9.99657819e-01 3.42181203e-04]\n [9.92756232e-01 7.24376799e-03]\n [9.35802136e-01 6.41978636e-02]\n [9.41984755e-01 5.80152454e-02]\n [7.66124655e-01 2.33875345e-01]\n [8.68746876e-01 1.31253124e-01]\n [7.77700986e-01 2.22299014e-01]\n [9.52526106e-01 4.74738940e-02]\n [6.54103911e-01 3.45896089e-01]\n [9.98381114e-01 1.61888574e-03]\n [9.93655208e-01 6.34479249e-03]\n [7.23326617e-01 2.76673383e-01]\n [7.82996459e-01 2.17003541e-01]\n [8.44595781e-01 1.55404219e-01]\n [9.38664650e-01 6.13353496e-02]\n [9.52999886e-01 4.70001140e-02]\n [1.59792758e-01 8.40207242e-01]\n [9.79957458e-01 2.00425418e-02]\n [5.04621470e-02 9.49537853e-01]\n [9.88379777e-01 1.16202226e-02]\n [8.63996595e-01 1.36003405e-01]\n [6.71030746e-01 3.28969254e-01]\n [9.92468971e-01 7.53102898e-03]\n [8.90895676e-01 1.09104324e-01]\n [9.24063582e-01 7.59364185e-02]\n [9.98813401e-01 1.18659883e-03]\n [9.58312096e-01 4.16879038e-02]\n [9.99012719e-01 9.87281204e-04]\n [9.27570979e-01 7.24290211e-02]\n [9.82296382e-01 1.77036178e-02]\n [9.92181013e-01 7.81898655e-03]\n [8.70638045e-01 1.29361955e-01]\n [6.77997279e-01 3.22002721e-01]\n [3.39400142e-01 6.60599858e-01]\n [9.56350416e-01 4.36495843e-02]]\n",
          "output_type": "stream"
        }
      ]
    },
    {
      "cell_type": "code",
      "metadata": {
        "tags": [],
        "cell_id": "00026-e0332fa0-6459-49c6-be26-841c52ffc551",
        "deepnote_to_be_reexecuted": false,
        "source_hash": "9b0ac5db",
        "execution_millis": 23,
        "execution_start": 1618556977695,
        "deepnote_cell_type": "code"
      },
      "source": "print(X_train.shape,X_test.shape,y_train.shape,y_test.shape)",
      "execution_count": null,
      "outputs": [
        {
          "name": "stdout",
          "text": "(880, 34) (220, 34) (880,) (220,)\n",
          "output_type": "stream"
        }
      ]
    },
    {
      "cell_type": "markdown",
      "source": "# IX. Model enhancement with hyperparameter tuning : *GridSearchCV*",
      "metadata": {
        "tags": [],
        "cell_id": "00032-6e27cae3-337d-44e1-baf9-6326b0aae247",
        "deepnote_cell_type": "markdown"
      }
    },
    {
      "cell_type": "code",
      "metadata": {
        "tags": [],
        "cell_id": "00034-0ffebf55-c229-4d49-a883-c05d90656fa8",
        "deepnote_to_be_reexecuted": false,
        "source_hash": "397ba49e",
        "execution_millis": 14557,
        "execution_start": 1618557155341,
        "deepnote_cell_type": "code"
      },
      "source": "# GridSearchCV to find the best parameter for C (regularisation hyperparemater)\nfrom sklearn.model_selection import GridSearchCV\n\nparameters = {\n    'model__C' : [1,5,6,7,8,9,10]\n}\n\nsearch = GridSearchCV(\n    estimator = pipeline,\n    param_grid = parameters,\n    cv = 5,\n    scoring='accuracy'\n)\n\nsearch.fit(X_train, y_train)\nprint('-----')\nprint(f'Best parameters {search.best_params_}')",
      "execution_count": null,
      "outputs": [
        {
          "name": "stdout",
          "text": "-----\nBest parameters {'model__C': 1}\n",
          "output_type": "stream"
        }
      ]
    },
    {
      "cell_type": "code",
      "metadata": {
        "tags": [],
        "cell_id": "00035-edf73746-2d28-4f29-9717-b1d099c555a3",
        "deepnote_to_be_reexecuted": false,
        "source_hash": "72f67faa",
        "execution_millis": 39,
        "execution_start": 1618557183011,
        "deepnote_cell_type": "code"
      },
      "source": "  from sklearn.metrics import confusion_matrix\n  pd.DataFrame(data = confusion_matrix(y_true = y_test, y_pred = search.predict(X_test)),\n              index = model.classes_ + \" actual\",\n              columns = model.classes_ + \" predicted\").T",
      "execution_count": null,
      "outputs": [
        {
          "output_type": "execute_result",
          "execution_count": 43,
          "data": {
            "application/vnd.deepnote.dataframe.v2+json": {
              "row_count": 2,
              "column_count": 2,
              "columns": [
                {
                  "name": "No actual",
                  "dtype": "int64",
                  "stats": {
                    "unique_count": 2,
                    "nan_count": 0,
                    "min": "12",
                    "max": "180",
                    "histogram": [
                      {
                        "bin_start": 12,
                        "bin_end": 28.8,
                        "count": 1
                      },
                      {
                        "bin_start": 28.8,
                        "bin_end": 45.6,
                        "count": 0
                      },
                      {
                        "bin_start": 45.6,
                        "bin_end": 62.400000000000006,
                        "count": 0
                      },
                      {
                        "bin_start": 62.400000000000006,
                        "bin_end": 79.2,
                        "count": 0
                      },
                      {
                        "bin_start": 79.2,
                        "bin_end": 96,
                        "count": 0
                      },
                      {
                        "bin_start": 96,
                        "bin_end": 112.80000000000001,
                        "count": 0
                      },
                      {
                        "bin_start": 112.80000000000001,
                        "bin_end": 129.60000000000002,
                        "count": 0
                      },
                      {
                        "bin_start": 129.60000000000002,
                        "bin_end": 146.4,
                        "count": 0
                      },
                      {
                        "bin_start": 146.4,
                        "bin_end": 163.20000000000002,
                        "count": 0
                      },
                      {
                        "bin_start": 163.20000000000002,
                        "bin_end": 180,
                        "count": 1
                      }
                    ]
                  }
                },
                {
                  "name": "Yes actual",
                  "dtype": "int64",
                  "stats": {
                    "unique_count": 2,
                    "nan_count": 0,
                    "min": "11",
                    "max": "17",
                    "histogram": [
                      {
                        "bin_start": 11,
                        "bin_end": 11.6,
                        "count": 1
                      },
                      {
                        "bin_start": 11.6,
                        "bin_end": 12.2,
                        "count": 0
                      },
                      {
                        "bin_start": 12.2,
                        "bin_end": 12.8,
                        "count": 0
                      },
                      {
                        "bin_start": 12.8,
                        "bin_end": 13.4,
                        "count": 0
                      },
                      {
                        "bin_start": 13.4,
                        "bin_end": 14,
                        "count": 0
                      },
                      {
                        "bin_start": 14,
                        "bin_end": 14.6,
                        "count": 0
                      },
                      {
                        "bin_start": 14.6,
                        "bin_end": 15.2,
                        "count": 0
                      },
                      {
                        "bin_start": 15.2,
                        "bin_end": 15.8,
                        "count": 0
                      },
                      {
                        "bin_start": 15.8,
                        "bin_end": 16.4,
                        "count": 0
                      },
                      {
                        "bin_start": 16.4,
                        "bin_end": 17,
                        "count": 1
                      }
                    ]
                  }
                },
                {
                  "name": "_deepnote_index_column",
                  "dtype": "object"
                }
              ],
              "rows_top": [
                {
                  "No actual": 180,
                  "Yes actual": 17,
                  "_deepnote_index_column": "No predicted"
                },
                {
                  "No actual": 12,
                  "Yes actual": 11,
                  "_deepnote_index_column": "Yes predicted"
                }
              ],
              "rows_bottom": null
            },
            "text/plain": "               No actual  Yes actual\nNo predicted         180          17\nYes predicted         12          11",
            "text/html": "<div>\n<style scoped>\n    .dataframe tbody tr th:only-of-type {\n        vertical-align: middle;\n    }\n\n    .dataframe tbody tr th {\n        vertical-align: top;\n    }\n\n    .dataframe thead th {\n        text-align: right;\n    }\n</style>\n<table border=\"1\" class=\"dataframe\">\n  <thead>\n    <tr style=\"text-align: right;\">\n      <th></th>\n      <th>No actual</th>\n      <th>Yes actual</th>\n    </tr>\n  </thead>\n  <tbody>\n    <tr>\n      <th>No predicted</th>\n      <td>180</td>\n      <td>17</td>\n    </tr>\n    <tr>\n      <th>Yes predicted</th>\n      <td>12</td>\n      <td>11</td>\n    </tr>\n  </tbody>\n</table>\n</div>"
          },
          "metadata": {}
        }
      ]
    },
    {
      "cell_type": "code",
      "metadata": {
        "tags": [],
        "cell_id": "00035-fe0bd8c2-28a4-4d74-adbd-c8ea30932eb9",
        "deepnote_to_be_reexecuted": false,
        "source_hash": "64456b61",
        "execution_millis": 34,
        "execution_start": 1618557193012,
        "deepnote_cell_type": "code"
      },
      "source": "y_pred = search.predict(X_test)\n# taux de succès:\nacc = metrics.accuracy_score(y_test,y_pred)\n#taux d'erreur\nerr= 1.0 - acc\n\n\n#sensibilité (ou rappel)\nse = metrics.recall_score(y_test,y_pred,pos_label='Yes')\n\nprint ('taux d''erreur :  ' , err)\nprint ('taux de succès : ', acc)\nprint ('sensibilté : ', se)",
      "execution_count": null,
      "outputs": [
        {
          "name": "stdout",
          "text": "taux derreur :   0.13181818181818183\ntaux de succès :  0.8681818181818182\nsensibilté :  0.39285714285714285\n",
          "output_type": "stream"
        }
      ]
    },
    {
      "cell_type": "code",
      "metadata": {
        "tags": [],
        "cell_id": "00035-ee547032-e397-4f64-bff8-9dd17b58c317",
        "deepnote_to_be_reexecuted": false,
        "source_hash": "88e6a79d",
        "execution_millis": 21,
        "execution_start": 1618557198483,
        "deepnote_cell_type": "code"
      },
      "source": "precision = 5 / (5 + 3)\naccuracy = (189 + 5) / (189 + 23 + 3 + 5)\n\nprint(\"Precision : {}, Accuracy : {}\".format(round(precision, 3), round(accuracy, 3)))",
      "execution_count": null,
      "outputs": [
        {
          "name": "stdout",
          "text": "Precision : 0.625, Accuracy : 0.882\n",
          "output_type": "stream"
        }
      ]
    },
    {
      "cell_type": "markdown",
      "source": "Gridsearch",
      "metadata": {
        "tags": [],
        "cell_id": "00035-15015ab3-d8a1-4bd4-a5de-ec58dcaac9aa",
        "deepnote_cell_type": "markdown"
      }
    },
    {
      "cell_type": "code",
      "metadata": {
        "tags": [],
        "cell_id": "00036-8585faa8-1bb2-4c70-bdd6-4a3620661037",
        "deepnote_to_be_reexecuted": false,
        "source_hash": "93a26fee",
        "execution_millis": 17725,
        "execution_start": 1618557215523,
        "deepnote_cell_type": "code"
      },
      "source": "#import de la classe\nfrom sklearn import model_selection\n#combinaisons de paramètres à évaluer\n\nparameters = {\n    'model__C' : [1,5,6,7,8,9,10]\n}\n\n#évaluation en validation croisée de 3 x 2 = 6 configurations\n#accuracysera le critère à utiliser pour sélectionner la meilleure config\n#mvsest l’instance de la classe svm.SVC (cf. page précédente)\ngrid= model_selection.GridSearchCV(estimator=pipeline,param_grid=parameters,scoring='accuracy')\n#lancer la recherche –attention, gourmand en calculs\ngrille = grid.fit(X_train,y_train)\n#résultat pour chaque combinaison\nprint(pd.DataFrame.from_dict(grille.cv_results_).loc[:,[\"params\",\"mean_test_score\"]]) \n#meilleur paramétrage\nprint(grille.best_params_) \n\n#meilleur performance –estimée en interne par validation croisée\nprint(grille.best_score_) \n#prédiction avec le modèle «optimal» \ny_pred3 = grille.predict(X_test)\n#taux de succès en test\nprint(metrics.accuracy_score(y_test,y_pred3)) ",
      "execution_count": null,
      "outputs": [
        {
          "name": "stdout",
          "text": "             params  mean_test_score\n0   {'model__C': 1}            0.874\n1   {'model__C': 5}            0.872\n2   {'model__C': 6}            0.872\n3   {'model__C': 7}            0.869\n4   {'model__C': 8}            0.870\n5   {'model__C': 9}            0.869\n6  {'model__C': 10}            0.868\n{'model__C': 1}\n0.8738636363636363\n0.8681818181818182\n",
          "output_type": "stream"
        }
      ]
    },
    {
      "cell_type": "code",
      "metadata": {
        "tags": [],
        "cell_id": "00038-6c4fe7aa-6794-4f2d-bb34-0f82acfa2de8",
        "deepnote_to_be_reexecuted": false,
        "source_hash": "e1282ec7",
        "execution_millis": 112,
        "execution_start": 1618557014512,
        "deepnote_cell_type": "code"
      },
      "source": "X_copy = X.copy()\nX_copy = pd.get_dummies(X_copy, columns=category_cols)\n\nX_test_copy = X_test.copy()\nX_test_copy = pd.get_dummies(X_test_copy, columns=category_cols)\nprint(X_test_copy)",
      "execution_count": null,
      "outputs": [
        {
          "name": "stdout",
          "text": "     Age  DailyRate  DistanceFromHome  Education  EmployeeCount  \\\n944   58       1145                 9          3              1   \n539   39       1485                25          2              1   \n356   29        442                 2          2              1   \n986   44        381                24          3              1   \n337   30        600                 8          3              1   \n..   ...        ...               ...        ...            ...   \n383   33        654                 5          3              1   \n733   28       1423                 1          3              1   \n324   46       1003                 8          4              1   \n612   22        581                 1          2              1   \n499   36       1299                27          3              1   \n\n     EmployeeNumber  EnvironmentSatisfaction  HourlyRate  JobInvolvement  \\\n944             214                        2          75               2   \n539            1397                        3          71               3   \n356             388                        2          44               3   \n986             744                        1          49               1   \n337            1747                        3          66               2   \n..              ...                      ...         ...             ...   \n383            1099                        4          34               2   \n733            1506                        1          72               2   \n324            1080                        4          74               2   \n612            2007                        4          63               3   \n499              13                        3          94               3   \n\n     JobLevel  ...  JobRole_Research Director  JobRole_Research Scientist  \\\n944         1  ...                          0                           1   \n539         3  ...                          0                           0   \n356         2  ...                          0                           0   \n986         1  ...                          0                           0   \n337         1  ...                          0                           0   \n..        ...  ...                        ...                         ...   \n383         3  ...                          0                           0   \n733         1  ...                          0                           1   \n324         2  ...                          0                           1   \n612         1  ...                          0                           1   \n499         2  ...                          0                           0   \n\n     JobRole_Sales Executive  JobRole_Sales Representative  \\\n944                        0                             0   \n539                        0                             0   \n356                        1                             0   \n986                        0                             0   \n337                        0                             0   \n..                       ...                           ...   \n383                        0                             0   \n733                        0                             0   \n324                        0                             0   \n612                        0                             0   \n499                        0                             0   \n\n     MaritalStatus_Divorced  MaritalStatus_Married  MaritalStatus_Single  \\\n944                       0                      1                     0   \n539                       0                      1                     0   \n356                       0                      0                     1   \n986                       0                      0                     1   \n337                       1                      0                     0   \n..                      ...                    ...                   ...   \n383                       1                      0                     0   \n733                       1                      0                     0   \n324                       1                      0                     0   \n612                       0                      0                     1   \n499                       0                      1                     0   \n\n     Over18_Y  OverTime_No  OverTime_Yes  \n944         1            0             1  \n539         1            1             0  \n356         1            1             0  \n986         1            1             0  \n337         1            1             0  \n..        ...          ...           ...  \n383         1            1             0  \n733         1            1             0  \n324         1            0             1  \n612         1            1             0  \n499         1            1             0  \n\n[220 rows x 55 columns]\n",
          "output_type": "stream"
        }
      ]
    },
    {
      "cell_type": "code",
      "metadata": {
        "tags": [],
        "cell_id": "00039-c478c18e-33cb-46ea-8e2c-cd07bd2a6d58",
        "deepnote_to_be_reexecuted": false,
        "source_hash": "f74b69d1",
        "execution_millis": 11,
        "execution_start": 1618557014624,
        "deepnote_cell_type": "code"
      },
      "source": "X.dtypes",
      "execution_count": null,
      "outputs": [
        {
          "output_type": "execute_result",
          "execution_count": 29,
          "data": {
            "text/plain": "Age                          int64\nBusinessTravel              object\nDailyRate                    int64\nDepartment                  object\nDistanceFromHome             int64\nEducation                    int64\nEducationField              object\nEmployeeCount                int64\nEmployeeNumber               int64\nEnvironmentSatisfaction      int64\nGender                      object\nHourlyRate                   int64\nJobInvolvement               int64\nJobLevel                     int64\nJobRole                     object\nJobSatisfaction              int64\nMaritalStatus               object\nMonthlyIncome                int64\nMonthlyRate                  int64\nNumCompaniesWorked           int64\nOver18                      object\nOverTime                    object\nPercentSalaryHike            int64\nPerformanceRating            int64\nRelationshipSatisfaction     int64\nStandardHours                int64\nStockOptionLevel             int64\nTotalWorkingYears            int64\nTrainingTimesLastYear        int64\nWorkLifeBalance              int64\nYearsAtCompany               int64\nYearsInCurrentRole           int64\nYearsSinceLastPromotion      int64\nYearsWithCurrManager         int64\ndtype: object"
          },
          "metadata": {}
        }
      ]
    },
    {
      "cell_type": "code",
      "metadata": {
        "tags": [],
        "cell_id": "00038-211cd2b9-0661-4844-8558-5599c41b9298",
        "deepnote_to_be_reexecuted": false,
        "source_hash": "ba7fa80a",
        "execution_millis": 708,
        "execution_start": 1618557014633,
        "deepnote_cell_type": "code"
      },
      "source": "#selection des meilleurs variables : \n\nfrom sklearn.feature_selection import RFE\n\nlr = LogisticRegression(solver=\"liblinear\")\n#algo de selection des variables\n\npipe = Pipeline(steps = [\n    #('preprocessor',preprocessor),\n    ('model', lr)\n])\n\nselecteur  = RFE(estimator=lr, n_features_to_select=10)\n# lancer la recherche\nsol = selecteur.fit(X_copy,y)\n#nombre de variables sélectionnées\nprint(sol.n_features_)\n#liste des variables sélectionnées\nprint (sol.support_)\n#ordre de supression\nprint (sol.ranking_)",
      "execution_count": null,
      "outputs": [
        {
          "name": "stdout",
          "text": "10\n[False False False False False False False False  True False False False\n False False False False False False False False False False False False\n False False  True  True False False False False  True False False False\n False False False False False  True  True False False  True False False\n  True False False  True False False  True]\n[38 43 34 39 41 45  4 40  1  6  9 44 46 22 36 30 14 28 18 29 13 19 32 20\n 21 25  1  1 35 31 15  5  1 26  2 27  7  3 12  8 17  1  1 37 11  1 16 33\n  1 24 10  1 42 23  1]\n",
          "output_type": "stream"
        }
      ]
    },
    {
      "cell_type": "code",
      "metadata": {
        "tags": [],
        "cell_id": "00041-4251f1cf-81bf-4b04-8c06-5a2f4adf68ab",
        "deepnote_to_be_reexecuted": false,
        "source_hash": "251bcee5",
        "execution_millis": 21,
        "execution_start": 1618557015327,
        "deepnote_cell_type": "code"
      },
      "source": "X_test.shape",
      "execution_count": null,
      "outputs": [
        {
          "output_type": "execute_result",
          "execution_count": 31,
          "data": {
            "text/plain": "(220, 34)"
          },
          "metadata": {}
        }
      ]
    },
    {
      "cell_type": "code",
      "metadata": {
        "tags": [],
        "cell_id": "00041-46edbe65-1fb6-484d-a0a6-4878b4a865f4",
        "deepnote_to_be_reexecuted": false,
        "source_hash": "ec29dc16",
        "execution_millis": 10,
        "execution_start": 1618557015333,
        "deepnote_cell_type": "code"
      },
      "source": "#réduction qaux variables sélectionnées : \nmask = sol.support_\nX_new= X_copy.T[mask]\n# construction du modèle sur les nouvelles variables: \nmodel_new = lr.fit(X_new.T,y)\n#reduction de la base test aux mêmes valeurs sélectionnées : \nX_test_new = X_test_copy.T[mask]\n#prediction avec model réduit:\ny_pred_new = model_new.predict(X_test_new.T)",
      "execution_count": null,
      "outputs": []
    },
    {
      "cell_type": "code",
      "metadata": {
        "tags": [],
        "cell_id": "00042-0a4aaac2-da59-45ff-b1e9-e618e95d0a16",
        "deepnote_to_be_reexecuted": false,
        "source_hash": "b5abb1b2",
        "execution_millis": 7,
        "execution_start": 1618557015350,
        "deepnote_cell_type": "code"
      },
      "source": "# taux de succès:\nacc_new = metrics.accuracy_score(y_test,y_pred_new)\n#taux d'erreur\nerr_new= 1.0 - acc_new\n\n\n#sensibilité (ou rappel)\nse_new = metrics.recall_score(y_test,y_pred_new,pos_label='Yes')\n\nprint ('taux d''erreur :  ' , err_new)\nprint ('taux de succès : ', acc_new)\nprint ('sensibilté : ', se_new)",
      "execution_count": null,
      "outputs": [
        {
          "name": "stdout",
          "text": "taux derreur :   0.11818181818181817\ntaux de succès :  0.8818181818181818\nsensibilté :  0.10714285714285714\n",
          "output_type": "stream"
        }
      ]
    },
    {
      "cell_type": "code",
      "metadata": {
        "tags": [],
        "cell_id": "00043-b2d704d2-4afc-43df-ac92-9da94fd645f7",
        "deepnote_to_be_reexecuted": false,
        "source_hash": "1eec8b85",
        "execution_millis": 48,
        "execution_start": 1618557015358,
        "deepnote_cell_type": "code"
      },
      "source": "from sklearn.metrics import roc_auc_score\nroc = roc_auc_score(y_test, model_new.predict_proba(X_test_new.T)[:,1])\nprint (roc)",
      "execution_count": null,
      "outputs": [
        {
          "name": "stdout",
          "text": "0.7900855654761905\n",
          "output_type": "stream"
        }
      ]
    },
    {
      "cell_type": "code",
      "metadata": {
        "tags": [],
        "cell_id": "00045-c94de0d5-7fa1-4fbf-888c-bbbfee7c93c9",
        "deepnote_to_be_reexecuted": false,
        "source_hash": "b99555d",
        "execution_millis": 200,
        "execution_start": 1618557015445,
        "deepnote_cell_type": "code"
      },
      "source": "#define metrics\ny_pred_proba = model_new.predict_proba(X_test_new.T)[::,1]\nfpr, tpr, _ = metrics.roc_curve(y_test,  y_pred_proba, pos_label='Yes')\nidx = np.min(np.where(tpr > 0.95)) \n#create ROC curve\nplt.plot(fpr,tpr,label=\"AUC=\"+str(round((roc),3)))\nplt.plot([0, 1], [0, 1], 'k--')\nplt.plot([0,fpr[idx]], [tpr[idx],tpr[idx]], 'k--', color='red')\nplt.plot([fpr[idx],fpr[idx]], [0,tpr[idx]], 'k--', color='red')\nplt.xlim([0.0, 1.0])\nplt.ylim([0.0, 1.05])\nplt.ylabel('True Positive Rate')\nplt.xlabel('False Positive Rate')\nplt.legend(loc=4)\nplt.show()",
      "execution_count": null,
      "outputs": [
        {
          "data": {
            "text/plain": "<Figure size 612x360 with 1 Axes>",
            "image/png": "[encoded data removed]"
          },
          "metadata": {
            "needs_background": "light"
          },
          "output_type": "display_data"
        }
      ]
    },
    {
      "cell_type": "code",
      "metadata": {
        "tags": [],
        "cell_id": "00045-125e5ac0-9466-495b-b5a1-79e5691f9ba7",
        "deepnote_to_be_reexecuted": false,
        "source_hash": "b1da6756",
        "execution_millis": 9803,
        "execution_start": 1618560055308,
        "deepnote_cell_type": "code"
      },
      "source": "# RFECV : Feature Selection\n\nfrom sklearn.feature_selection import RFECV\nmin_features_to_select = 1\nselector = RFECV(estimator=lr, step=1, cv=5, scoring='accuracy', min_features_to_select=min_features_to_select)\nselector = selector.fit(X_copy, y)\n\nprint(\"Optimal number of features : %d\" % selector.n_features_)\n\n# Plot number of features VS. cross-validation scores\nplt.figure()\nplt.xlabel(\"Number of features selected\")\nplt.ylabel(\"Cross validation score (nb of correct classifications)\")\nplt.plot(range(min_features_to_select,\n               len(selector.grid_scores_) + min_features_to_select),\n         selector.grid_scores_)\nplt.show()",
      "execution_count": null,
      "outputs": [
        {
          "name": "stdout",
          "text": "Optimal number of features : 53\n",
          "output_type": "stream"
        },
        {
          "data": {
            "text/plain": "<Figure size 612x360 with 1 Axes>",
            "image/png": "[encoded data removed]"
          },
          "metadata": {
            "needs_background": "light"
          },
          "output_type": "display_data"
        }
      ]
    },
    {
      "cell_type": "markdown",
      "source": "",
      "metadata": {
        "tags": [],
        "cell_id": "00047-468facad-ec5e-4b73-a2fb-1a20cecfc4b8",
        "deepnote_cell_type": "markdown"
      }
    },
    {
      "cell_type": "code",
      "metadata": {
        "tags": [],
        "cell_id": "00046-9fd3d7df-40e6-4a9a-895c-12d44ef77c74",
        "deepnote_to_be_reexecuted": false,
        "source_hash": "af45869f",
        "execution_millis": 22,
        "execution_start": 1618564164425,
        "deepnote_cell_type": "code"
      },
      "source": "X_rfecv = X_copy.T[selector.support_]\nX_rfecv = X_rfecv.T\nprint(X_rfecv.columns.tolist())\nprint (X.columns.to_list())",
      "execution_count": null,
      "outputs": [
        {
          "name": "stdout",
          "text": "['Age', 'DailyRate', 'DistanceFromHome', 'Education', 'EmployeeCount', 'EnvironmentSatisfaction', 'HourlyRate', 'JobInvolvement', 'JobLevel', 'JobSatisfaction', 'MonthlyIncome', 'NumCompaniesWorked', 'PercentSalaryHike', 'PerformanceRating', 'RelationshipSatisfaction', 'StandardHours', 'StockOptionLevel', 'TotalWorkingYears', 'TrainingTimesLastYear', 'WorkLifeBalance', 'YearsAtCompany', 'YearsInCurrentRole', 'YearsSinceLastPromotion', 'YearsWithCurrManager', 'BusinessTravel_Non-Travel', 'BusinessTravel_Travel_Frequently', 'BusinessTravel_Travel_Rarely', 'Department_Human Resources', 'Department_Research & Development', 'Department_Sales', 'EducationField_Human Resources', 'EducationField_Life Sciences', 'EducationField_Marketing', 'EducationField_Medical', 'EducationField_Other', 'EducationField_Technical Degree', 'Gender_Female', 'Gender_Male', 'JobRole_Healthcare Representative', 'JobRole_Human Resources', 'JobRole_Laboratory Technician', 'JobRole_Manager', 'JobRole_Manufacturing Director', 'JobRole_Research Director', 'JobRole_Research Scientist', 'JobRole_Sales Executive', 'JobRole_Sales Representative', 'MaritalStatus_Divorced', 'MaritalStatus_Married', 'MaritalStatus_Single', 'Over18_Y', 'OverTime_No', 'OverTime_Yes']\n['Age', 'BusinessTravel', 'DailyRate', 'Department', 'DistanceFromHome', 'Education', 'EducationField', 'EmployeeCount', 'EmployeeNumber', 'EnvironmentSatisfaction', 'Gender', 'HourlyRate', 'JobInvolvement', 'JobLevel', 'JobRole', 'JobSatisfaction', 'MaritalStatus', 'MonthlyIncome', 'MonthlyRate', 'NumCompaniesWorked', 'Over18', 'OverTime', 'PercentSalaryHike', 'PerformanceRating', 'RelationshipSatisfaction', 'StandardHours', 'StockOptionLevel', 'TotalWorkingYears', 'TrainingTimesLastYear', 'WorkLifeBalance', 'YearsAtCompany', 'YearsInCurrentRole', 'YearsSinceLastPromotion', 'YearsWithCurrManager']\n",
          "output_type": "stream"
        }
      ]
    },
    {
      "cell_type": "code",
      "metadata": {
        "tags": [],
        "cell_id": "00049-e75dd0ee-d69d-4348-8c34-416450f562ad",
        "deepnote_to_be_reexecuted": false,
        "source_hash": "4a5268bd",
        "execution_millis": 9,
        "execution_start": 1618564169746,
        "deepnote_cell_type": "code"
      },
      "source": "X_train_r, X_test_r, y_train_r, y_test_r = train_test_split(X_rfecv, y,random_state=35, train_size=0.8)",
      "execution_count": null,
      "outputs": []
    },
    {
      "cell_type": "markdown",
      "source": "# X. Model enhancement with hyperparameter tuning : *RandomisedSearchCV*",
      "metadata": {
        "tags": [],
        "cell_id": "00046-39ea784a-22b2-426d-88fe-071109b8441d",
        "deepnote_cell_type": "markdown"
      }
    },
    {
      "cell_type": "code",
      "metadata": {
        "tags": [],
        "cell_id": "00047-bfa03367-0b17-4b57-8284-740917db8b4b",
        "deepnote_to_be_reexecuted": false,
        "source_hash": "81715f21",
        "execution_millis": 99718,
        "execution_start": 1618557307638,
        "deepnote_cell_type": "code"
      },
      "source": "from sklearn.model_selection import RandomizedSearchCV\nparam_grid = {\n    'model__C': [1,5,10,15,25,50,75,100,150],\n    'model__penalty': ['l1', 'l2', 'elasticnet'],\n    'model__max_iter': [50,100,150,200,250,300]\n}\nrsearch= RandomizedSearchCV(\n    estimator= pipeline, \n    param_distributions=param_grid,\n    n_iter=100\n)\n\nmodel_random = rsearch.fit(X_train,y_train)\nprint ('=> RandomizedSearchCV  for ',model,'\\n')\nprint(rsearch.best_score_)\nprint(rsearch.best_params_)\nprint('Best Score: %s' % rsearch.best_estimator_)\nprint('Best Hyperparameters: %s' % rsearch.best_params_)\nprint('\\n')",
      "execution_count": null,
      "outputs": [
        {
          "name": "stdout",
          "text": "=> RandomizedSearchCV  for  LogisticRegression(random_state=0) \n\n0.8738636363636363\n{'model__penalty': 'l2', 'model__max_iter': 50, 'model__C': 1}\nBest Score: Pipeline(steps=[('preprocessor',\n                 ColumnTransformer(transformers=[('std', StandardScaler(),\n                                                  Index(['Age', 'DailyRate', 'DistanceFromHome', 'Education', 'EmployeeCount',\n       'EmployeeNumber', 'EnvironmentSatisfaction', 'HourlyRate',\n       'JobInvolvement', 'JobLevel', 'JobSatisfaction', 'MonthlyIncome',\n       'MonthlyRate', 'NumCompaniesWorked', 'PercentSalaryHike',\n       'PerformanceRatin...\n       'WorkLifeBalance', 'YearsAtCompany', 'YearsInCurrentRole',\n       'YearsSinceLastPromotion', 'YearsWithCurrManager'],\n      dtype='object')),\n                                                 ('cat',\n                                                  OneHotEncoder(handle_unknown='ignore'),\n                                                  Index(['BusinessTravel', 'Department', 'EducationField', 'Gender', 'JobRole',\n       'MaritalStatus', 'Over18', 'OverTime'],\n      dtype='object'))])),\n                ('model',\n                 LogisticRegression(C=1, max_iter=50, random_state=0))])\nBest Hyperparameters: {'model__penalty': 'l2', 'model__max_iter': 50, 'model__C': 1}\n\n\n",
          "output_type": "stream"
        }
      ]
    },
    {
      "cell_type": "code",
      "metadata": {
        "tags": [],
        "cell_id": "00048-4ef02561-720e-4b46-a473-38b6e3aa4449",
        "deepnote_to_be_reexecuted": false,
        "source_hash": "9faad1bf",
        "execution_millis": 16,
        "execution_start": 1618557133551,
        "deepnote_cell_type": "code"
      },
      "source": "model.get_params().keys()",
      "execution_count": null,
      "outputs": [
        {
          "output_type": "execute_result",
          "execution_count": 37,
          "data": {
            "text/plain": "dict_keys(['C', 'class_weight', 'dual', 'fit_intercept', 'intercept_scaling', 'l1_ratio', 'max_iter', 'multi_class', 'n_jobs', 'penalty', 'random_state', 'solver', 'tol', 'verbose', 'warm_start'])"
          },
          "metadata": {}
        }
      ]
    },
    {
      "cell_type": "code",
      "metadata": {
        "tags": [],
        "cell_id": "00049-4f9c2ce8-3936-48be-a620-42518167157c",
        "deepnote_to_be_reexecuted": false,
        "source_hash": "deedde3e",
        "execution_millis": 12,
        "execution_start": 1618557472565,
        "deepnote_cell_type": "code"
      },
      "source": "y_pred_random=model_random.predict(X_test)\n# taux de succès:\nacc_random = metrics.accuracy_score(y_test,y_pred_random)\n#taux d'erreur\nerr_random =1.0 - acc_random\n\n\n#sensibilité (ou rappel)\nse_random = metrics.recall_score(y_test,y_pred_random,pos_label='Yes')\n\nprint ('taux d''erreur :  ' , err_random)\nprint ('taux de succès : ', acc_random)\nprint ('sensibilté : ', se_random)\n\n# taux de succès:\nacc_new = metrics.accuracy_score(y_test,y_pred_new)\n#taux d'erreur\nerr_new= 1.0 - acc_new\n\n\n#sensibilité (ou rappel)\nse_new = metrics.recall_score(y_test,y_pred_new,pos_label='Yes')\n\nprint ('taux d''erreur :  ' , err_new)\nprint ('taux de succès : ', acc_new)\nprint ('sensibilté : ', se_new)",
      "execution_count": null,
      "outputs": [
        {
          "name": "stdout",
          "text": "taux derreur :   0.13636363636363635\ntaux de succès :  0.8636363636363636\nsensibilté :  0.39285714285714285\ntaux derreur :   0.11818181818181817\ntaux de succès :  0.8818181818181818\nsensibilté :  0.10714285714285714\n",
          "output_type": "stream"
        }
      ]
    },
    {
      "cell_type": "code",
      "metadata": {
        "tags": [],
        "cell_id": "00050-717e421b-163c-4dab-9db8-c4f5ad7aa3a3",
        "deepnote_to_be_reexecuted": false,
        "source_hash": "78ad2553",
        "execution_millis": 127,
        "execution_start": 1618557478051,
        "deepnote_cell_type": "code"
      },
      "source": "  from sklearn.metrics import confusion_matrix\n  pd.DataFrame(data = confusion_matrix(y_true = y_test, y_pred = model_random.predict(X_test)),\n              index = model_random.classes_ + \" actual\",\n              columns = model_random.classes_ + \" predicted\").T",
      "execution_count": null,
      "outputs": [
        {
          "output_type": "execute_result",
          "execution_count": 50,
          "data": {
            "application/vnd.deepnote.dataframe.v2+json": {
              "row_count": 2,
              "column_count": 2,
              "columns": [
                {
                  "name": "No actual",
                  "dtype": "int64",
                  "stats": {
                    "unique_count": 2,
                    "nan_count": 0,
                    "min": "13",
                    "max": "179",
                    "histogram": [
                      {
                        "bin_start": 13,
                        "bin_end": 29.6,
                        "count": 1
                      },
                      {
                        "bin_start": 29.6,
                        "bin_end": 46.2,
                        "count": 0
                      },
                      {
                        "bin_start": 46.2,
                        "bin_end": 62.800000000000004,
                        "count": 0
                      },
                      {
                        "bin_start": 62.800000000000004,
                        "bin_end": 79.4,
                        "count": 0
                      },
                      {
                        "bin_start": 79.4,
                        "bin_end": 96,
                        "count": 0
                      },
                      {
                        "bin_start": 96,
                        "bin_end": 112.60000000000001,
                        "count": 0
                      },
                      {
                        "bin_start": 112.60000000000001,
                        "bin_end": 129.20000000000002,
                        "count": 0
                      },
                      {
                        "bin_start": 129.20000000000002,
                        "bin_end": 145.8,
                        "count": 0
                      },
                      {
                        "bin_start": 145.8,
                        "bin_end": 162.4,
                        "count": 0
                      },
                      {
                        "bin_start": 162.4,
                        "bin_end": 179,
                        "count": 1
                      }
                    ]
                  }
                },
                {
                  "name": "Yes actual",
                  "dtype": "int64",
                  "stats": {
                    "unique_count": 2,
                    "nan_count": 0,
                    "min": "11",
                    "max": "17",
                    "histogram": [
                      {
                        "bin_start": 11,
                        "bin_end": 11.6,
                        "count": 1
                      },
                      {
                        "bin_start": 11.6,
                        "bin_end": 12.2,
                        "count": 0
                      },
                      {
                        "bin_start": 12.2,
                        "bin_end": 12.8,
                        "count": 0
                      },
                      {
                        "bin_start": 12.8,
                        "bin_end": 13.4,
                        "count": 0
                      },
                      {
                        "bin_start": 13.4,
                        "bin_end": 14,
                        "count": 0
                      },
                      {
                        "bin_start": 14,
                        "bin_end": 14.6,
                        "count": 0
                      },
                      {
                        "bin_start": 14.6,
                        "bin_end": 15.2,
                        "count": 0
                      },
                      {
                        "bin_start": 15.2,
                        "bin_end": 15.8,
                        "count": 0
                      },
                      {
                        "bin_start": 15.8,
                        "bin_end": 16.4,
                        "count": 0
                      },
                      {
                        "bin_start": 16.4,
                        "bin_end": 17,
                        "count": 1
                      }
                    ]
                  }
                },
                {
                  "name": "_deepnote_index_column",
                  "dtype": "object"
                }
              ],
              "rows_top": [
                {
                  "No actual": 179,
                  "Yes actual": 17,
                  "_deepnote_index_column": "No predicted"
                },
                {
                  "No actual": 13,
                  "Yes actual": 11,
                  "_deepnote_index_column": "Yes predicted"
                }
              ],
              "rows_bottom": null
            },
            "text/plain": "               No actual  Yes actual\nNo predicted         179          17\nYes predicted         13          11",
            "text/html": "<div>\n<style scoped>\n    .dataframe tbody tr th:only-of-type {\n        vertical-align: middle;\n    }\n\n    .dataframe tbody tr th {\n        vertical-align: top;\n    }\n\n    .dataframe thead th {\n        text-align: right;\n    }\n</style>\n<table border=\"1\" class=\"dataframe\">\n  <thead>\n    <tr style=\"text-align: right;\">\n      <th></th>\n      <th>No actual</th>\n      <th>Yes actual</th>\n    </tr>\n  </thead>\n  <tbody>\n    <tr>\n      <th>No predicted</th>\n      <td>179</td>\n      <td>17</td>\n    </tr>\n    <tr>\n      <th>Yes predicted</th>\n      <td>13</td>\n      <td>11</td>\n    </tr>\n  </tbody>\n</table>\n</div>"
          },
          "metadata": {}
        }
      ]
    },
    {
      "cell_type": "code",
      "metadata": {
        "tags": [],
        "cell_id": "00051-97a75291-beb5-44d1-ae7d-040b662b7610",
        "deepnote_to_be_reexecuted": false,
        "source_hash": "68896ddd",
        "execution_millis": 66,
        "execution_start": 1618557484741,
        "deepnote_cell_type": "code"
      },
      "source": "  pd.DataFrame(data = confusion_matrix(y_true = y_test, y_pred = pipeline.predict(X_test)),\n              index = model.classes_ + \" actual\",\n              columns = model.classes_ + \" predicted\").T\n",
      "execution_count": null,
      "outputs": [
        {
          "output_type": "execute_result",
          "execution_count": 51,
          "data": {
            "application/vnd.deepnote.dataframe.v2+json": {
              "row_count": 2,
              "column_count": 2,
              "columns": [
                {
                  "name": "No actual",
                  "dtype": "int64",
                  "stats": {
                    "unique_count": 2,
                    "nan_count": 0,
                    "min": "12",
                    "max": "180",
                    "histogram": [
                      {
                        "bin_start": 12,
                        "bin_end": 28.8,
                        "count": 1
                      },
                      {
                        "bin_start": 28.8,
                        "bin_end": 45.6,
                        "count": 0
                      },
                      {
                        "bin_start": 45.6,
                        "bin_end": 62.400000000000006,
                        "count": 0
                      },
                      {
                        "bin_start": 62.400000000000006,
                        "bin_end": 79.2,
                        "count": 0
                      },
                      {
                        "bin_start": 79.2,
                        "bin_end": 96,
                        "count": 0
                      },
                      {
                        "bin_start": 96,
                        "bin_end": 112.80000000000001,
                        "count": 0
                      },
                      {
                        "bin_start": 112.80000000000001,
                        "bin_end": 129.60000000000002,
                        "count": 0
                      },
                      {
                        "bin_start": 129.60000000000002,
                        "bin_end": 146.4,
                        "count": 0
                      },
                      {
                        "bin_start": 146.4,
                        "bin_end": 163.20000000000002,
                        "count": 0
                      },
                      {
                        "bin_start": 163.20000000000002,
                        "bin_end": 180,
                        "count": 1
                      }
                    ]
                  }
                },
                {
                  "name": "Yes actual",
                  "dtype": "int64",
                  "stats": {
                    "unique_count": 2,
                    "nan_count": 0,
                    "min": "11",
                    "max": "17",
                    "histogram": [
                      {
                        "bin_start": 11,
                        "bin_end": 11.6,
                        "count": 1
                      },
                      {
                        "bin_start": 11.6,
                        "bin_end": 12.2,
                        "count": 0
                      },
                      {
                        "bin_start": 12.2,
                        "bin_end": 12.8,
                        "count": 0
                      },
                      {
                        "bin_start": 12.8,
                        "bin_end": 13.4,
                        "count": 0
                      },
                      {
                        "bin_start": 13.4,
                        "bin_end": 14,
                        "count": 0
                      },
                      {
                        "bin_start": 14,
                        "bin_end": 14.6,
                        "count": 0
                      },
                      {
                        "bin_start": 14.6,
                        "bin_end": 15.2,
                        "count": 0
                      },
                      {
                        "bin_start": 15.2,
                        "bin_end": 15.8,
                        "count": 0
                      },
                      {
                        "bin_start": 15.8,
                        "bin_end": 16.4,
                        "count": 0
                      },
                      {
                        "bin_start": 16.4,
                        "bin_end": 17,
                        "count": 1
                      }
                    ]
                  }
                },
                {
                  "name": "_deepnote_index_column",
                  "dtype": "object"
                }
              ],
              "rows_top": [
                {
                  "No actual": 180,
                  "Yes actual": 17,
                  "_deepnote_index_column": "No predicted"
                },
                {
                  "No actual": 12,
                  "Yes actual": 11,
                  "_deepnote_index_column": "Yes predicted"
                }
              ],
              "rows_bottom": null
            },
            "text/plain": "               No actual  Yes actual\nNo predicted         180          17\nYes predicted         12          11",
            "text/html": "<div>\n<style scoped>\n    .dataframe tbody tr th:only-of-type {\n        vertical-align: middle;\n    }\n\n    .dataframe tbody tr th {\n        vertical-align: top;\n    }\n\n    .dataframe thead th {\n        text-align: right;\n    }\n</style>\n<table border=\"1\" class=\"dataframe\">\n  <thead>\n    <tr style=\"text-align: right;\">\n      <th></th>\n      <th>No actual</th>\n      <th>Yes actual</th>\n    </tr>\n  </thead>\n  <tbody>\n    <tr>\n      <th>No predicted</th>\n      <td>180</td>\n      <td>17</td>\n    </tr>\n    <tr>\n      <th>Yes predicted</th>\n      <td>12</td>\n      <td>11</td>\n    </tr>\n  </tbody>\n</table>\n</div>"
          },
          "metadata": {}
        }
      ]
    },
    {
      "cell_type": "markdown",
      "source": "# XI. Model enhancement with hyperparameter tuning : *HyperOpt*",
      "metadata": {
        "tags": [],
        "cell_id": "00052-41d4c07c-e647-40ec-80c2-ddf25d16e15d",
        "deepnote_cell_type": "markdown"
      }
    },
    {
      "cell_type": "code",
      "metadata": {
        "tags": [],
        "cell_id": "00052-ea605add-bb18-4790-8346-7e9dbc04810a",
        "deepnote_to_be_reexecuted": false,
        "source_hash": "f62c38f4",
        "execution_start": 1618557407344,
        "execution_millis": 8728,
        "deepnote_cell_type": "code"
      },
      "source": "#!pip install hyperopt",
      "execution_count": null,
      "outputs": [
        {
          "name": "stdout",
          "text": "Collecting hyperopt\n  Downloading hyperopt-0.2.5-py2.py3-none-any.whl (965 kB)\n\u001b[K     |████████████████████████████████| 965 kB 17.9 MB/s \n\u001b[?25hCollecting networkx>=2.2\n  Downloading networkx-2.5.1-py3-none-any.whl (1.6 MB)\n\u001b[K     |████████████████████████████████| 1.6 MB 67.1 MB/s \n\u001b[?25hRequirement already satisfied: numpy in /shared-libs/python3.7/py/lib/python3.7/site-packages (from hyperopt) (1.19.5)\nRequirement already satisfied: scipy in /shared-libs/python3.7/py/lib/python3.7/site-packages (from hyperopt) (1.6.2)\nRequirement already satisfied: tqdm in /shared-libs/python3.7/py/lib/python3.7/site-packages (from hyperopt) (4.60.0)\nCollecting cloudpickle\n  Downloading cloudpickle-1.6.0-py3-none-any.whl (23 kB)\nRequirement already satisfied: future in /shared-libs/python3.7/py/lib/python3.7/site-packages (from hyperopt) (0.18.2)\nRequirement already satisfied: six in /shared-libs/python3.7/py-core/lib/python3.7/site-packages (from hyperopt) (1.15.0)\nCollecting decorator<5,>=4.3\n  Downloading decorator-4.4.2-py2.py3-none-any.whl (9.2 kB)\nInstalling collected packages: decorator, networkx, cloudpickle, hyperopt\n  Attempting uninstall: decorator\n    Found existing installation: decorator 5.0.6\n    Not uninstalling decorator at /shared-libs/python3.7/py-core/lib/python3.7/site-packages, outside environment /root/venv\n    Can't uninstall 'decorator'. No files were found to uninstall.\nSuccessfully installed cloudpickle-1.6.0 decorator-4.4.2 hyperopt-0.2.5 networkx-2.5.1\n",
          "output_type": "stream"
        }
      ]
    },
    {
      "cell_type": "code",
      "metadata": {
        "tags": [],
        "cell_id": "00052-04794d9e-3f39-454c-8842-47e82c394cac",
        "deepnote_to_be_reexecuted": false,
        "source_hash": "8d5be9b6",
        "execution_millis": 317,
        "execution_start": 1618557498016,
        "deepnote_cell_type": "code"
      },
      "source": "from hyperopt import hp, fmin, tpe, Trials, STATUS_OK",
      "execution_count": null,
      "outputs": []
    },
    {
      "cell_type": "code",
      "metadata": {
        "tags": [],
        "cell_id": "00053-6164cf7b-790c-485a-8339-5e2f626a45ae",
        "deepnote_to_be_reexecuted": false,
        "source_hash": "ba0b6cbc",
        "execution_millis": 60821,
        "execution_start": 1618557500439,
        "deepnote_cell_type": "code"
      },
      "source": "from sklearn.model_selection import cross_val_score\n\nspace = {\n    'C': hp.choice('C', [1,5,10,15,25,50,75,100,150]),\n    'penalty': hp.choice('penalty',['l1', 'l2', 'elasticnet']),\n    'max_iter': hp.choice('max_iter',[50,100,150,200,250,300])\n}\n\ndef hyperparameter_tuning(space):\n    model = LogisticRegression(\n        C=space['C'],\n        penalty=space['penalty'],\n        max_iter=space['max_iter']\n    )\n\n    pipeline = Pipeline(steps=[\n        ('preprocessor', preprocessor),\n        ('model', model)\n    ])\n\n    accuracy = cross_val_score(pipeline, X_train, y_train, cv = 5).mean()\n    return {'loss': -accuracy, 'status': STATUS_OK}\n\ntrials = Trials()\nbest = fmin(\n    fn=hyperparameter_tuning,\n    space=space,\n    algo= tpe.suggest,\n    max_evals=50,\n    trials=trials\n)\n\nbest\n",
      "execution_count": null,
      "outputs": [
        {
          "name": "stdout",
          "text": "100%|██████████| 50/50 [01:00<00:00,  1.22s/trial, best loss: -0.8790909090909091]\n",
          "output_type": "stream"
        },
        {
          "output_type": "execute_result",
          "execution_count": 53,
          "data": {
            "text/plain": "{'C': 3, 'max_iter': 0, 'penalty': 1}"
          },
          "metadata": {}
        }
      ]
    },
    {
      "cell_type": "markdown",
      "source": "# XII. Testing models",
      "metadata": {
        "tags": [],
        "cell_id": "00054-d4af6e06-8d9a-4b2e-a9b4-f4b9982e935b",
        "deepnote_cell_type": "markdown"
      }
    },
    {
      "cell_type": "code",
      "metadata": {
        "tags": [],
        "cell_id": "00056-6b444138-159c-49f9-b27b-cd022cd1479d",
        "deepnote_to_be_reexecuted": false,
        "source_hash": "661f6409",
        "execution_millis": 342938,
        "execution_start": 1618565675231,
        "deepnote_cell_type": "code"
      },
      "source": "\nfrom xgboost import XGBClassifier\nfrom sklearn.ensemble import RandomForestClassifier\nfrom sklearn.tree import DecisionTreeClassifier\nfrom lightgbm import LGBMClassifier\nfrom sklearn.metrics import classification_report\n\nclassifiers = [\n    LogisticRegression(random_state=0),\n    XGBClassifier(random_state=0),\n    RandomForestClassifier(random_state=0),\n    DecisionTreeClassifier(random_state=0),\n    LGBMClassifier(random_state=0)\n]\n\nfor classifier in classifiers:\n    pipe = Pipeline(steps=[\n        ('preprocessor', preprocessor),\n        ('classifier', classifier)\n    ])\n    mod=pipe.fit(X_train, y_train) \n    pd.DataFrame(data = confusion_matrix(y_true = y_test, y_pred = pipe.predict(X_test)),\n              index = mod.classes_ + \" actual\",\n              columns = mod.classes_ + \" predicted\") \n    print(classifier)\n    print(\"model score: %.3f\" % pipe.score(X_test, y_test))\n    print ('Matrice de confusion :')\n    print(pd.DataFrame(data = confusion_matrix(y_true = y_test, y_pred = pipe.predict(X_test)),\n              index = mod.classes_ + \" actual\",\n              columns = mod.classes_ + \" predicted\").T )\n    \n    cm = confusion_matrix(y_test, y_pred = pipe.predict(X_test))\n    cm_matrix = pd.DataFrame(data=cm, columns=['Actual Positive:No', 'Actual Negative:Yes'], \n                                 index=['Predict Positive:No', 'Predict Negative:Yes'])\n\n    sns.heatmap(cm_matrix, annot=True, fmt='d', cmap='YlGnBu')\n    plt.show()\n    y_pred_pipe=mod.predict(X_test)\n    #AUC : \n    roc = roc_auc_score(y_test, mod.predict_proba(X_test)[:,1])\n    print ('AUC : ', roc)\n    # taux de succès:\n    acc_pipe = metrics.accuracy_score(y_test,y_pred_pipe)\n    #taux d'erreur\n    err_pipe =1.0 - acc_pipe\n    #sensibilité (ou rappel)\n    se_pipe = metrics.recall_score(y_test,y_pred_pipe,pos_label='Yes')\n    print ('taux d''erreur :  ' , err_pipe)\n    print ('taux de succès : ', acc_pipe)\n    print ('sensibilté : ', se_pipe)\n\n\n\n    #define metrics\n    y_pred_proba = mod.predict_proba(X_test)[::,1]\n    fpr, tpr, _ = metrics.roc_curve(y_test,  y_pred_proba, pos_label='Yes')\n    idx = np.min(np.where(tpr > 0.95)) \n    #create ROC curve\n    plt.plot(fpr,tpr,label=\"AUC=\"+str(round((roc),3)))\n    plt.plot([0, 1], [0, 1], 'k--')\n    plt.plot([0,fpr[idx]], [tpr[idx],tpr[idx]], 'k--', color='red')\n    plt.plot([fpr[idx],fpr[idx]], [0,tpr[idx]], 'k--', color='red')\n    plt.xlim([0.0, 1.0])\n    plt.ylim([0.0, 1.05])\n    plt.ylabel('True Positive Rate')\n    plt.xlabel('False Positive Rate')\n    plt.legend(loc=4)\n\n    plt.show()\n\n    print(classification_report(y_test, y_pred_pipe))\n\n    ",
      "execution_count": null,
      "outputs": [
        {
          "name": "stdout",
          "text": "LogisticRegression(random_state=0)\nmodel score: 0.868\nMatrice de confusion :\n               No actual  Yes actual\nNo predicted         180          17\nYes predicted         12          11\n",
          "output_type": "stream"
        },
        {
          "data": {
            "text/plain": "<Figure size 612x360 with 2 Axes>",
            "image/png": "[encoded data removed]"
          },
          "metadata": {
            "needs_background": "light"
          },
          "output_type": "display_data"
        },
        {
          "name": "stdout",
          "text": "AUC :  0.7756696428571429\ntaux derreur :   0.13181818181818183\ntaux de succès :  0.8681818181818182\nsensibilté :  0.39285714285714285\n",
          "output_type": "stream"
        },
        {
          "data": {
            "text/plain": "<Figure size 612x360 with 1 Axes>",
            "image/png": "[encoded data removed]"
          },
          "metadata": {
            "needs_background": "light"
          },
          "output_type": "display_data"
        },
        {
          "name": "stdout",
          "text": "              precision    recall  f1-score   support\n\n          No       0.91      0.94      0.93       192\n         Yes       0.48      0.39      0.43        28\n\n    accuracy                           0.87       220\n   macro avg       0.70      0.67      0.68       220\nweighted avg       0.86      0.87      0.86       220\n\n[09:34:37] WARNING: ../src/learner.cc:1095: Starting in XGBoost 1.3.0, the default evaluation metric used with the objective 'binary:logistic' was changed from 'error' to 'logloss'. Explicitly set eval_metric if you'd like to restore the old behavior.\nXGBClassifier(base_score=0.5, booster='gbtree', colsample_bylevel=1,\n              colsample_bynode=1, colsample_bytree=1, gamma=0, gpu_id=-1,\n              importance_type='gain', interaction_constraints='',\n              learning_rate=0.300000012, max_delta_step=0, max_depth=6,\n              min_child_weight=1, missing=nan, monotone_constraints='()',\n              n_estimators=100, n_jobs=4, num_parallel_tree=1, random_state=0,\n              reg_alpha=0, reg_lambda=1, scale_pos_weight=1, subsample=1,\n              tree_method='exact', validate_parameters=1, verbosity=None)\nmodel score: 0.895\nMatrice de confusion :\n               No actual  Yes actual\nNo predicted         187          18\nYes predicted          5          10\n",
          "output_type": "stream"
        },
        {
          "data": {
            "text/plain": "<Figure size 612x360 with 2 Axes>",
            "image/png": "[encoded data removed]"
          },
          "metadata": {
            "needs_background": "light"
          },
          "output_type": "display_data"
        },
        {
          "name": "stdout",
          "text": "AUC :  0.7100074404761905\ntaux derreur :   0.1045454545454545\ntaux de succès :  0.8954545454545455\nsensibilté :  0.35714285714285715\n",
          "output_type": "stream"
        },
        {
          "data": {
            "text/plain": "<Figure size 612x360 with 1 Axes>",
            "image/png": "[encoded data removed]"
          },
          "metadata": {
            "needs_background": "light"
          },
          "output_type": "display_data"
        },
        {
          "name": "stdout",
          "text": "              precision    recall  f1-score   support\n\n          No       0.91      0.97      0.94       192\n         Yes       0.67      0.36      0.47        28\n\n    accuracy                           0.90       220\n   macro avg       0.79      0.67      0.70       220\nweighted avg       0.88      0.90      0.88       220\n\nRandomForestClassifier(random_state=0)\nmodel score: 0.891\nMatrice de confusion :\n               No actual  Yes actual\nNo predicted         192          24\nYes predicted          0           4\n",
          "output_type": "stream"
        },
        {
          "data": {
            "text/plain": "<Figure size 612x360 with 2 Axes>",
            "image/png": "[encoded data removed]"
          },
          "metadata": {
            "needs_background": "light"
          },
          "output_type": "display_data"
        },
        {
          "name": "stdout",
          "text": "AUC :  0.7329799107142858\ntaux derreur :   0.10909090909090913\ntaux de succès :  0.8909090909090909\nsensibilté :  0.14285714285714285\n",
          "output_type": "stream"
        },
        {
          "data": {
            "text/plain": "<Figure size 612x360 with 1 Axes>",
            "image/png": "[encoded data removed]"
          },
          "metadata": {
            "needs_background": "light"
          },
          "output_type": "display_data"
        },
        {
          "name": "stdout",
          "text": "              precision    recall  f1-score   support\n\n          No       0.89      1.00      0.94       192\n         Yes       1.00      0.14      0.25        28\n\n    accuracy                           0.89       220\n   macro avg       0.94      0.57      0.60       220\nweighted avg       0.90      0.89      0.85       220\n\nDecisionTreeClassifier(random_state=0)\nmodel score: 0.809\nMatrice de confusion :\n               No actual  Yes actual\nNo predicted         167          17\nYes predicted         25          11\n",
          "output_type": "stream"
        },
        {
          "data": {
            "text/plain": "<Figure size 612x360 with 2 Axes>",
            "image/png": "[encoded data removed]"
          },
          "metadata": {
            "needs_background": "light"
          },
          "output_type": "display_data"
        },
        {
          "name": "stdout",
          "text": "AUC :  0.6313244047619047\ntaux derreur :   0.19090909090909092\ntaux de succès :  0.8090909090909091\nsensibilté :  0.39285714285714285\n",
          "output_type": "stream"
        },
        {
          "data": {
            "text/plain": "<Figure size 612x360 with 1 Axes>",
            "image/png": "[encoded data removed]"
          },
          "metadata": {
            "needs_background": "light"
          },
          "output_type": "display_data"
        },
        {
          "name": "stdout",
          "text": "              precision    recall  f1-score   support\n\n          No       0.91      0.87      0.89       192\n         Yes       0.31      0.39      0.34        28\n\n    accuracy                           0.81       220\n   macro avg       0.61      0.63      0.62       220\nweighted avg       0.83      0.81      0.82       220\n\nLGBMClassifier(random_state=0)\nmodel score: 0.895\nMatrice de confusion :\n               No actual  Yes actual\nNo predicted         190          21\nYes predicted          2           7\n",
          "output_type": "stream"
        },
        {
          "data": {
            "text/plain": "<Figure size 612x360 with 2 Axes>",
            "image/png": "[encoded data removed]"
          },
          "metadata": {
            "needs_background": "light"
          },
          "output_type": "display_data"
        },
        {
          "name": "stdout",
          "text": "AUC :  0.7103794642857142\ntaux derreur :   0.1045454545454545\ntaux de succès :  0.8954545454545455\nsensibilté :  0.25\n",
          "output_type": "stream"
        },
        {
          "data": {
            "text/plain": "<Figure size 612x360 with 1 Axes>",
            "image/png": "[encoded data removed]"
          },
          "metadata": {
            "needs_background": "light"
          },
          "output_type": "display_data"
        },
        {
          "name": "stdout",
          "text": "              precision    recall  f1-score   support\n\n          No       0.90      0.99      0.94       192\n         Yes       0.78      0.25      0.38        28\n\n    accuracy                           0.90       220\n   macro avg       0.84      0.62      0.66       220\nweighted avg       0.88      0.90      0.87       220\n\n",
          "output_type": "stream"
        }
      ]
    },
    {
      "cell_type": "markdown",
      "source": "",
      "metadata": {
        "tags": [],
        "cell_id": "00059-0e95715f-724e-47ab-9420-aa68067343c7",
        "deepnote_cell_type": "markdown"
      }
    },
    {
      "cell_type": "code",
      "metadata": {
        "tags": [],
        "cell_id": "00062-075225ad-25a3-4735-b094-0e68bed78374",
        "deepnote_to_be_reexecuted": false,
        "source_hash": "7425fc9f",
        "execution_start": 1618566168389,
        "execution_millis": 20,
        "deepnote_cell_type": "code"
      },
      "source": "X_rfecv.dtypes",
      "execution_count": null,
      "outputs": [
        {
          "output_type": "execute_result",
          "execution_count": 94,
          "data": {
            "text/plain": "Age                                  int64\nDailyRate                            int64\nDistanceFromHome                     int64\nEducation                            int64\nEmployeeCount                        int64\nEnvironmentSatisfaction              int64\nHourlyRate                           int64\nJobInvolvement                       int64\nJobLevel                             int64\nJobSatisfaction                      int64\nMonthlyIncome                        int64\nNumCompaniesWorked                   int64\nPercentSalaryHike                    int64\nPerformanceRating                    int64\nRelationshipSatisfaction             int64\nStandardHours                        int64\nStockOptionLevel                     int64\nTotalWorkingYears                    int64\nTrainingTimesLastYear                int64\nWorkLifeBalance                      int64\nYearsAtCompany                       int64\nYearsInCurrentRole                   int64\nYearsSinceLastPromotion              int64\nYearsWithCurrManager                 int64\nBusinessTravel_Non-Travel            int64\nBusinessTravel_Travel_Frequently     int64\nBusinessTravel_Travel_Rarely         int64\nDepartment_Human Resources           int64\nDepartment_Research & Development    int64\nDepartment_Sales                     int64\nEducationField_Human Resources       int64\nEducationField_Life Sciences         int64\nEducationField_Marketing             int64\nEducationField_Medical               int64\nEducationField_Other                 int64\nEducationField_Technical Degree      int64\nGender_Female                        int64\nGender_Male                          int64\nJobRole_Healthcare Representative    int64\nJobRole_Human Resources              int64\nJobRole_Laboratory Technician        int64\nJobRole_Manager                      int64\nJobRole_Manufacturing Director       int64\nJobRole_Research Director            int64\nJobRole_Research Scientist           int64\nJobRole_Sales Executive              int64\nJobRole_Sales Representative         int64\nMaritalStatus_Divorced               int64\nMaritalStatus_Married                int64\nMaritalStatus_Single                 int64\nOver18_Y                             int64\nOverTime_No                          int64\nOverTime_Yes                         int64\ndtype: object"
          },
          "metadata": {}
        }
      ]
    },
    {
      "cell_type": "markdown",
      "source": "Comment interpréter son AUC ?:\n\n\nL'aire sous la courbe ROC (ou Area Under the Curve, AUC) peut être interprétée comme la probabilité que, parmi deux sujets choisis au hasard, un malade et un non-malade, la valeur du marqueur soit plus élevée pour le malade que pour le non-malade. Par conséquent, une AUC de 0,5 (50%) indique que le marqueur est non-informatif. Une augmentation de l'AUC indique une amélioration des capacités discriminatoires, avec un maximum de 1,0 (100%).",
      "metadata": {
        "tags": [],
        "cell_id": "00060-9236e1da-0e80-4d47-8a68-17443bf8d290",
        "deepnote_cell_type": "markdown"
      }
    },
    {
      "cell_type": "markdown",
      "source": "on verra tout à l'heure avec les explications de Julien",
      "metadata": {
        "tags": [],
        "cell_id": "00064-7aa18407-bf15-475b-aff6-ad38f6a7f3a8",
        "deepnote_cell_type": "markdown"
      }
    },
    {
      "cell_type": "markdown",
      "source": "Yep",
      "metadata": {
        "tags": [],
        "cell_id": "00064-b21ebf95-3ce7-445a-93e8-56899e62de2b",
        "deepnote_cell_type": "markdown"
      }
    },
    {
      "cell_type": "markdown",
      "source": "# XIII testing with selected features",
      "metadata": {
        "tags": [],
        "cell_id": "00064-97bae6be-4b95-4875-b3eb-17603437da79",
        "deepnote_cell_type": "markdown"
      }
    },
    {
      "cell_type": "code",
      "metadata": {
        "tags": [],
        "cell_id": "00063-65c4a273-45dd-43f3-8b43-e1c51d21ac43",
        "deepnote_to_be_reexecuted": false,
        "source_hash": "b57ced73",
        "execution_millis": 2014,
        "execution_start": 1618567464007,
        "deepnote_cell_type": "code"
      },
      "source": "from xgboost import XGBClassifier\nfrom sklearn.ensemble import RandomForestClassifier\nfrom sklearn.tree import DecisionTreeClassifier\nfrom lightgbm import LGBMClassifier\nfrom sklearn.metrics import classification_report\n\nclassifiers = [\n    LogisticRegression(C=1, penalty='l2', max_iter=50,random_state=0), # 0.735 sans les hyperparametres\n    #XGBClassifier(random_state=0),\n    #RandomForestClassifier(random_state=0),\n    #DecisionTreeClassifier(random_state=0),\n    #LGBMClassifier(random_state=0)\n]\n\nfor classifier in classifiers:\n    pipe = Pipeline(steps=[\n        #('preprocessor', preprocessor),\n        ('classifier', classifier)\n    ])\n    mod=pipe.fit(X_train_r, y_train_r) \n    pd.DataFrame(data = confusion_matrix(y_true = y_test_r, y_pred = pipe.predict(X_test_r)),\n              index = mod.classes_ + \" actual\",\n              columns = mod.classes_ + \" predicted\") \n    print(classifier)\n    print(\"model score: %.3f\" % pipe.score(X_test_r, y_test_r))\n    print ('Matrice de confusion :')\n    print(pd.DataFrame(data = confusion_matrix(y_true = y_test_r, y_pred = pipe.predict(X_test_r)),\n              index = mod.classes_ + \" actual\",\n              columns = mod.classes_ + \" predicted\").T )\n    \n    cm = confusion_matrix(y_test_r, y_pred = pipe.predict(X_test_r))\n    cm_matrix = pd.DataFrame(data=cm, columns=['Actual Positive:No', 'Actual Negative:Yes'], \n                                 index=['Predict Positive:No', 'Predict Negative:Yes'])\n\n    sns.heatmap(cm_matrix, annot=True, fmt='d', cmap='YlGnBu')\n    plt.show()\n    y_pred_pipe=mod.predict(X_test_r)\n    #AUC : \n    roc = roc_auc_score(y_test_r, mod.predict_proba(X_test_r)[:,1])\n    print ('AUC : ', roc)\n    # taux de succès:\n    acc_pipe = metrics.accuracy_score(y_test_r,y_pred_pipe)\n    #taux d'erreur\n    err_pipe =1.0 - acc_pipe\n    #sensibilité (ou rappel)\n    se_pipe = metrics.recall_score(y_test_r,y_pred_pipe,pos_label='Yes')\n    print ('taux d''erreur :  ' , err_pipe)\n    print ('taux de succès : ', acc_pipe)\n    print ('sensibilté : ', se_pipe)\n\n\n\n    #define metrics\n    y_pred_proba = mod.predict_proba(X_test_r)[::,1]\n    fpr, tpr, _ = metrics.roc_curve(y_test_r,  y_pred_proba, pos_label='Yes')\n    idx = np.min(np.where(tpr > 0.95)) \n    #create ROC curve\n    plt.plot(fpr,tpr,label=\"AUC=\"+str(round((roc),3)))\n    plt.plot([0, 1], [0, 1], 'k--')\n    plt.plot([0,fpr[idx]], [tpr[idx],tpr[idx]], 'k--', color='red')\n    plt.plot([fpr[idx],fpr[idx]], [0,tpr[idx]], 'k--', color='red')\n    plt.xlim([0.0, 1.0])\n    plt.ylim([0.0, 1.05])\n    plt.ylabel('True Positive Rate')\n    plt.xlabel('False Positive Rate')\n    plt.legend(loc=4)\n\n    plt.show()\n\n    print(classification_report(y_test_r, y_pred_pipe))\n",
      "execution_count": null,
      "outputs": [
        {
          "name": "stdout",
          "text": "LogisticRegression(C=1, max_iter=50, random_state=0)\nmodel score: 0.868\nMatrice de confusion :\n               No actual  Yes actual\nNo predicted         191          28\nYes predicted          1           0\n",
          "output_type": "stream"
        },
        {
          "data": {
            "text/plain": "<Figure size 612x360 with 2 Axes>",
            "image/png": "[encoded data removed]"
          },
          "metadata": {
            "needs_background": "light"
          },
          "output_type": "display_data"
        },
        {
          "name": "stdout",
          "text": "AUC :  0.6966145833333334\ntaux derreur :   0.13181818181818183\ntaux de succès :  0.8681818181818182\nsensibilté :  0.0\n",
          "output_type": "stream"
        },
        {
          "data": {
            "text/plain": "<Figure size 612x360 with 1 Axes>",
            "image/png": "[encoded data removed]"
          },
          "metadata": {
            "needs_background": "light"
          },
          "output_type": "display_data"
        },
        {
          "name": "stdout",
          "text": "              precision    recall  f1-score   support\n\n          No       0.87      0.99      0.93       192\n         Yes       0.00      0.00      0.00        28\n\n    accuracy                           0.87       220\n   macro avg       0.44      0.50      0.46       220\nweighted avg       0.76      0.87      0.81       220\n\n",
          "output_type": "stream"
        }
      ]
    },
    {
      "cell_type": "code",
      "metadata": {
        "tags": [],
        "cell_id": "00068-41bf8961-2f36-4ab4-a98e-dafeae65acc5",
        "deepnote_to_be_reexecuted": false,
        "source_hash": "137fa53f",
        "execution_start": 1618568689985,
        "execution_millis": 147652,
        "deepnote_cell_type": "code"
      },
      "source": "!pip install shapash",
      "execution_count": null,
      "outputs": [
        {
          "name": "stdout",
          "text": "Collecting shapash\n  Downloading shapash-1.3.2-py2.py3-none-any.whl (863 kB)\n\u001b[K     |████████████████████████████████| 863 kB 11.4 MB/s \n\u001b[?25hCollecting dash-daq==0.5.0\n  Downloading dash_daq-0.5.0.tar.gz (642 kB)\n\u001b[K     |████████████████████████████████| 642 kB 30.1 MB/s \n\u001b[?25hCollecting dash-core-components==1.13.0\n  Downloading dash_core_components-1.13.0.tar.gz (3.5 MB)\n\u001b[K     |████████████████████████████████| 3.5 MB 49.5 MB/s \n\u001b[?25hRequirement already satisfied: nbformat>4.2.0 in /shared-libs/python3.7/py-core/lib/python3.7/site-packages (from shapash) (5.1.3)\nCollecting dash-renderer==1.8.3\n  Downloading dash_renderer-1.8.3.tar.gz (1.0 MB)\n\u001b[K     |████████████████████████████████| 1.0 MB 51.6 MB/s \n\u001b[?25hCollecting dash-bootstrap-components==0.9.1\n  Downloading dash-bootstrap-components-0.9.1.tar.gz (99 kB)\n\u001b[K     |████████████████████████████████| 99 kB 9.9 MB/s \n\u001b[?25h  Installing build dependencies ... \u001b[?25ldone\n\u001b[?25h  Getting requirements to build wheel ... \u001b[?25ldone\n\u001b[?25h    Preparing wheel metadata ... \u001b[?25ldone\n\u001b[?25hCollecting plotly==4.12.0\n  Downloading plotly-4.12.0-py2.py3-none-any.whl (13.1 MB)\n\u001b[K     |████████████████████████████████| 13.1 MB 12.8 MB/s \n\u001b[?25hRequirement already satisfied: nbconvert==6.0.7 in /shared-libs/python3.7/py-core/lib/python3.7/site-packages (from shapash) (6.0.7)\nRequirement already satisfied: numpy>1.18.0 in /shared-libs/python3.7/py/lib/python3.7/site-packages (from shapash) (1.19.5)\nCollecting shap==0.37.0\n  Downloading shap-0.37.0.tar.gz (326 kB)\n\u001b[K     |████████████████████████████████| 326 kB 17.6 MB/s \n\u001b[?25hCollecting papermill==2.3.2\n  Downloading papermill-2.3.2-py3-none-any.whl (35 kB)\nCollecting dash-table==4.11.0\n  Downloading dash_table-4.11.0.tar.gz (1.8 MB)\n\u001b[K     |████████████████████████████████| 1.8 MB 26.0 MB/s \n\u001b[?25hRequirement already satisfied: seaborn==0.11.1 in /shared-libs/python3.7/py/lib/python3.7/site-packages (from shapash) (0.11.1)\nRequirement already satisfied: matplotlib>=3.0 in /shared-libs/python3.7/py/lib/python3.7/site-packages (from shapash) (3.4.1)\nCollecting numba==0.51.2\n  Downloading numba-0.51.2-cp37-cp37m-manylinux2014_x86_64.whl (3.1 MB)\n\u001b[K     |████████████████████████████████| 3.1 MB 13.2 MB/s \n\u001b[?25hCollecting dash==1.17.0\n  Downloading dash-1.17.0.tar.gz (75 kB)\n\u001b[K     |████████████████████████████████| 75 kB 2.0 MB/s \n\u001b[?25hCollecting dash-html-components==1.1.1\n  Downloading dash_html_components-1.1.1.tar.gz (188 kB)\n\u001b[K     |████████████████████████████████| 188 kB 10.8 MB/s \n\u001b[?25hRequirement already satisfied: pandas>1.0.2 in /shared-libs/python3.7/py/lib/python3.7/site-packages (from shapash) (1.2.4)\nCollecting Flask>=1.0.2\n  Downloading Flask-1.1.2-py2.py3-none-any.whl (94 kB)\n\u001b[K     |████████████████████████████████| 94 kB 4.1 MB/s \n\u001b[?25hCollecting flask-compress\n  Downloading Flask_Compress-1.9.0-py3-none-any.whl (7.3 kB)\nRequirement already satisfied: future in /shared-libs/python3.7/py/lib/python3.7/site-packages (from dash==1.17.0->shapash) (0.18.2)\nRequirement already satisfied: jupyterlab-pygments in /shared-libs/python3.7/py-core/lib/python3.7/site-packages (from nbconvert==6.0.7->shapash) (0.1.2)\nRequirement already satisfied: defusedxml in /shared-libs/python3.7/py-core/lib/python3.7/site-packages (from nbconvert==6.0.7->shapash) (0.7.1)\nRequirement already satisfied: mistune<2,>=0.8.1 in /shared-libs/python3.7/py-core/lib/python3.7/site-packages (from nbconvert==6.0.7->shapash) (0.8.4)\nRequirement already satisfied: pygments>=2.4.1 in /shared-libs/python3.7/py-core/lib/python3.7/site-packages (from nbconvert==6.0.7->shapash) (2.8.1)\nRequirement already satisfied: nbclient<0.6.0,>=0.5.0 in /shared-libs/python3.7/py-core/lib/python3.7/site-packages (from nbconvert==6.0.7->shapash) (0.5.3)\nRequirement already satisfied: bleach in /shared-libs/python3.7/py-core/lib/python3.7/site-packages (from nbconvert==6.0.7->shapash) (3.3.0)\nRequirement already satisfied: pandocfilters>=1.4.1 in /shared-libs/python3.7/py-core/lib/python3.7/site-packages (from nbconvert==6.0.7->shapash) (1.4.3)\nRequirement already satisfied: testpath in /shared-libs/python3.7/py-core/lib/python3.7/site-packages (from nbconvert==6.0.7->shapash) (0.4.4)\nRequirement already satisfied: entrypoints>=0.2.2 in /shared-libs/python3.7/py-core/lib/python3.7/site-packages (from nbconvert==6.0.7->shapash) (0.3)\nRequirement already satisfied: jinja2>=2.4 in /shared-libs/python3.7/py-core/lib/python3.7/site-packages (from nbconvert==6.0.7->shapash) (2.11.3)\nRequirement already satisfied: traitlets>=4.2 in /shared-libs/python3.7/py-core/lib/python3.7/site-packages (from nbconvert==6.0.7->shapash) (5.0.5)\nRequirement already satisfied: jupyter-core in /shared-libs/python3.7/py-core/lib/python3.7/site-packages (from nbconvert==6.0.7->shapash) (4.7.1)\nCollecting llvmlite<0.35,>=0.34.0.dev0\n  Downloading llvmlite-0.34.0-cp37-cp37m-manylinux2010_x86_64.whl (24.6 MB)\n\u001b[K     |████████████████████████████████| 24.6 MB 18.1 MB/s \n\u001b[?25hRequirement already satisfied: setuptools in /root/venv/lib/python3.7/site-packages (from numba==0.51.2->shapash) (54.1.2)\nCollecting ansiwrap\n  Downloading ansiwrap-0.8.4-py2.py3-none-any.whl (8.5 kB)\nCollecting tenacity\n  Downloading tenacity-7.0.0-py2.py3-none-any.whl (23 kB)\nRequirement already satisfied: tqdm>=4.32.2 in /shared-libs/python3.7/py/lib/python3.7/site-packages (from papermill==2.3.2->shapash) (4.60.0)\nCollecting black\n  Downloading black-20.8b1.tar.gz (1.1 MB)\n\u001b[K     |████████████████████████████████| 1.1 MB 6.7 MB/s \n\u001b[?25h  Installing build dependencies ... \u001b[?25ldone\n\u001b[?25h  Getting requirements to build wheel ... \u001b[?25ldone\n\u001b[?25h    Preparing wheel metadata ... \u001b[?25ldone\n\u001b[?25hRequirement already satisfied: click in /shared-libs/python3.7/py/lib/python3.7/site-packages (from papermill==2.3.2->shapash) (7.1.2)\nRequirement already satisfied: pyyaml in /shared-libs/python3.7/py/lib/python3.7/site-packages (from papermill==2.3.2->shapash) (5.4.1)\nRequirement already satisfied: requests in /shared-libs/python3.7/py/lib/python3.7/site-packages (from papermill==2.3.2->shapash) (2.25.1)\nRequirement already satisfied: retrying>=1.3.3 in /shared-libs/python3.7/py/lib/python3.7/site-packages (from plotly==4.12.0->shapash) (1.3.3)\nRequirement already satisfied: six in /shared-libs/python3.7/py-core/lib/python3.7/site-packages (from plotly==4.12.0->shapash) (1.15.0)\nRequirement already satisfied: scipy>=1.0 in /shared-libs/python3.7/py/lib/python3.7/site-packages (from seaborn==0.11.1->shapash) (1.6.2)\nRequirement already satisfied: scikit-learn in /shared-libs/python3.7/py/lib/python3.7/site-packages (from shap==0.37.0->shapash) (0.24.1)\nCollecting slicer==0.0.3\n  Downloading slicer-0.0.3-py3-none-any.whl (11 kB)\nRequirement already satisfied: Werkzeug>=0.15 in /shared-libs/python3.7/py/lib/python3.7/site-packages (from Flask>=1.0.2->dash==1.17.0->shapash) (1.0.1)\nCollecting itsdangerous>=0.24\n  Downloading itsdangerous-1.1.0-py2.py3-none-any.whl (16 kB)\nRequirement already satisfied: MarkupSafe>=0.23 in /shared-libs/python3.7/py-core/lib/python3.7/site-packages (from jinja2>=2.4->nbconvert==6.0.7->shapash) (1.1.1)\nRequirement already satisfied: cycler>=0.10 in /shared-libs/python3.7/py/lib/python3.7/site-packages (from matplotlib>=3.0->shapash) (0.10.0)\nRequirement already satisfied: kiwisolver>=1.0.1 in /shared-libs/python3.7/py/lib/python3.7/site-packages (from matplotlib>=3.0->shapash) (1.3.1)\nRequirement already satisfied: python-dateutil>=2.7 in /shared-libs/python3.7/py-core/lib/python3.7/site-packages (from matplotlib>=3.0->shapash) (2.8.1)\nRequirement already satisfied: pillow>=6.2.0 in /shared-libs/python3.7/py/lib/python3.7/site-packages (from matplotlib>=3.0->shapash) (8.2.0)\nRequirement already satisfied: pyparsing>=2.2.1 in /shared-libs/python3.7/py-core/lib/python3.7/site-packages (from matplotlib>=3.0->shapash) (2.4.7)\nRequirement already satisfied: async-generator in /shared-libs/python3.7/py-core/lib/python3.7/site-packages (from nbclient<0.6.0,>=0.5.0->nbconvert==6.0.7->shapash) (1.10)\nRequirement already satisfied: jupyter-client>=6.1.5 in /shared-libs/python3.7/py-core/lib/python3.7/site-packages (from nbclient<0.6.0,>=0.5.0->nbconvert==6.0.7->shapash) (6.1.12)\nRequirement already satisfied: nest-asyncio in /shared-libs/python3.7/py-core/lib/python3.7/site-packages (from nbclient<0.6.0,>=0.5.0->nbconvert==6.0.7->shapash) (1.5.1)\nRequirement already satisfied: tornado>=4.1 in /shared-libs/python3.7/py-core/lib/python3.7/site-packages (from jupyter-client>=6.1.5->nbclient<0.6.0,>=0.5.0->nbconvert==6.0.7->shapash) (6.1)\nRequirement already satisfied: pyzmq>=13 in /shared-libs/python3.7/py-core/lib/python3.7/site-packages (from jupyter-client>=6.1.5->nbclient<0.6.0,>=0.5.0->nbconvert==6.0.7->shapash) (22.0.3)\nRequirement already satisfied: ipython-genutils in /shared-libs/python3.7/py-core/lib/python3.7/site-packages (from nbformat>4.2.0->shapash) (0.2.0)\nRequirement already satisfied: jsonschema!=2.5.0,>=2.4 in /shared-libs/python3.7/py-core/lib/python3.7/site-packages (from nbformat>4.2.0->shapash) (3.2.0)\nRequirement already satisfied: importlib-metadata in /shared-libs/python3.7/py-core/lib/python3.7/site-packages (from jsonschema!=2.5.0,>=2.4->nbformat>4.2.0->shapash) (3.10.1)\nRequirement already satisfied: attrs>=17.4.0 in /shared-libs/python3.7/py-core/lib/python3.7/site-packages (from jsonschema!=2.5.0,>=2.4->nbformat>4.2.0->shapash) (20.3.0)\nRequirement already satisfied: pyrsistent>=0.14.0 in /shared-libs/python3.7/py-core/lib/python3.7/site-packages (from jsonschema!=2.5.0,>=2.4->nbformat>4.2.0->shapash) (0.17.3)\nRequirement already satisfied: pytz>=2017.3 in /shared-libs/python3.7/py/lib/python3.7/site-packages (from pandas>1.0.2->shapash) (2021.1)\nCollecting textwrap3>=0.9.2\n  Downloading textwrap3-0.9.2-py2.py3-none-any.whl (12 kB)\nRequirement already satisfied: appdirs in /shared-libs/python3.7/py-core/lib/python3.7/site-packages (from black->papermill==2.3.2->shapash) (1.4.4)\nCollecting typed-ast>=1.4.0\n  Downloading typed_ast-1.4.3-cp37-cp37m-manylinux1_x86_64.whl (743 kB)\n\u001b[K     |████████████████████████████████| 743 kB 28.2 MB/s \n\u001b[?25hRequirement already satisfied: typing-extensions>=3.7.4 in /shared-libs/python3.7/py-core/lib/python3.7/site-packages (from black->papermill==2.3.2->shapash) (3.7.4.3)\nRequirement already satisfied: regex>=2020.1.8 in /shared-libs/python3.7/py/lib/python3.7/site-packages (from black->papermill==2.3.2->shapash) (2021.4.4)\nCollecting pathspec<1,>=0.6\n  Downloading pathspec-0.8.1-py2.py3-none-any.whl (28 kB)\nRequirement already satisfied: toml>=0.10.1 in /shared-libs/python3.7/py/lib/python3.7/site-packages (from black->papermill==2.3.2->shapash) (0.10.2)\nRequirement already satisfied: mypy-extensions>=0.4.3 in /shared-libs/python3.7/py/lib/python3.7/site-packages (from black->papermill==2.3.2->shapash) (0.4.3)\nRequirement already satisfied: webencodings in /shared-libs/python3.7/py-core/lib/python3.7/site-packages (from bleach->nbconvert==6.0.7->shapash) (0.5.1)\nRequirement already satisfied: packaging in /shared-libs/python3.7/py-core/lib/python3.7/site-packages (from bleach->nbconvert==6.0.7->shapash) (20.9)\nCollecting brotli\n  Downloading Brotli-1.0.9-cp37-cp37m-manylinux1_x86_64.whl (357 kB)\n\u001b[K     |████████████████████████████████| 357 kB 48.4 MB/s \n\u001b[?25hRequirement already satisfied: zipp>=0.5 in /shared-libs/python3.7/py-core/lib/python3.7/site-packages (from importlib-metadata->jsonschema!=2.5.0,>=2.4->nbformat>4.2.0->shapash) (3.4.1)\nRequirement already satisfied: urllib3<1.27,>=1.21.1 in /shared-libs/python3.7/py/lib/python3.7/site-packages (from requests->papermill==2.3.2->shapash) (1.26.4)\nRequirement already satisfied: chardet<5,>=3.0.2 in /shared-libs/python3.7/py/lib/python3.7/site-packages (from requests->papermill==2.3.2->shapash) (3.0.4)\nRequirement already satisfied: idna<3,>=2.5 in /shared-libs/python3.7/py/lib/python3.7/site-packages (from requests->papermill==2.3.2->shapash) (2.10)\nRequirement already satisfied: certifi>=2017.4.17 in /shared-libs/python3.7/py/lib/python3.7/site-packages (from requests->papermill==2.3.2->shapash) (2020.12.5)\nRequirement already satisfied: threadpoolctl>=2.0.0 in /shared-libs/python3.7/py/lib/python3.7/site-packages (from scikit-learn->shap==0.37.0->shapash) (2.1.0)\nRequirement already satisfied: joblib>=0.11 in /shared-libs/python3.7/py/lib/python3.7/site-packages (from scikit-learn->shap==0.37.0->shapash) (1.0.1)\nBuilding wheels for collected packages: dash, dash-bootstrap-components, dash-core-components, dash-daq, dash-html-components, dash-renderer, dash-table, shap, black\n  Building wheel for dash (setup.py) ... \u001b[?25ldone\n\u001b[?25h  Created wheel for dash: filename=dash-1.17.0-py3-none-any.whl size=83727 sha256=713bee4447370d5bc1b4849ac6593eaa561286dd80f0486060234406b949c6d1\n  Stored in directory: /root/.cache/pip/wheels/28/60/30/2f9f3884e6c75ea2588026586e6b1a6e95922d7369ce2c8dba\n  Building wheel for dash-bootstrap-components (PEP 517) ... \u001b[?25ldone\n\u001b[?25h  Created wheel for dash-bootstrap-components: filename=dash_bootstrap_components-0.9.1-py3-none-any.whl size=170749 sha256=1dd4378655e0b6b18b505abbcd049bad0745081c2f34a4c9e274a767f2bf8ebd\n  Stored in directory: /root/.cache/pip/wheels/ba/30/67/e50ae4929e0fe7df1be53bf3557dbe507e4f22f34e0d2d5145\n  Building wheel for dash-core-components (setup.py) ... \u001b[?25ldone\n\u001b[?25h  Created wheel for dash-core-components: filename=dash_core_components-1.13.0-py3-none-any.whl size=3513142 sha256=9d8386dfa2d9e1cd5661d704614108ce38fe6fab4c91dca0527fb4e799dd5721\n  Stored in directory: /root/.cache/pip/wheels/90/b9/27/c290d05058f55b0d4af28f0a8602017ffe13895291f163115b\n  Building wheel for dash-daq (setup.py) ... \u001b[?25ldone\n\u001b[?25h  Created wheel for dash-daq: filename=dash_daq-0.5.0-py3-none-any.whl size=669701 sha256=b19d699ad74e24f793e87cc24af7dc33a2e4227d9f0ae9bf12763651925770dd\n  Stored in directory: /root/.cache/pip/wheels/fe/54/53/a8d448db5592874db4313240571ca2c069e55f6a6b29bf5847\n  Building wheel for dash-html-components (setup.py) ... \u001b[?25ldone\n\u001b[?25h  Created wheel for dash-html-components: filename=dash_html_components-1.1.1-py3-none-any.whl size=427894 sha256=9e7307bdae486ff75c26014a4b4c223da63fd3cc695a15b7edd6ee77cf46d9a4\n  Stored in directory: /root/.cache/pip/wheels/c8/a8/46/2900a0845e7992a317eca9ba18e55d47c03ccc4e80d6a37e73\n  Building wheel for dash-renderer (setup.py) ... \u001b[?25ldone\n\u001b[?25h  Created wheel for dash-renderer: filename=dash_renderer-1.8.3-py3-none-any.whl size=1013945 sha256=b81c00b4af56df85600d9b8a88cdede03ac9b3eb0a1e526a2dd3a9315fbb706c\n  Stored in directory: /root/.cache/pip/wheels/71/17/b0/8bebc086e55a01cf4036902b6ca05fce3fb4c7fd48dbd07717\n  Building wheel for dash-table (setup.py) ... \u001b[?25ldone\n\u001b[?25h  Created wheel for dash-table: filename=dash_table-4.11.0-py3-none-any.whl size=1839767 sha256=3971023ac10ce201c4f73228caf71f5977ddd1b79ae0c867927b4f5992f6deee\n  Stored in directory: /root/.cache/pip/wheels/9f/db/79/5701e1753b0e5fb306a7198056308f759963c63fa41515d807\n  Building wheel for shap (setup.py) ... \u001b[?25ldone\n\u001b[?25h  Created wheel for shap: filename=shap-0.37.0-cp37-cp37m-linux_x86_64.whl size=385597 sha256=2fb1a8eea0c3d65cc5d19f134d8983fbe6725c150c679e48ccf9a518023eac2a\n  Stored in directory: /root/.cache/pip/wheels/df/b8/18/2c0a6105152e62dd9a7cf47b5110b9cedb0c8739babdef64b7\n  Building wheel for black (PEP 517) ... \u001b[?25ldone\n\u001b[?25h  Created wheel for black: filename=black-20.8b1-py3-none-any.whl size=124184 sha256=82a031b2433c76765243e69e15fa769a36d8f38d3255bc3f45d1f092530c202f\n  Stored in directory: /root/.cache/pip/wheels/c5/85/79/f3af8daaf8037c0bf14beb3b7a1511a39b6e6902ca2aaf494e\nSuccessfully built dash dash-bootstrap-components dash-core-components dash-daq dash-html-components dash-renderer dash-table shap black\nInstalling collected packages: itsdangerous, Flask, brotli, typed-ast, textwrap3, plotly, pathspec, llvmlite, flask-compress, dash-table, dash-renderer, dash-html-components, dash-core-components, tenacity, slicer, numba, dash, black, ansiwrap, shap, papermill, dash-daq, dash-bootstrap-components, shapash\n  Attempting uninstall: plotly\n    Found existing installation: plotly 4.14.3\n    Not uninstalling plotly at /shared-libs/python3.7/py/lib/python3.7/site-packages, outside environment /root/venv\n    Can't uninstall 'plotly'. No files were found to uninstall.\nSuccessfully installed Flask-1.1.2 ansiwrap-0.8.4 black-20.8b1 brotli-1.0.9 dash-1.17.0 dash-bootstrap-components-0.9.1 dash-core-components-1.13.0 dash-daq-0.5.0 dash-html-components-1.1.1 dash-renderer-1.8.3 dash-table-4.11.0 flask-compress-1.9.0 itsdangerous-1.1.0 llvmlite-0.34.0 numba-0.51.2 papermill-2.3.2 pathspec-0.8.1 plotly-4.12.0 shap-0.37.0 shapash-1.3.2 slicer-0.0.3 tenacity-7.0.0 textwrap3-0.9.2 typed-ast-1.4.3\n",
          "output_type": "stream"
        }
      ]
    },
    {
      "cell_type": "markdown",
      "source": "<a style='text-decoration:none;line-height:16px;display:flex;color:#5B5B62;padding:10px;justify-content:end;' href='https://deepnote.com?utm_source=created-in-deepnote-cell&projectId=1442ade7-abc1-429d-8ebd-2e3a1e62d121' target=\"_blank\">\n<img alt='Created in deepnote.com' style='display:inline;max-height:16px;margin:0px;margin-right:7.5px;' src='data:image/svg+xml;base64,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' > </img>\nCreated in <span style='font-weight:600;margin-left:4px;'>Deepnote</span></a>",
      "metadata": {
        "tags": [],
        "created_in_deepnote_cell": true,
        "deepnote_cell_type": "markdown"
      }
    }
  ],
  "nbformat": 4,
  "nbformat_minor": 2,
  "metadata": {
    "orig_nbformat": 2,
    "deepnote": {
      "is_reactive": false
    },
    "deepnote_notebook_id": "1b3c95f3-eb1b-47a5-a3f8-bdc5eee5a34e",
    "deepnote_execution_queue": []
  }
}